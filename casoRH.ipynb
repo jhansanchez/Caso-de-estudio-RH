{
 "cells": [
  {
   "cell_type": "markdown",
   "metadata": {},
   "source": [
    "## Data ingestion"
   ]
  },
  {
   "cell_type": "code",
   "execution_count": 114,
   "metadata": {},
   "outputs": [],
   "source": [
    "#importación de librerías\n",
    "import pandas as pd\n",
    "import numpy as np\n",
    "import plotly.express as px\n",
    "import plotly.graph_objs as go\n",
    "import seaborn as sns\n"
   ]
  },
  {
   "cell_type": "code",
   "execution_count": 56,
   "metadata": {},
   "outputs": [],
   "source": [
    "### Cargar tablas de datos desde github ###\n",
    "retirement_info ='https://raw.githubusercontent.com/jhansanchez/casome/main/datos/retirement_info.csv'\n",
    "general_data= 'https://raw.githubusercontent.com/jhansanchez/casome/main/datos/general_data.csv'\n",
    "employee_survey_data ='https://raw.githubusercontent.com/jhansanchez/casome/main/datos/employee_survey_data.csv'\n",
    "out_time = 'https://raw.githubusercontent.com/jhansanchez/casome/main/datos/out_time.csv'\n",
    "in_time = 'https://raw.githubusercontent.com/jhansanchez/casome/main/datos/in_time.csv'\n",
    "manager_survey_data ='https://raw.githubusercontent.com/jhansanchez/casome/main/datos/manager_survey_data.csv'"
   ]
  },
  {
   "cell_type": "code",
   "execution_count": 57,
   "metadata": {},
   "outputs": [],
   "source": [
    "df_general = pd.read_csv(general_data) # datos generales de los empleados\n",
    "df_manager_s = pd.read_csv(manager_survey_data) #encuesta del gerente de desempeño de los empleados\n",
    "df_retirement = pd.read_csv(retirement_info) # información de empleados que se retiran de la empresa\n",
    "df_employee_s = pd.read_csv(employee_survey_data) # encuesta de los empleados nivel de satisfacción laboral\n",
    "df_in= pd.read_csv(in_time) # el horario de ingreso de cada empleado\n",
    "df_out= pd.read_csv(out_time) # el horario de salida de cada empleado "
   ]
  },
  {
   "cell_type": "code",
   "execution_count": 58,
   "metadata": {},
   "outputs": [
    {
     "data": {
      "text/html": [
       "<div>\n",
       "<style scoped>\n",
       "    .dataframe tbody tr th:only-of-type {\n",
       "        vertical-align: middle;\n",
       "    }\n",
       "\n",
       "    .dataframe tbody tr th {\n",
       "        vertical-align: top;\n",
       "    }\n",
       "\n",
       "    .dataframe thead th {\n",
       "        text-align: right;\n",
       "    }\n",
       "</style>\n",
       "<table border=\"1\" class=\"dataframe\">\n",
       "  <thead>\n",
       "    <tr style=\"text-align: right;\">\n",
       "      <th></th>\n",
       "      <th>EmployeeID</th>\n",
       "      <th>JobInvolvement</th>\n",
       "      <th>PerformanceRating</th>\n",
       "    </tr>\n",
       "  </thead>\n",
       "  <tbody>\n",
       "    <tr>\n",
       "      <th>0</th>\n",
       "      <td>1</td>\n",
       "      <td>3</td>\n",
       "      <td>3</td>\n",
       "    </tr>\n",
       "    <tr>\n",
       "      <th>1</th>\n",
       "      <td>2</td>\n",
       "      <td>2</td>\n",
       "      <td>4</td>\n",
       "    </tr>\n",
       "    <tr>\n",
       "      <th>2</th>\n",
       "      <td>3</td>\n",
       "      <td>3</td>\n",
       "      <td>3</td>\n",
       "    </tr>\n",
       "    <tr>\n",
       "      <th>3</th>\n",
       "      <td>4</td>\n",
       "      <td>2</td>\n",
       "      <td>3</td>\n",
       "    </tr>\n",
       "    <tr>\n",
       "      <th>4</th>\n",
       "      <td>5</td>\n",
       "      <td>3</td>\n",
       "      <td>3</td>\n",
       "    </tr>\n",
       "  </tbody>\n",
       "</table>\n",
       "</div>"
      ],
      "text/plain": [
       "   EmployeeID  JobInvolvement  PerformanceRating\n",
       "0           1               3                  3\n",
       "1           2               2                  4\n",
       "2           3               3                  3\n",
       "3           4               2                  3\n",
       "4           5               3                  3"
      ]
     },
     "execution_count": 58,
     "metadata": {},
     "output_type": "execute_result"
    }
   ],
   "source": [
    "df_manager_s.head(5)\n"
   ]
  },
  {
   "cell_type": "code",
   "execution_count": 59,
   "metadata": {},
   "outputs": [
    {
     "data": {
      "text/html": [
       "<div>\n",
       "<style scoped>\n",
       "    .dataframe tbody tr th:only-of-type {\n",
       "        vertical-align: middle;\n",
       "    }\n",
       "\n",
       "    .dataframe tbody tr th {\n",
       "        vertical-align: top;\n",
       "    }\n",
       "\n",
       "    .dataframe thead th {\n",
       "        text-align: right;\n",
       "    }\n",
       "</style>\n",
       "<table border=\"1\" class=\"dataframe\">\n",
       "  <thead>\n",
       "    <tr style=\"text-align: right;\">\n",
       "      <th></th>\n",
       "      <th>EmployeeID</th>\n",
       "      <th>EnvironmentSatisfaction</th>\n",
       "      <th>JobSatisfaction</th>\n",
       "      <th>WorkLifeBalance</th>\n",
       "    </tr>\n",
       "  </thead>\n",
       "  <tbody>\n",
       "    <tr>\n",
       "      <th>0</th>\n",
       "      <td>1</td>\n",
       "      <td>3.0</td>\n",
       "      <td>4.0</td>\n",
       "      <td>2.0</td>\n",
       "    </tr>\n",
       "    <tr>\n",
       "      <th>1</th>\n",
       "      <td>2</td>\n",
       "      <td>3.0</td>\n",
       "      <td>2.0</td>\n",
       "      <td>4.0</td>\n",
       "    </tr>\n",
       "    <tr>\n",
       "      <th>2</th>\n",
       "      <td>3</td>\n",
       "      <td>2.0</td>\n",
       "      <td>2.0</td>\n",
       "      <td>1.0</td>\n",
       "    </tr>\n",
       "    <tr>\n",
       "      <th>3</th>\n",
       "      <td>4</td>\n",
       "      <td>4.0</td>\n",
       "      <td>4.0</td>\n",
       "      <td>3.0</td>\n",
       "    </tr>\n",
       "    <tr>\n",
       "      <th>4</th>\n",
       "      <td>5</td>\n",
       "      <td>4.0</td>\n",
       "      <td>1.0</td>\n",
       "      <td>3.0</td>\n",
       "    </tr>\n",
       "  </tbody>\n",
       "</table>\n",
       "</div>"
      ],
      "text/plain": [
       "   EmployeeID  EnvironmentSatisfaction  JobSatisfaction  WorkLifeBalance\n",
       "0           1                      3.0              4.0              2.0\n",
       "1           2                      3.0              2.0              4.0\n",
       "2           3                      2.0              2.0              1.0\n",
       "3           4                      4.0              4.0              3.0\n",
       "4           5                      4.0              1.0              3.0"
      ]
     },
     "execution_count": 59,
     "metadata": {},
     "output_type": "execute_result"
    }
   ],
   "source": [
    "df_employee_s.head(5)"
   ]
  },
  {
   "cell_type": "code",
   "execution_count": 60,
   "metadata": {},
   "outputs": [
    {
     "data": {
      "text/html": [
       "<div>\n",
       "<style scoped>\n",
       "    .dataframe tbody tr th:only-of-type {\n",
       "        vertical-align: middle;\n",
       "    }\n",
       "\n",
       "    .dataframe tbody tr th {\n",
       "        vertical-align: top;\n",
       "    }\n",
       "\n",
       "    .dataframe thead th {\n",
       "        text-align: right;\n",
       "    }\n",
       "</style>\n",
       "<table border=\"1\" class=\"dataframe\">\n",
       "  <thead>\n",
       "    <tr style=\"text-align: right;\">\n",
       "      <th></th>\n",
       "      <th>Age</th>\n",
       "      <th>BusinessTravel</th>\n",
       "      <th>Department</th>\n",
       "      <th>DistanceFromHome</th>\n",
       "      <th>Education</th>\n",
       "      <th>EducationField</th>\n",
       "      <th>EmployeeCount</th>\n",
       "      <th>EmployeeID</th>\n",
       "      <th>Gender</th>\n",
       "      <th>JobLevel</th>\n",
       "      <th>...</th>\n",
       "      <th>NumCompaniesWorked</th>\n",
       "      <th>Over18</th>\n",
       "      <th>PercentSalaryHike</th>\n",
       "      <th>StandardHours</th>\n",
       "      <th>StockOptionLevel</th>\n",
       "      <th>TotalWorkingYears</th>\n",
       "      <th>TrainingTimesLastYear</th>\n",
       "      <th>YearsAtCompany</th>\n",
       "      <th>YearsSinceLastPromotion</th>\n",
       "      <th>YearsWithCurrManager</th>\n",
       "    </tr>\n",
       "  </thead>\n",
       "  <tbody>\n",
       "    <tr>\n",
       "      <th>0</th>\n",
       "      <td>51</td>\n",
       "      <td>Travel_Rarely</td>\n",
       "      <td>Sales</td>\n",
       "      <td>6</td>\n",
       "      <td>2</td>\n",
       "      <td>Life Sciences</td>\n",
       "      <td>1</td>\n",
       "      <td>1</td>\n",
       "      <td>Female</td>\n",
       "      <td>1</td>\n",
       "      <td>...</td>\n",
       "      <td>1.0</td>\n",
       "      <td>Y</td>\n",
       "      <td>11</td>\n",
       "      <td>8</td>\n",
       "      <td>0</td>\n",
       "      <td>1.0</td>\n",
       "      <td>6</td>\n",
       "      <td>1</td>\n",
       "      <td>0</td>\n",
       "      <td>0</td>\n",
       "    </tr>\n",
       "    <tr>\n",
       "      <th>1</th>\n",
       "      <td>31</td>\n",
       "      <td>Travel_Frequently</td>\n",
       "      <td>Research &amp; Development</td>\n",
       "      <td>10</td>\n",
       "      <td>1</td>\n",
       "      <td>Life Sciences</td>\n",
       "      <td>1</td>\n",
       "      <td>2</td>\n",
       "      <td>Female</td>\n",
       "      <td>1</td>\n",
       "      <td>...</td>\n",
       "      <td>0.0</td>\n",
       "      <td>Y</td>\n",
       "      <td>23</td>\n",
       "      <td>8</td>\n",
       "      <td>1</td>\n",
       "      <td>6.0</td>\n",
       "      <td>3</td>\n",
       "      <td>5</td>\n",
       "      <td>1</td>\n",
       "      <td>4</td>\n",
       "    </tr>\n",
       "    <tr>\n",
       "      <th>2</th>\n",
       "      <td>32</td>\n",
       "      <td>Travel_Frequently</td>\n",
       "      <td>Research &amp; Development</td>\n",
       "      <td>17</td>\n",
       "      <td>4</td>\n",
       "      <td>Other</td>\n",
       "      <td>1</td>\n",
       "      <td>3</td>\n",
       "      <td>Male</td>\n",
       "      <td>4</td>\n",
       "      <td>...</td>\n",
       "      <td>1.0</td>\n",
       "      <td>Y</td>\n",
       "      <td>15</td>\n",
       "      <td>8</td>\n",
       "      <td>3</td>\n",
       "      <td>5.0</td>\n",
       "      <td>2</td>\n",
       "      <td>5</td>\n",
       "      <td>0</td>\n",
       "      <td>3</td>\n",
       "    </tr>\n",
       "    <tr>\n",
       "      <th>3</th>\n",
       "      <td>38</td>\n",
       "      <td>Non-Travel</td>\n",
       "      <td>Research &amp; Development</td>\n",
       "      <td>2</td>\n",
       "      <td>5</td>\n",
       "      <td>Life Sciences</td>\n",
       "      <td>1</td>\n",
       "      <td>4</td>\n",
       "      <td>Male</td>\n",
       "      <td>3</td>\n",
       "      <td>...</td>\n",
       "      <td>3.0</td>\n",
       "      <td>Y</td>\n",
       "      <td>11</td>\n",
       "      <td>8</td>\n",
       "      <td>3</td>\n",
       "      <td>13.0</td>\n",
       "      <td>5</td>\n",
       "      <td>8</td>\n",
       "      <td>7</td>\n",
       "      <td>5</td>\n",
       "    </tr>\n",
       "    <tr>\n",
       "      <th>4</th>\n",
       "      <td>32</td>\n",
       "      <td>Travel_Rarely</td>\n",
       "      <td>Research &amp; Development</td>\n",
       "      <td>10</td>\n",
       "      <td>1</td>\n",
       "      <td>Medical</td>\n",
       "      <td>1</td>\n",
       "      <td>5</td>\n",
       "      <td>Male</td>\n",
       "      <td>1</td>\n",
       "      <td>...</td>\n",
       "      <td>4.0</td>\n",
       "      <td>Y</td>\n",
       "      <td>12</td>\n",
       "      <td>8</td>\n",
       "      <td>2</td>\n",
       "      <td>9.0</td>\n",
       "      <td>2</td>\n",
       "      <td>6</td>\n",
       "      <td>0</td>\n",
       "      <td>4</td>\n",
       "    </tr>\n",
       "  </tbody>\n",
       "</table>\n",
       "<p>5 rows × 23 columns</p>\n",
       "</div>"
      ],
      "text/plain": [
       "   Age     BusinessTravel              Department  DistanceFromHome  \\\n",
       "0   51      Travel_Rarely                   Sales                 6   \n",
       "1   31  Travel_Frequently  Research & Development                10   \n",
       "2   32  Travel_Frequently  Research & Development                17   \n",
       "3   38         Non-Travel  Research & Development                 2   \n",
       "4   32      Travel_Rarely  Research & Development                10   \n",
       "\n",
       "   Education EducationField  EmployeeCount  EmployeeID  Gender  JobLevel  ...  \\\n",
       "0          2  Life Sciences              1           1  Female         1  ...   \n",
       "1          1  Life Sciences              1           2  Female         1  ...   \n",
       "2          4          Other              1           3    Male         4  ...   \n",
       "3          5  Life Sciences              1           4    Male         3  ...   \n",
       "4          1        Medical              1           5    Male         1  ...   \n",
       "\n",
       "  NumCompaniesWorked Over18  PercentSalaryHike  StandardHours  \\\n",
       "0                1.0      Y                 11              8   \n",
       "1                0.0      Y                 23              8   \n",
       "2                1.0      Y                 15              8   \n",
       "3                3.0      Y                 11              8   \n",
       "4                4.0      Y                 12              8   \n",
       "\n",
       "  StockOptionLevel  TotalWorkingYears  TrainingTimesLastYear  YearsAtCompany  \\\n",
       "0                0                1.0                      6               1   \n",
       "1                1                6.0                      3               5   \n",
       "2                3                5.0                      2               5   \n",
       "3                3               13.0                      5               8   \n",
       "4                2                9.0                      2               6   \n",
       "\n",
       "   YearsSinceLastPromotion  YearsWithCurrManager  \n",
       "0                        0                     0  \n",
       "1                        1                     4  \n",
       "2                        0                     3  \n",
       "3                        7                     5  \n",
       "4                        0                     4  \n",
       "\n",
       "[5 rows x 23 columns]"
      ]
     },
     "execution_count": 60,
     "metadata": {},
     "output_type": "execute_result"
    }
   ],
   "source": [
    "df_general.head(5)"
   ]
  },
  {
   "cell_type": "code",
   "execution_count": 61,
   "metadata": {},
   "outputs": [
    {
     "data": {
      "text/plain": [
       "8    4410\n",
       "Name: StandardHours, dtype: int64"
      ]
     },
     "execution_count": 61,
     "metadata": {},
     "output_type": "execute_result"
    }
   ],
   "source": [
    "df_general['StandardHours'].value_counts()"
   ]
  },
  {
   "cell_type": "code",
   "execution_count": 62,
   "metadata": {},
   "outputs": [
    {
     "data": {
      "text/html": [
       "<div>\n",
       "<style scoped>\n",
       "    .dataframe tbody tr th:only-of-type {\n",
       "        vertical-align: middle;\n",
       "    }\n",
       "\n",
       "    .dataframe tbody tr th {\n",
       "        vertical-align: top;\n",
       "    }\n",
       "\n",
       "    .dataframe thead th {\n",
       "        text-align: right;\n",
       "    }\n",
       "</style>\n",
       "<table border=\"1\" class=\"dataframe\">\n",
       "  <thead>\n",
       "    <tr style=\"text-align: right;\">\n",
       "      <th></th>\n",
       "      <th>EmployeeID</th>\n",
       "      <th>Attrition</th>\n",
       "      <th>retirementDate</th>\n",
       "      <th>retirementType</th>\n",
       "      <th>resignationReason</th>\n",
       "    </tr>\n",
       "  </thead>\n",
       "  <tbody>\n",
       "    <tr>\n",
       "      <th>0</th>\n",
       "      <td>2</td>\n",
       "      <td>Yes</td>\n",
       "      <td>15/10/2016</td>\n",
       "      <td>Resignation</td>\n",
       "      <td>Others</td>\n",
       "    </tr>\n",
       "    <tr>\n",
       "      <th>1</th>\n",
       "      <td>7</td>\n",
       "      <td>Yes</td>\n",
       "      <td>20/7/2016</td>\n",
       "      <td>Resignation</td>\n",
       "      <td>Stress</td>\n",
       "    </tr>\n",
       "    <tr>\n",
       "      <th>2</th>\n",
       "      <td>14</td>\n",
       "      <td>Yes</td>\n",
       "      <td>8/11/2016</td>\n",
       "      <td>Resignation</td>\n",
       "      <td>Others</td>\n",
       "    </tr>\n",
       "    <tr>\n",
       "      <th>3</th>\n",
       "      <td>29</td>\n",
       "      <td>Yes</td>\n",
       "      <td>15/10/2016</td>\n",
       "      <td>Resignation</td>\n",
       "      <td>Others</td>\n",
       "    </tr>\n",
       "    <tr>\n",
       "      <th>4</th>\n",
       "      <td>31</td>\n",
       "      <td>Yes</td>\n",
       "      <td>8/2/2016</td>\n",
       "      <td>Resignation</td>\n",
       "      <td>Salary</td>\n",
       "    </tr>\n",
       "  </tbody>\n",
       "</table>\n",
       "</div>"
      ],
      "text/plain": [
       "   EmployeeID Attrition retirementDate retirementType resignationReason\n",
       "0           2       Yes     15/10/2016    Resignation            Others\n",
       "1           7       Yes      20/7/2016    Resignation            Stress\n",
       "2          14       Yes      8/11/2016    Resignation            Others\n",
       "3          29       Yes     15/10/2016    Resignation            Others\n",
       "4          31       Yes       8/2/2016    Resignation            Salary"
      ]
     },
     "execution_count": 62,
     "metadata": {},
     "output_type": "execute_result"
    }
   ],
   "source": [
    "df_retirement.head(5)"
   ]
  },
  {
   "cell_type": "code",
   "execution_count": 63,
   "metadata": {},
   "outputs": [
    {
     "data": {
      "text/html": [
       "<div>\n",
       "<style scoped>\n",
       "    .dataframe tbody tr th:only-of-type {\n",
       "        vertical-align: middle;\n",
       "    }\n",
       "\n",
       "    .dataframe tbody tr th {\n",
       "        vertical-align: top;\n",
       "    }\n",
       "\n",
       "    .dataframe thead th {\n",
       "        text-align: right;\n",
       "    }\n",
       "</style>\n",
       "<table border=\"1\" class=\"dataframe\">\n",
       "  <thead>\n",
       "    <tr style=\"text-align: right;\">\n",
       "      <th></th>\n",
       "      <th>Unnamed: 0</th>\n",
       "      <th>1/1/2015</th>\n",
       "      <th>2/1/2015</th>\n",
       "      <th>5/1/2015</th>\n",
       "      <th>6/1/2015</th>\n",
       "      <th>7/1/2015</th>\n",
       "      <th>8/1/2015</th>\n",
       "      <th>9/1/2015</th>\n",
       "      <th>12/1/2015</th>\n",
       "      <th>13/1/2015</th>\n",
       "      <th>...</th>\n",
       "      <th>18/12/2015</th>\n",
       "      <th>21/12/2015</th>\n",
       "      <th>22/12/2015</th>\n",
       "      <th>23/12/2015</th>\n",
       "      <th>24/12/2015</th>\n",
       "      <th>25/12/2015</th>\n",
       "      <th>28/12/2015</th>\n",
       "      <th>29/12/2015</th>\n",
       "      <th>30/12/2015</th>\n",
       "      <th>31/12/2015</th>\n",
       "    </tr>\n",
       "  </thead>\n",
       "  <tbody>\n",
       "    <tr>\n",
       "      <th>0</th>\n",
       "      <td>1</td>\n",
       "      <td>NaN</td>\n",
       "      <td>1/2/15 9:43</td>\n",
       "      <td>1/5/15 10:08</td>\n",
       "      <td>1/6/15 9:54</td>\n",
       "      <td>1/7/15 9:34</td>\n",
       "      <td>1/8/15 9:51</td>\n",
       "      <td>1/9/15 10:09</td>\n",
       "      <td>1/12/15 9:42</td>\n",
       "      <td>1/13/15 10:13</td>\n",
       "      <td>...</td>\n",
       "      <td>NaN</td>\n",
       "      <td>12/21/15 9:55</td>\n",
       "      <td>12/22/15 10:04</td>\n",
       "      <td>12/23/15 10:14</td>\n",
       "      <td>12/24/15 10:11</td>\n",
       "      <td>NaN</td>\n",
       "      <td>12/28/15 10:13</td>\n",
       "      <td>12/29/15 10:03</td>\n",
       "      <td>12/30/15 9:54</td>\n",
       "      <td>12/31/15 10:12</td>\n",
       "    </tr>\n",
       "    <tr>\n",
       "      <th>1</th>\n",
       "      <td>2</td>\n",
       "      <td>NaN</td>\n",
       "      <td>1/2/15 10:15</td>\n",
       "      <td>1/5/15 10:21</td>\n",
       "      <td>NaN</td>\n",
       "      <td>1/7/15 9:45</td>\n",
       "      <td>1/8/15 10:09</td>\n",
       "      <td>1/9/15 9:43</td>\n",
       "      <td>1/12/15 10:00</td>\n",
       "      <td>1/13/15 10:43</td>\n",
       "      <td>...</td>\n",
       "      <td>12/18/15 10:37</td>\n",
       "      <td>12/21/15 9:49</td>\n",
       "      <td>12/22/15 10:33</td>\n",
       "      <td>12/23/15 10:12</td>\n",
       "      <td>NaN</td>\n",
       "      <td>NaN</td>\n",
       "      <td>12/28/15 9:31</td>\n",
       "      <td>12/29/15 9:55</td>\n",
       "      <td>12/30/15 10:32</td>\n",
       "      <td>12/31/15 9:27</td>\n",
       "    </tr>\n",
       "    <tr>\n",
       "      <th>2</th>\n",
       "      <td>3</td>\n",
       "      <td>NaN</td>\n",
       "      <td>1/2/15 10:17</td>\n",
       "      <td>1/5/15 9:50</td>\n",
       "      <td>1/6/15 10:14</td>\n",
       "      <td>1/7/15 9:47</td>\n",
       "      <td>1/8/15 10:03</td>\n",
       "      <td>1/9/15 10:05</td>\n",
       "      <td>1/12/15 10:03</td>\n",
       "      <td>1/13/15 10:21</td>\n",
       "      <td>...</td>\n",
       "      <td>12/18/15 10:15</td>\n",
       "      <td>12/21/15 10:10</td>\n",
       "      <td>12/22/15 9:44</td>\n",
       "      <td>12/23/15 10:15</td>\n",
       "      <td>12/24/15 10:07</td>\n",
       "      <td>NaN</td>\n",
       "      <td>12/28/15 9:42</td>\n",
       "      <td>12/29/15 9:43</td>\n",
       "      <td>12/30/15 9:34</td>\n",
       "      <td>12/31/15 10:28</td>\n",
       "    </tr>\n",
       "    <tr>\n",
       "      <th>3</th>\n",
       "      <td>4</td>\n",
       "      <td>NaN</td>\n",
       "      <td>1/2/15 10:05</td>\n",
       "      <td>1/5/15 9:56</td>\n",
       "      <td>1/6/15 10:11</td>\n",
       "      <td>1/7/15 9:37</td>\n",
       "      <td>1/8/15 10:02</td>\n",
       "      <td>1/9/15 10:08</td>\n",
       "      <td>1/12/15 10:13</td>\n",
       "      <td>1/13/15 9:53</td>\n",
       "      <td>...</td>\n",
       "      <td>12/18/15 10:17</td>\n",
       "      <td>12/21/15 9:58</td>\n",
       "      <td>12/22/15 10:04</td>\n",
       "      <td>12/23/15 10:11</td>\n",
       "      <td>12/24/15 9:43</td>\n",
       "      <td>NaN</td>\n",
       "      <td>12/28/15 9:52</td>\n",
       "      <td>12/29/15 9:33</td>\n",
       "      <td>12/30/15 10:18</td>\n",
       "      <td>12/31/15 10:01</td>\n",
       "    </tr>\n",
       "    <tr>\n",
       "      <th>4</th>\n",
       "      <td>5</td>\n",
       "      <td>NaN</td>\n",
       "      <td>1/2/15 10:28</td>\n",
       "      <td>1/5/15 9:49</td>\n",
       "      <td>1/6/15 9:45</td>\n",
       "      <td>1/7/15 9:49</td>\n",
       "      <td>1/8/15 10:19</td>\n",
       "      <td>1/9/15 10:00</td>\n",
       "      <td>1/12/15 10:29</td>\n",
       "      <td>1/13/15 9:59</td>\n",
       "      <td>...</td>\n",
       "      <td>12/18/15 9:58</td>\n",
       "      <td>12/21/15 10:03</td>\n",
       "      <td>12/22/15 10:10</td>\n",
       "      <td>12/23/15 10:13</td>\n",
       "      <td>12/24/15 9:44</td>\n",
       "      <td>NaN</td>\n",
       "      <td>12/28/15 10:05</td>\n",
       "      <td>12/29/15 10:30</td>\n",
       "      <td>12/30/15 9:18</td>\n",
       "      <td>12/31/15 9:41</td>\n",
       "    </tr>\n",
       "    <tr>\n",
       "      <th>...</th>\n",
       "      <td>...</td>\n",
       "      <td>...</td>\n",
       "      <td>...</td>\n",
       "      <td>...</td>\n",
       "      <td>...</td>\n",
       "      <td>...</td>\n",
       "      <td>...</td>\n",
       "      <td>...</td>\n",
       "      <td>...</td>\n",
       "      <td>...</td>\n",
       "      <td>...</td>\n",
       "      <td>...</td>\n",
       "      <td>...</td>\n",
       "      <td>...</td>\n",
       "      <td>...</td>\n",
       "      <td>...</td>\n",
       "      <td>...</td>\n",
       "      <td>...</td>\n",
       "      <td>...</td>\n",
       "      <td>...</td>\n",
       "      <td>...</td>\n",
       "    </tr>\n",
       "    <tr>\n",
       "      <th>4405</th>\n",
       "      <td>4406</td>\n",
       "      <td>NaN</td>\n",
       "      <td>1/2/15 9:20</td>\n",
       "      <td>1/5/15 10:17</td>\n",
       "      <td>1/6/15 10:26</td>\n",
       "      <td>1/7/15 10:06</td>\n",
       "      <td>1/8/15 9:45</td>\n",
       "      <td>1/9/15 9:49</td>\n",
       "      <td>1/12/15 9:37</td>\n",
       "      <td>1/13/15 9:25</td>\n",
       "      <td>...</td>\n",
       "      <td>12/18/15 10:01</td>\n",
       "      <td>12/21/15 10:25</td>\n",
       "      <td>12/22/15 10:16</td>\n",
       "      <td>12/23/15 10:04</td>\n",
       "      <td>12/24/15 9:45</td>\n",
       "      <td>NaN</td>\n",
       "      <td>12/28/15 10:15</td>\n",
       "      <td>12/29/15 10:10</td>\n",
       "      <td>12/30/15 9:28</td>\n",
       "      <td>12/31/15 10:00</td>\n",
       "    </tr>\n",
       "    <tr>\n",
       "      <th>4406</th>\n",
       "      <td>4407</td>\n",
       "      <td>NaN</td>\n",
       "      <td>1/2/15 10:03</td>\n",
       "      <td>NaN</td>\n",
       "      <td>1/6/15 9:44</td>\n",
       "      <td>1/7/15 9:42</td>\n",
       "      <td>1/8/15 10:00</td>\n",
       "      <td>1/9/15 9:44</td>\n",
       "      <td>1/12/15 10:07</td>\n",
       "      <td>1/13/15 10:05</td>\n",
       "      <td>...</td>\n",
       "      <td>12/18/15 9:27</td>\n",
       "      <td>12/21/15 9:41</td>\n",
       "      <td>12/22/15 9:50</td>\n",
       "      <td>12/23/15 10:32</td>\n",
       "      <td>12/24/15 9:47</td>\n",
       "      <td>NaN</td>\n",
       "      <td>12/28/15 9:54</td>\n",
       "      <td>12/29/15 10:13</td>\n",
       "      <td>12/30/15 10:21</td>\n",
       "      <td>12/31/15 10:09</td>\n",
       "    </tr>\n",
       "    <tr>\n",
       "      <th>4407</th>\n",
       "      <td>4408</td>\n",
       "      <td>NaN</td>\n",
       "      <td>1/2/15 10:01</td>\n",
       "      <td>1/5/15 9:33</td>\n",
       "      <td>1/6/15 9:49</td>\n",
       "      <td>1/7/15 10:28</td>\n",
       "      <td>1/8/15 9:47</td>\n",
       "      <td>1/9/15 10:01</td>\n",
       "      <td>1/12/15 9:49</td>\n",
       "      <td>1/13/15 9:47</td>\n",
       "      <td>...</td>\n",
       "      <td>12/18/15 10:00</td>\n",
       "      <td>12/21/15 9:51</td>\n",
       "      <td>12/22/15 10:02</td>\n",
       "      <td>12/23/15 9:58</td>\n",
       "      <td>12/24/15 9:56</td>\n",
       "      <td>NaN</td>\n",
       "      <td>12/28/15 9:59</td>\n",
       "      <td>NaN</td>\n",
       "      <td>12/30/15 10:02</td>\n",
       "      <td>12/31/15 10:03</td>\n",
       "    </tr>\n",
       "    <tr>\n",
       "      <th>4408</th>\n",
       "      <td>4409</td>\n",
       "      <td>NaN</td>\n",
       "      <td>1/2/15 10:17</td>\n",
       "      <td>1/5/15 10:02</td>\n",
       "      <td>1/6/15 10:12</td>\n",
       "      <td>1/7/15 10:12</td>\n",
       "      <td>1/8/15 9:42</td>\n",
       "      <td>NaN</td>\n",
       "      <td>1/12/15 10:00</td>\n",
       "      <td>1/13/15 9:48</td>\n",
       "      <td>...</td>\n",
       "      <td>12/18/15 9:54</td>\n",
       "      <td>12/21/15 10:01</td>\n",
       "      <td>12/22/15 10:10</td>\n",
       "      <td>12/23/15 9:42</td>\n",
       "      <td>12/24/15 9:56</td>\n",
       "      <td>NaN</td>\n",
       "      <td>12/28/15 9:55</td>\n",
       "      <td>12/29/15 9:54</td>\n",
       "      <td>12/30/15 10:15</td>\n",
       "      <td>12/31/15 9:56</td>\n",
       "    </tr>\n",
       "    <tr>\n",
       "      <th>4409</th>\n",
       "      <td>4410</td>\n",
       "      <td>NaN</td>\n",
       "      <td>1/2/15 9:59</td>\n",
       "      <td>1/5/15 10:16</td>\n",
       "      <td>1/6/15 9:52</td>\n",
       "      <td>1/7/15 9:43</td>\n",
       "      <td>1/8/15 10:06</td>\n",
       "      <td>1/9/15 10:27</td>\n",
       "      <td>1/12/15 9:47</td>\n",
       "      <td>1/13/15 9:30</td>\n",
       "      <td>...</td>\n",
       "      <td>12/18/15 10:20</td>\n",
       "      <td>12/21/15 10:26</td>\n",
       "      <td>NaN</td>\n",
       "      <td>12/23/15 9:53</td>\n",
       "      <td>12/24/15 9:42</td>\n",
       "      <td>NaN</td>\n",
       "      <td>12/28/15 9:41</td>\n",
       "      <td>12/29/15 10:05</td>\n",
       "      <td>12/30/15 10:32</td>\n",
       "      <td>12/31/15 10:09</td>\n",
       "    </tr>\n",
       "  </tbody>\n",
       "</table>\n",
       "<p>4410 rows × 262 columns</p>\n",
       "</div>"
      ],
      "text/plain": [
       "      Unnamed: 0  1/1/2015      2/1/2015      5/1/2015      6/1/2015  \\\n",
       "0              1       NaN   1/2/15 9:43  1/5/15 10:08   1/6/15 9:54   \n",
       "1              2       NaN  1/2/15 10:15  1/5/15 10:21           NaN   \n",
       "2              3       NaN  1/2/15 10:17   1/5/15 9:50  1/6/15 10:14   \n",
       "3              4       NaN  1/2/15 10:05   1/5/15 9:56  1/6/15 10:11   \n",
       "4              5       NaN  1/2/15 10:28   1/5/15 9:49   1/6/15 9:45   \n",
       "...          ...       ...           ...           ...           ...   \n",
       "4405        4406       NaN   1/2/15 9:20  1/5/15 10:17  1/6/15 10:26   \n",
       "4406        4407       NaN  1/2/15 10:03           NaN   1/6/15 9:44   \n",
       "4407        4408       NaN  1/2/15 10:01   1/5/15 9:33   1/6/15 9:49   \n",
       "4408        4409       NaN  1/2/15 10:17  1/5/15 10:02  1/6/15 10:12   \n",
       "4409        4410       NaN   1/2/15 9:59  1/5/15 10:16   1/6/15 9:52   \n",
       "\n",
       "          7/1/2015      8/1/2015      9/1/2015      12/1/2015      13/1/2015  \\\n",
       "0      1/7/15 9:34   1/8/15 9:51  1/9/15 10:09   1/12/15 9:42  1/13/15 10:13   \n",
       "1      1/7/15 9:45  1/8/15 10:09   1/9/15 9:43  1/12/15 10:00  1/13/15 10:43   \n",
       "2      1/7/15 9:47  1/8/15 10:03  1/9/15 10:05  1/12/15 10:03  1/13/15 10:21   \n",
       "3      1/7/15 9:37  1/8/15 10:02  1/9/15 10:08  1/12/15 10:13   1/13/15 9:53   \n",
       "4      1/7/15 9:49  1/8/15 10:19  1/9/15 10:00  1/12/15 10:29   1/13/15 9:59   \n",
       "...            ...           ...           ...            ...            ...   \n",
       "4405  1/7/15 10:06   1/8/15 9:45   1/9/15 9:49   1/12/15 9:37   1/13/15 9:25   \n",
       "4406   1/7/15 9:42  1/8/15 10:00   1/9/15 9:44  1/12/15 10:07  1/13/15 10:05   \n",
       "4407  1/7/15 10:28   1/8/15 9:47  1/9/15 10:01   1/12/15 9:49   1/13/15 9:47   \n",
       "4408  1/7/15 10:12   1/8/15 9:42           NaN  1/12/15 10:00   1/13/15 9:48   \n",
       "4409   1/7/15 9:43  1/8/15 10:06  1/9/15 10:27   1/12/15 9:47   1/13/15 9:30   \n",
       "\n",
       "      ...      18/12/2015      21/12/2015      22/12/2015      23/12/2015  \\\n",
       "0     ...             NaN   12/21/15 9:55  12/22/15 10:04  12/23/15 10:14   \n",
       "1     ...  12/18/15 10:37   12/21/15 9:49  12/22/15 10:33  12/23/15 10:12   \n",
       "2     ...  12/18/15 10:15  12/21/15 10:10   12/22/15 9:44  12/23/15 10:15   \n",
       "3     ...  12/18/15 10:17   12/21/15 9:58  12/22/15 10:04  12/23/15 10:11   \n",
       "4     ...   12/18/15 9:58  12/21/15 10:03  12/22/15 10:10  12/23/15 10:13   \n",
       "...   ...             ...             ...             ...             ...   \n",
       "4405  ...  12/18/15 10:01  12/21/15 10:25  12/22/15 10:16  12/23/15 10:04   \n",
       "4406  ...   12/18/15 9:27   12/21/15 9:41   12/22/15 9:50  12/23/15 10:32   \n",
       "4407  ...  12/18/15 10:00   12/21/15 9:51  12/22/15 10:02   12/23/15 9:58   \n",
       "4408  ...   12/18/15 9:54  12/21/15 10:01  12/22/15 10:10   12/23/15 9:42   \n",
       "4409  ...  12/18/15 10:20  12/21/15 10:26             NaN   12/23/15 9:53   \n",
       "\n",
       "          24/12/2015 25/12/2015      28/12/2015      29/12/2015  \\\n",
       "0     12/24/15 10:11        NaN  12/28/15 10:13  12/29/15 10:03   \n",
       "1                NaN        NaN   12/28/15 9:31   12/29/15 9:55   \n",
       "2     12/24/15 10:07        NaN   12/28/15 9:42   12/29/15 9:43   \n",
       "3      12/24/15 9:43        NaN   12/28/15 9:52   12/29/15 9:33   \n",
       "4      12/24/15 9:44        NaN  12/28/15 10:05  12/29/15 10:30   \n",
       "...              ...        ...             ...             ...   \n",
       "4405   12/24/15 9:45        NaN  12/28/15 10:15  12/29/15 10:10   \n",
       "4406   12/24/15 9:47        NaN   12/28/15 9:54  12/29/15 10:13   \n",
       "4407   12/24/15 9:56        NaN   12/28/15 9:59             NaN   \n",
       "4408   12/24/15 9:56        NaN   12/28/15 9:55   12/29/15 9:54   \n",
       "4409   12/24/15 9:42        NaN   12/28/15 9:41  12/29/15 10:05   \n",
       "\n",
       "          30/12/2015      31/12/2015  \n",
       "0      12/30/15 9:54  12/31/15 10:12  \n",
       "1     12/30/15 10:32   12/31/15 9:27  \n",
       "2      12/30/15 9:34  12/31/15 10:28  \n",
       "3     12/30/15 10:18  12/31/15 10:01  \n",
       "4      12/30/15 9:18   12/31/15 9:41  \n",
       "...              ...             ...  \n",
       "4405   12/30/15 9:28  12/31/15 10:00  \n",
       "4406  12/30/15 10:21  12/31/15 10:09  \n",
       "4407  12/30/15 10:02  12/31/15 10:03  \n",
       "4408  12/30/15 10:15   12/31/15 9:56  \n",
       "4409  12/30/15 10:32  12/31/15 10:09  \n",
       "\n",
       "[4410 rows x 262 columns]"
      ]
     },
     "execution_count": 63,
     "metadata": {},
     "output_type": "execute_result"
    }
   ],
   "source": [
    "df_in\n"
   ]
  },
  {
   "cell_type": "code",
   "execution_count": 64,
   "metadata": {},
   "outputs": [
    {
     "data": {
      "text/html": [
       "<div>\n",
       "<style scoped>\n",
       "    .dataframe tbody tr th:only-of-type {\n",
       "        vertical-align: middle;\n",
       "    }\n",
       "\n",
       "    .dataframe tbody tr th {\n",
       "        vertical-align: top;\n",
       "    }\n",
       "\n",
       "    .dataframe thead th {\n",
       "        text-align: right;\n",
       "    }\n",
       "</style>\n",
       "<table border=\"1\" class=\"dataframe\">\n",
       "  <thead>\n",
       "    <tr style=\"text-align: right;\">\n",
       "      <th></th>\n",
       "      <th>Unnamed: 0</th>\n",
       "      <th>2015-01-01</th>\n",
       "      <th>2015-01-02</th>\n",
       "      <th>2015-01-05</th>\n",
       "      <th>2015-01-06</th>\n",
       "      <th>2015-01-07</th>\n",
       "      <th>2015-01-08</th>\n",
       "      <th>2015-01-09</th>\n",
       "      <th>2015-01-12</th>\n",
       "      <th>2015-01-13</th>\n",
       "      <th>...</th>\n",
       "      <th>2015-12-18</th>\n",
       "      <th>2015-12-21</th>\n",
       "      <th>2015-12-22</th>\n",
       "      <th>2015-12-23</th>\n",
       "      <th>2015-12-24</th>\n",
       "      <th>2015-12-25</th>\n",
       "      <th>2015-12-28</th>\n",
       "      <th>2015-12-29</th>\n",
       "      <th>2015-12-30</th>\n",
       "      <th>2015-12-31</th>\n",
       "    </tr>\n",
       "  </thead>\n",
       "  <tbody>\n",
       "    <tr>\n",
       "      <th>0</th>\n",
       "      <td>1</td>\n",
       "      <td>NaN</td>\n",
       "      <td>2015-01-02 16:56:15</td>\n",
       "      <td>2015-01-05 17:20:11</td>\n",
       "      <td>2015-01-06 17:19:05</td>\n",
       "      <td>2015-01-07 16:34:55</td>\n",
       "      <td>2015-01-08 17:08:32</td>\n",
       "      <td>2015-01-09 17:38:29</td>\n",
       "      <td>2015-01-12 16:58:39</td>\n",
       "      <td>2015-01-13 18:02:58</td>\n",
       "      <td>...</td>\n",
       "      <td>NaN</td>\n",
       "      <td>2015-12-21 17:15:50</td>\n",
       "      <td>2015-12-22 17:27:51</td>\n",
       "      <td>2015-12-23 16:44:44</td>\n",
       "      <td>2015-12-24 17:47:22</td>\n",
       "      <td>NaN</td>\n",
       "      <td>2015-12-28 18:00:07</td>\n",
       "      <td>2015-12-29 17:22:30</td>\n",
       "      <td>2015-12-30 17:40:56</td>\n",
       "      <td>2015-12-31 17:17:33</td>\n",
       "    </tr>\n",
       "    <tr>\n",
       "      <th>1</th>\n",
       "      <td>2</td>\n",
       "      <td>NaN</td>\n",
       "      <td>2015-01-02 18:22:17</td>\n",
       "      <td>2015-01-05 17:48:22</td>\n",
       "      <td>NaN</td>\n",
       "      <td>2015-01-07 17:09:06</td>\n",
       "      <td>2015-01-08 17:34:04</td>\n",
       "      <td>2015-01-09 16:52:29</td>\n",
       "      <td>2015-01-12 17:36:48</td>\n",
       "      <td>2015-01-13 18:00:13</td>\n",
       "      <td>...</td>\n",
       "      <td>2015-12-18 18:31:28</td>\n",
       "      <td>2015-12-21 17:34:16</td>\n",
       "      <td>2015-12-22 18:16:35</td>\n",
       "      <td>2015-12-23 17:38:18</td>\n",
       "      <td>NaN</td>\n",
       "      <td>NaN</td>\n",
       "      <td>2015-12-28 17:08:38</td>\n",
       "      <td>2015-12-29 17:54:46</td>\n",
       "      <td>2015-12-30 18:31:35</td>\n",
       "      <td>2015-12-31 17:40:58</td>\n",
       "    </tr>\n",
       "    <tr>\n",
       "      <th>2</th>\n",
       "      <td>3</td>\n",
       "      <td>NaN</td>\n",
       "      <td>2015-01-02 16:59:14</td>\n",
       "      <td>2015-01-05 17:06:46</td>\n",
       "      <td>2015-01-06 16:38:32</td>\n",
       "      <td>2015-01-07 16:33:21</td>\n",
       "      <td>2015-01-08 17:24:22</td>\n",
       "      <td>2015-01-09 16:57:30</td>\n",
       "      <td>2015-01-12 17:28:54</td>\n",
       "      <td>2015-01-13 17:21:25</td>\n",
       "      <td>...</td>\n",
       "      <td>2015-12-18 17:02:23</td>\n",
       "      <td>2015-12-21 17:20:17</td>\n",
       "      <td>2015-12-22 16:32:50</td>\n",
       "      <td>2015-12-23 16:59:43</td>\n",
       "      <td>2015-12-24 16:58:25</td>\n",
       "      <td>NaN</td>\n",
       "      <td>2015-12-28 16:43:31</td>\n",
       "      <td>2015-12-29 17:09:56</td>\n",
       "      <td>2015-12-30 17:06:25</td>\n",
       "      <td>2015-12-31 17:15:50</td>\n",
       "    </tr>\n",
       "    <tr>\n",
       "      <th>3</th>\n",
       "      <td>4</td>\n",
       "      <td>NaN</td>\n",
       "      <td>2015-01-02 17:25:24</td>\n",
       "      <td>2015-01-05 17:14:03</td>\n",
       "      <td>2015-01-06 17:07:42</td>\n",
       "      <td>2015-01-07 16:32:40</td>\n",
       "      <td>2015-01-08 16:53:11</td>\n",
       "      <td>2015-01-09 17:19:47</td>\n",
       "      <td>2015-01-12 17:13:37</td>\n",
       "      <td>2015-01-13 17:11:45</td>\n",
       "      <td>...</td>\n",
       "      <td>2015-12-18 17:55:23</td>\n",
       "      <td>2015-12-21 16:49:09</td>\n",
       "      <td>2015-12-22 17:24:00</td>\n",
       "      <td>2015-12-23 17:36:35</td>\n",
       "      <td>2015-12-24 16:48:21</td>\n",
       "      <td>NaN</td>\n",
       "      <td>2015-12-28 17:19:34</td>\n",
       "      <td>2015-12-29 16:58:16</td>\n",
       "      <td>2015-12-30 17:40:11</td>\n",
       "      <td>2015-12-31 17:09:14</td>\n",
       "    </tr>\n",
       "    <tr>\n",
       "      <th>4</th>\n",
       "      <td>5</td>\n",
       "      <td>NaN</td>\n",
       "      <td>2015-01-02 18:31:37</td>\n",
       "      <td>2015-01-05 17:49:15</td>\n",
       "      <td>2015-01-06 17:26:25</td>\n",
       "      <td>2015-01-07 17:37:59</td>\n",
       "      <td>2015-01-08 17:59:28</td>\n",
       "      <td>2015-01-09 17:44:08</td>\n",
       "      <td>2015-01-12 18:51:21</td>\n",
       "      <td>2015-01-13 18:14:58</td>\n",
       "      <td>...</td>\n",
       "      <td>2015-12-18 17:52:48</td>\n",
       "      <td>2015-12-21 17:43:35</td>\n",
       "      <td>2015-12-22 18:07:57</td>\n",
       "      <td>2015-12-23 18:00:49</td>\n",
       "      <td>2015-12-24 17:59:22</td>\n",
       "      <td>NaN</td>\n",
       "      <td>2015-12-28 17:44:59</td>\n",
       "      <td>2015-12-29 18:47:00</td>\n",
       "      <td>2015-12-30 17:15:33</td>\n",
       "      <td>2015-12-31 17:42:14</td>\n",
       "    </tr>\n",
       "  </tbody>\n",
       "</table>\n",
       "<p>5 rows × 262 columns</p>\n",
       "</div>"
      ],
      "text/plain": [
       "   Unnamed: 0  2015-01-01           2015-01-02           2015-01-05  \\\n",
       "0           1         NaN  2015-01-02 16:56:15  2015-01-05 17:20:11   \n",
       "1           2         NaN  2015-01-02 18:22:17  2015-01-05 17:48:22   \n",
       "2           3         NaN  2015-01-02 16:59:14  2015-01-05 17:06:46   \n",
       "3           4         NaN  2015-01-02 17:25:24  2015-01-05 17:14:03   \n",
       "4           5         NaN  2015-01-02 18:31:37  2015-01-05 17:49:15   \n",
       "\n",
       "            2015-01-06           2015-01-07           2015-01-08  \\\n",
       "0  2015-01-06 17:19:05  2015-01-07 16:34:55  2015-01-08 17:08:32   \n",
       "1                  NaN  2015-01-07 17:09:06  2015-01-08 17:34:04   \n",
       "2  2015-01-06 16:38:32  2015-01-07 16:33:21  2015-01-08 17:24:22   \n",
       "3  2015-01-06 17:07:42  2015-01-07 16:32:40  2015-01-08 16:53:11   \n",
       "4  2015-01-06 17:26:25  2015-01-07 17:37:59  2015-01-08 17:59:28   \n",
       "\n",
       "            2015-01-09           2015-01-12           2015-01-13  ...  \\\n",
       "0  2015-01-09 17:38:29  2015-01-12 16:58:39  2015-01-13 18:02:58  ...   \n",
       "1  2015-01-09 16:52:29  2015-01-12 17:36:48  2015-01-13 18:00:13  ...   \n",
       "2  2015-01-09 16:57:30  2015-01-12 17:28:54  2015-01-13 17:21:25  ...   \n",
       "3  2015-01-09 17:19:47  2015-01-12 17:13:37  2015-01-13 17:11:45  ...   \n",
       "4  2015-01-09 17:44:08  2015-01-12 18:51:21  2015-01-13 18:14:58  ...   \n",
       "\n",
       "            2015-12-18           2015-12-21           2015-12-22  \\\n",
       "0                  NaN  2015-12-21 17:15:50  2015-12-22 17:27:51   \n",
       "1  2015-12-18 18:31:28  2015-12-21 17:34:16  2015-12-22 18:16:35   \n",
       "2  2015-12-18 17:02:23  2015-12-21 17:20:17  2015-12-22 16:32:50   \n",
       "3  2015-12-18 17:55:23  2015-12-21 16:49:09  2015-12-22 17:24:00   \n",
       "4  2015-12-18 17:52:48  2015-12-21 17:43:35  2015-12-22 18:07:57   \n",
       "\n",
       "            2015-12-23           2015-12-24 2015-12-25           2015-12-28  \\\n",
       "0  2015-12-23 16:44:44  2015-12-24 17:47:22        NaN  2015-12-28 18:00:07   \n",
       "1  2015-12-23 17:38:18                  NaN        NaN  2015-12-28 17:08:38   \n",
       "2  2015-12-23 16:59:43  2015-12-24 16:58:25        NaN  2015-12-28 16:43:31   \n",
       "3  2015-12-23 17:36:35  2015-12-24 16:48:21        NaN  2015-12-28 17:19:34   \n",
       "4  2015-12-23 18:00:49  2015-12-24 17:59:22        NaN  2015-12-28 17:44:59   \n",
       "\n",
       "            2015-12-29           2015-12-30           2015-12-31  \n",
       "0  2015-12-29 17:22:30  2015-12-30 17:40:56  2015-12-31 17:17:33  \n",
       "1  2015-12-29 17:54:46  2015-12-30 18:31:35  2015-12-31 17:40:58  \n",
       "2  2015-12-29 17:09:56  2015-12-30 17:06:25  2015-12-31 17:15:50  \n",
       "3  2015-12-29 16:58:16  2015-12-30 17:40:11  2015-12-31 17:09:14  \n",
       "4  2015-12-29 18:47:00  2015-12-30 17:15:33  2015-12-31 17:42:14  \n",
       "\n",
       "[5 rows x 262 columns]"
      ]
     },
     "execution_count": 64,
     "metadata": {},
     "output_type": "execute_result"
    }
   ],
   "source": [
    "df_out.head(5)"
   ]
  },
  {
   "cell_type": "markdown",
   "metadata": {},
   "source": [
    "## Comprensión y limpieza de datos"
   ]
  },
  {
   "cell_type": "markdown",
   "metadata": {},
   "source": [
    "En este sección de exploran las bases de datos, se verifican datos nulos y se asigna el tipo de dato correcto para cada variable. "
   ]
  },
  {
   "cell_type": "markdown",
   "metadata": {},
   "source": [
    "1. Exploración de tipo de datos, nulos, información de variables"
   ]
  },
  {
   "cell_type": "code",
   "execution_count": 65,
   "metadata": {},
   "outputs": [
    {
     "name": "stdout",
     "output_type": "stream",
     "text": [
      "<class 'pandas.core.frame.DataFrame'>\n",
      "RangeIndex: 4410 entries, 0 to 4409\n",
      "Data columns (total 23 columns):\n",
      " #   Column                   Non-Null Count  Dtype  \n",
      "---  ------                   --------------  -----  \n",
      " 0   Age                      4410 non-null   int64  \n",
      " 1   BusinessTravel           4410 non-null   object \n",
      " 2   Department               4410 non-null   object \n",
      " 3   DistanceFromHome         4410 non-null   int64  \n",
      " 4   Education                4410 non-null   int64  \n",
      " 5   EducationField           4410 non-null   object \n",
      " 6   EmployeeCount            4410 non-null   int64  \n",
      " 7   EmployeeID               4410 non-null   int64  \n",
      " 8   Gender                   4410 non-null   object \n",
      " 9   JobLevel                 4410 non-null   int64  \n",
      " 10  JobRole                  4410 non-null   object \n",
      " 11  MaritalStatus            4410 non-null   object \n",
      " 12  MonthlyIncome            4410 non-null   int64  \n",
      " 13  NumCompaniesWorked       4391 non-null   float64\n",
      " 14  Over18                   4410 non-null   object \n",
      " 15  PercentSalaryHike        4410 non-null   int64  \n",
      " 16  StandardHours            4410 non-null   int64  \n",
      " 17  StockOptionLevel         4410 non-null   int64  \n",
      " 18  TotalWorkingYears        4401 non-null   float64\n",
      " 19  TrainingTimesLastYear    4410 non-null   int64  \n",
      " 20  YearsAtCompany           4410 non-null   int64  \n",
      " 21  YearsSinceLastPromotion  4410 non-null   int64  \n",
      " 22  YearsWithCurrManager     4410 non-null   int64  \n",
      "dtypes: float64(2), int64(14), object(7)\n",
      "memory usage: 792.5+ KB\n"
     ]
    }
   ],
   "source": [
    "df_general.info() # solo hay nulos "
   ]
  },
  {
   "cell_type": "code",
   "execution_count": 66,
   "metadata": {},
   "outputs": [
    {
     "name": "stdout",
     "output_type": "stream",
     "text": [
      "<class 'pandas.core.frame.DataFrame'>\n",
      "RangeIndex: 4410 entries, 0 to 4409\n",
      "Data columns (total 3 columns):\n",
      " #   Column             Non-Null Count  Dtype\n",
      "---  ------             --------------  -----\n",
      " 0   EmployeeID         4410 non-null   int64\n",
      " 1   JobInvolvement     4410 non-null   int64\n",
      " 2   PerformanceRating  4410 non-null   int64\n",
      "dtypes: int64(3)\n",
      "memory usage: 103.5 KB\n"
     ]
    }
   ],
   "source": [
    "df_manager_s.info() # no hay nulos"
   ]
  },
  {
   "cell_type": "code",
   "execution_count": 67,
   "metadata": {},
   "outputs": [
    {
     "name": "stdout",
     "output_type": "stream",
     "text": [
      "<class 'pandas.core.frame.DataFrame'>\n",
      "RangeIndex: 4410 entries, 0 to 4409\n",
      "Data columns (total 4 columns):\n",
      " #   Column                   Non-Null Count  Dtype  \n",
      "---  ------                   --------------  -----  \n",
      " 0   EmployeeID               4410 non-null   int64  \n",
      " 1   EnvironmentSatisfaction  4385 non-null   float64\n",
      " 2   JobSatisfaction          4390 non-null   float64\n",
      " 3   WorkLifeBalance          4372 non-null   float64\n",
      "dtypes: float64(3), int64(1)\n",
      "memory usage: 137.9 KB\n"
     ]
    }
   ],
   "source": [
    "df_employee_s.info() # hay nulos"
   ]
  },
  {
   "cell_type": "code",
   "execution_count": 68,
   "metadata": {},
   "outputs": [
    {
     "name": "stdout",
     "output_type": "stream",
     "text": [
      "<class 'pandas.core.frame.DataFrame'>\n",
      "RangeIndex: 711 entries, 0 to 710\n",
      "Data columns (total 5 columns):\n",
      " #   Column             Non-Null Count  Dtype \n",
      "---  ------             --------------  ----- \n",
      " 0   EmployeeID         711 non-null    int64 \n",
      " 1   Attrition          711 non-null    object\n",
      " 2   retirementDate     711 non-null    object\n",
      " 3   retirementType     711 non-null    object\n",
      " 4   resignationReason  641 non-null    object\n",
      "dtypes: int64(1), object(4)\n",
      "memory usage: 27.9+ KB\n"
     ]
    }
   ],
   "source": [
    "df_retirement.info() # si hay nulos, pero solo en las razones de la renuncia "
   ]
  },
  {
   "cell_type": "code",
   "execution_count": 69,
   "metadata": {},
   "outputs": [],
   "source": [
    "#df_in.isnull().sum()# si hay nulos"
   ]
  },
  {
   "cell_type": "code",
   "execution_count": 70,
   "metadata": {},
   "outputs": [],
   "source": [
    "#df_out.isnull().sum() # hay nulos"
   ]
  },
  {
   "cell_type": "code",
   "execution_count": 71,
   "metadata": {},
   "outputs": [
    {
     "name": "stdout",
     "output_type": "stream",
     "text": [
      "Attrition\n",
      "['Yes']\n",
      "______________________________________________________\n",
      "retirementType\n",
      "['Resignation' 'Fired']\n",
      "______________________________________________________\n",
      "resignationReason\n",
      "['Others' 'Stress' 'Salary' nan]\n",
      "______________________________________________________\n"
     ]
    }
   ],
   "source": [
    "lista = [ 'Attrition', 'retirementType','resignationReason']\n",
    "for i in lista:\n",
    "    print(i)\n",
    "    print(df_retirement[i].unique())\n",
    "    print('______________________________________________________')"
   ]
  },
  {
   "cell_type": "code",
   "execution_count": 72,
   "metadata": {},
   "outputs": [
    {
     "name": "stdout",
     "output_type": "stream",
     "text": [
      "Attrition\n",
      "Yes    711\n",
      "Name: Attrition, dtype: int64\n",
      "______________________________________________________\n",
      "retirementType\n",
      "Resignation    641\n",
      "Fired           70\n",
      "Name: retirementType, dtype: int64\n",
      "______________________________________________________\n",
      "resignationReason\n",
      "Others    323\n",
      "Salary    189\n",
      "Stress    129\n",
      "Name: resignationReason, dtype: int64\n",
      "______________________________________________________\n"
     ]
    }
   ],
   "source": [
    "lista = [ 'Attrition', 'retirementType','resignationReason']\n",
    "for i in lista:\n",
    "    print(i)\n",
    "    print(df_retirement[i].value_counts())\n",
    "    print('______________________________________________________')"
   ]
  },
  {
   "cell_type": "markdown",
   "metadata": {},
   "source": [
    "2. Modificaciones a la base de datos generales de los empleados (eliminación datos nulos y cambio de tipo de variable)"
   ]
  },
  {
   "cell_type": "code",
   "execution_count": 73,
   "metadata": {},
   "outputs": [
    {
     "data": {
      "text/html": [
       "<div>\n",
       "<style scoped>\n",
       "    .dataframe tbody tr th:only-of-type {\n",
       "        vertical-align: middle;\n",
       "    }\n",
       "\n",
       "    .dataframe tbody tr th {\n",
       "        vertical-align: top;\n",
       "    }\n",
       "\n",
       "    .dataframe thead th {\n",
       "        text-align: right;\n",
       "    }\n",
       "</style>\n",
       "<table border=\"1\" class=\"dataframe\">\n",
       "  <thead>\n",
       "    <tr style=\"text-align: right;\">\n",
       "      <th></th>\n",
       "      <th>BusinessTravel</th>\n",
       "      <th>Department</th>\n",
       "      <th>EducationField</th>\n",
       "      <th>Gender</th>\n",
       "      <th>JobRole</th>\n",
       "      <th>MaritalStatus</th>\n",
       "      <th>Over18</th>\n",
       "    </tr>\n",
       "  </thead>\n",
       "  <tbody>\n",
       "    <tr>\n",
       "      <th>0</th>\n",
       "      <td>Travel_Rarely</td>\n",
       "      <td>Sales</td>\n",
       "      <td>Life Sciences</td>\n",
       "      <td>Female</td>\n",
       "      <td>Healthcare Representative</td>\n",
       "      <td>Married</td>\n",
       "      <td>Y</td>\n",
       "    </tr>\n",
       "    <tr>\n",
       "      <th>1</th>\n",
       "      <td>Travel_Frequently</td>\n",
       "      <td>Research &amp; Development</td>\n",
       "      <td>Life Sciences</td>\n",
       "      <td>Female</td>\n",
       "      <td>Research Scientist</td>\n",
       "      <td>Single</td>\n",
       "      <td>Y</td>\n",
       "    </tr>\n",
       "    <tr>\n",
       "      <th>2</th>\n",
       "      <td>Travel_Frequently</td>\n",
       "      <td>Research &amp; Development</td>\n",
       "      <td>Other</td>\n",
       "      <td>Male</td>\n",
       "      <td>Sales Executive</td>\n",
       "      <td>Married</td>\n",
       "      <td>Y</td>\n",
       "    </tr>\n",
       "    <tr>\n",
       "      <th>3</th>\n",
       "      <td>Non-Travel</td>\n",
       "      <td>Research &amp; Development</td>\n",
       "      <td>Life Sciences</td>\n",
       "      <td>Male</td>\n",
       "      <td>Human Resources</td>\n",
       "      <td>Married</td>\n",
       "      <td>Y</td>\n",
       "    </tr>\n",
       "    <tr>\n",
       "      <th>4</th>\n",
       "      <td>Travel_Rarely</td>\n",
       "      <td>Research &amp; Development</td>\n",
       "      <td>Medical</td>\n",
       "      <td>Male</td>\n",
       "      <td>Sales Executive</td>\n",
       "      <td>Single</td>\n",
       "      <td>Y</td>\n",
       "    </tr>\n",
       "  </tbody>\n",
       "</table>\n",
       "</div>"
      ],
      "text/plain": [
       "      BusinessTravel              Department EducationField  Gender  \\\n",
       "0      Travel_Rarely                   Sales  Life Sciences  Female   \n",
       "1  Travel_Frequently  Research & Development  Life Sciences  Female   \n",
       "2  Travel_Frequently  Research & Development          Other    Male   \n",
       "3         Non-Travel  Research & Development  Life Sciences    Male   \n",
       "4      Travel_Rarely  Research & Development        Medical    Male   \n",
       "\n",
       "                     JobRole MaritalStatus Over18  \n",
       "0  Healthcare Representative       Married      Y  \n",
       "1         Research Scientist        Single      Y  \n",
       "2            Sales Executive       Married      Y  \n",
       "3            Human Resources       Married      Y  \n",
       "4            Sales Executive        Single      Y  "
      ]
     },
     "execution_count": 73,
     "metadata": {},
     "output_type": "execute_result"
    }
   ],
   "source": [
    "obj = (df_general.dtypes == object) #Filtrar variables categóricas\n",
    "obj_cols = [c for c in obj.index if obj[c]] \n",
    "df_general_obj = df_general[obj_cols]\n",
    "df_general_obj.head(5)"
   ]
  },
  {
   "cell_type": "code",
   "execution_count": 74,
   "metadata": {},
   "outputs": [
    {
     "name": "stdout",
     "output_type": "stream",
     "text": [
      "BusinessTravel\n",
      "Travel_Rarely        3129\n",
      "Travel_Frequently     831\n",
      "Non-Travel            450\n",
      "Name: BusinessTravel, dtype: int64\n",
      "______________________________________________________\n",
      "Department\n",
      "Research & Development    2883\n",
      "Sales                     1338\n",
      "Human Resources            189\n",
      "Name: Department, dtype: int64\n",
      "______________________________________________________\n",
      "EducationField\n",
      "Life Sciences       1818\n",
      "Medical             1392\n",
      "Marketing            477\n",
      "Technical Degree     396\n",
      "Other                246\n",
      "Human Resources       81\n",
      "Name: EducationField, dtype: int64\n",
      "______________________________________________________\n",
      "Gender\n",
      "Male      2646\n",
      "Female    1764\n",
      "Name: Gender, dtype: int64\n",
      "______________________________________________________\n",
      "JobRole\n",
      "Sales Executive              978\n",
      "Research Scientist           876\n",
      "Laboratory Technician        777\n",
      "Manufacturing Director       435\n",
      "Healthcare Representative    393\n",
      "Manager                      306\n",
      "Sales Representative         249\n",
      "Research Director            240\n",
      "Human Resources              156\n",
      "Name: JobRole, dtype: int64\n",
      "______________________________________________________\n",
      "MaritalStatus\n",
      "Married     2019\n",
      "Single      1410\n",
      "Divorced     981\n",
      "Name: MaritalStatus, dtype: int64\n",
      "______________________________________________________\n",
      "Over18\n",
      "Y    4410\n",
      "Name: Over18, dtype: int64\n",
      "______________________________________________________\n"
     ]
    }
   ],
   "source": [
    "lista = df_general_obj.columns\n",
    "for i in lista:\n",
    "    print(i)\n",
    "    print(df_general[i].value_counts())\n",
    "    print('______________________________________________________')"
   ]
  },
  {
   "cell_type": "code",
   "execution_count": 75,
   "metadata": {},
   "outputs": [
    {
     "name": "stdout",
     "output_type": "stream",
     "text": [
      "JobRole\n",
      "Sales Executive              978\n",
      "Research Scientist           876\n",
      "Laboratory Technician        777\n",
      "Manufacturing Director       435\n",
      "Healthcare Representative    393\n",
      "Manager                      306\n",
      "Sales Representative         249\n",
      "Research Director            240\n",
      "Human Resources              156\n",
      "Name: JobRole, dtype: int64\n",
      "______________________________________________________\n",
      "MaritalStatus\n",
      "Married     2019\n",
      "Single      1410\n",
      "Divorced     981\n",
      "Name: MaritalStatus, dtype: int64\n",
      "______________________________________________________\n"
     ]
    }
   ],
   "source": [
    "lista = [ 'JobRole', 'MaritalStatus']\n",
    "for i in lista:\n",
    "    print(i)\n",
    "    print(df_general_obj[i].value_counts())\n",
    "    print('______________________________________________________')"
   ]
  },
  {
   "cell_type": "code",
   "execution_count": 76,
   "metadata": {},
   "outputs": [
    {
     "data": {
      "text/plain": [
       "Index(['Age', 'BusinessTravel', 'Department', 'DistanceFromHome', 'Education',\n",
       "       'EducationField', 'EmployeeCount', 'EmployeeID', 'Gender', 'JobLevel',\n",
       "       'JobRole', 'MaritalStatus', 'MonthlyIncome', 'NumCompaniesWorked',\n",
       "       'Over18', 'PercentSalaryHike', 'StandardHours', 'StockOptionLevel',\n",
       "       'TotalWorkingYears', 'TrainingTimesLastYear', 'YearsAtCompany',\n",
       "       'YearsSinceLastPromotion', 'YearsWithCurrManager'],\n",
       "      dtype='object')"
      ]
     },
     "execution_count": 76,
     "metadata": {},
     "output_type": "execute_result"
    }
   ],
   "source": [
    "df_general.columns"
   ]
  },
  {
   "cell_type": "code",
   "execution_count": 77,
   "metadata": {},
   "outputs": [
    {
     "data": {
      "text/plain": [
       "1    4410\n",
       "Name: EmployeeCount, dtype: int64"
      ]
     },
     "execution_count": 77,
     "metadata": {},
     "output_type": "execute_result"
    }
   ],
   "source": [
    "df_general['EmployeeCount'].value_counts()"
   ]
  },
  {
   "cell_type": "code",
   "execution_count": 78,
   "metadata": {},
   "outputs": [
    {
     "data": {
      "text/plain": [
       "0    1893\n",
       "1    1788\n",
       "2     474\n",
       "3     255\n",
       "Name: StockOptionLevel, dtype: int64"
      ]
     },
     "execution_count": 78,
     "metadata": {},
     "output_type": "execute_result"
    }
   ],
   "source": [
    "df_general['StockOptionLevel'].value_counts()"
   ]
  },
  {
   "cell_type": "code",
   "execution_count": 79,
   "metadata": {},
   "outputs": [],
   "source": [
    "#eliminar EmployeeCount, Over18\n",
    "#Desconocimiento sobre StockOptionLevel, YearsSinceLastPromotion"
   ]
  },
  {
   "cell_type": "code",
   "execution_count": 80,
   "metadata": {},
   "outputs": [],
   "source": [
    "df_general = df_general.drop(['EmployeeCount', 'Over18', 'StandardHours'], axis = 1)"
   ]
  },
  {
   "cell_type": "code",
   "execution_count": 81,
   "metadata": {},
   "outputs": [],
   "source": [
    "#eliminación de datos nulos de la base datos generales de los empleados, \n",
    "df_general = df_general.dropna()"
   ]
  },
  {
   "cell_type": "code",
   "execution_count": 82,
   "metadata": {},
   "outputs": [],
   "source": [
    "#Cambio tipo de variable \n",
    "df_general= df_general.astype({'TotalWorkingYears' : int })\n",
    "df_general= df_general.astype({'NumCompaniesWorked' : int })\n"
   ]
  },
  {
   "cell_type": "code",
   "execution_count": 83,
   "metadata": {},
   "outputs": [
    {
     "data": {
      "text/plain": [
       "array([ 1,  6,  5, 13,  9, 28, 10, 21, 16, 37,  7,  3, 15,  8, 12, 17, 19,\n",
       "       22,  2,  4, 23,  0, 11, 24, 25, 20, 14, 26, 18, 30, 36, 31, 33, 32,\n",
       "       34, 40, 29, 35, 27, 38])"
      ]
     },
     "execution_count": 83,
     "metadata": {},
     "output_type": "execute_result"
    }
   ],
   "source": [
    "df_general['TotalWorkingYears'].unique()"
   ]
  },
  {
   "cell_type": "code",
   "execution_count": 84,
   "metadata": {},
   "outputs": [
    {
     "name": "stdout",
     "output_type": "stream",
     "text": [
      "<class 'pandas.core.frame.DataFrame'>\n",
      "Int64Index: 4382 entries, 0 to 4408\n",
      "Data columns (total 20 columns):\n",
      " #   Column                   Non-Null Count  Dtype \n",
      "---  ------                   --------------  ----- \n",
      " 0   Age                      4382 non-null   int64 \n",
      " 1   BusinessTravel           4382 non-null   object\n",
      " 2   Department               4382 non-null   object\n",
      " 3   DistanceFromHome         4382 non-null   int64 \n",
      " 4   Education                4382 non-null   int64 \n",
      " 5   EducationField           4382 non-null   object\n",
      " 6   EmployeeID               4382 non-null   int64 \n",
      " 7   Gender                   4382 non-null   object\n",
      " 8   JobLevel                 4382 non-null   int64 \n",
      " 9   JobRole                  4382 non-null   object\n",
      " 10  MaritalStatus            4382 non-null   object\n",
      " 11  MonthlyIncome            4382 non-null   int64 \n",
      " 12  NumCompaniesWorked       4382 non-null   int32 \n",
      " 13  PercentSalaryHike        4382 non-null   int64 \n",
      " 14  StockOptionLevel         4382 non-null   int64 \n",
      " 15  TotalWorkingYears        4382 non-null   int32 \n",
      " 16  TrainingTimesLastYear    4382 non-null   int64 \n",
      " 17  YearsAtCompany           4382 non-null   int64 \n",
      " 18  YearsSinceLastPromotion  4382 non-null   int64 \n",
      " 19  YearsWithCurrManager     4382 non-null   int64 \n",
      "dtypes: int32(2), int64(12), object(6)\n",
      "memory usage: 684.7+ KB\n"
     ]
    }
   ],
   "source": [
    "df_general.info()"
   ]
  },
  {
   "cell_type": "markdown",
   "metadata": {},
   "source": [
    "3. Modificaciones a la base de la encuesta de empleados"
   ]
  },
  {
   "cell_type": "code",
   "execution_count": 85,
   "metadata": {},
   "outputs": [
    {
     "data": {
      "text/plain": [
       "3.0    1350\n",
       "4.0    1334\n",
       "2.0     856\n",
       "1.0     845\n",
       "Name: EnvironmentSatisfaction, dtype: int64"
      ]
     },
     "execution_count": 85,
     "metadata": {},
     "output_type": "execute_result"
    }
   ],
   "source": [
    "df_employee_s['EnvironmentSatisfaction'].value_counts()"
   ]
  },
  {
   "cell_type": "code",
   "execution_count": 86,
   "metadata": {},
   "outputs": [],
   "source": [
    "#eliminación de datos nulos \n",
    "df_employee_s = df_employee_s.dropna()"
   ]
  },
  {
   "cell_type": "code",
   "execution_count": 87,
   "metadata": {},
   "outputs": [],
   "source": [
    "#Cambio tipo de variable float a int\n",
    "df_employee_s= df_employee_s.astype({'EnvironmentSatisfaction' : int })\n",
    "df_employee_s= df_employee_s.astype({'JobSatisfaction' : int })\n",
    "df_employee_s= df_employee_s.astype({'WorkLifeBalance' : int })"
   ]
  },
  {
   "cell_type": "markdown",
   "metadata": {},
   "source": [
    "4. Modificación de la base de datos de la encuesta del gerente"
   ]
  },
  {
   "cell_type": "code",
   "execution_count": 88,
   "metadata": {},
   "outputs": [
    {
     "name": "stdout",
     "output_type": "stream",
     "text": [
      "<class 'pandas.core.frame.DataFrame'>\n",
      "RangeIndex: 4410 entries, 0 to 4409\n",
      "Data columns (total 3 columns):\n",
      " #   Column             Non-Null Count  Dtype\n",
      "---  ------             --------------  -----\n",
      " 0   EmployeeID         4410 non-null   int64\n",
      " 1   JobInvolvement     4410 non-null   int64\n",
      " 2   PerformanceRating  4410 non-null   int64\n",
      "dtypes: int64(3)\n",
      "memory usage: 103.5 KB\n"
     ]
    }
   ],
   "source": [
    "df_manager_s.info()"
   ]
  },
  {
   "cell_type": "markdown",
   "metadata": {},
   "source": [
    "Nota: no se hizo ninguna modificación debido a que no hay nulos y las variables tienen asignada una tipo de dato correcto"
   ]
  },
  {
   "cell_type": "markdown",
   "metadata": {},
   "source": [
    "5. Modificación de la base de datos de los empleados retirados de la empresa"
   ]
  },
  {
   "cell_type": "code",
   "execution_count": 89,
   "metadata": {},
   "outputs": [
    {
     "name": "stdout",
     "output_type": "stream",
     "text": [
      "<class 'pandas.core.frame.DataFrame'>\n",
      "RangeIndex: 711 entries, 0 to 710\n",
      "Data columns (total 5 columns):\n",
      " #   Column             Non-Null Count  Dtype \n",
      "---  ------             --------------  ----- \n",
      " 0   EmployeeID         711 non-null    int64 \n",
      " 1   Attrition          711 non-null    object\n",
      " 2   retirementDate     711 non-null    object\n",
      " 3   retirementType     711 non-null    object\n",
      " 4   resignationReason  641 non-null    object\n",
      "dtypes: int64(1), object(4)\n",
      "memory usage: 27.9+ KB\n"
     ]
    }
   ],
   "source": [
    "df_retirement.info() #existen datos nulos en la variable de razones de renuncia"
   ]
  },
  {
   "cell_type": "code",
   "execution_count": 90,
   "metadata": {},
   "outputs": [
    {
     "data": {
      "text/plain": [
       "Others    323\n",
       "Salary    189\n",
       "Stress    129\n",
       "Name: resignationReason, dtype: int64"
      ]
     },
     "execution_count": 90,
     "metadata": {},
     "output_type": "execute_result"
    }
   ],
   "source": [
    "df_retirement['resignationReason'].value_counts()"
   ]
  },
  {
   "cell_type": "code",
   "execution_count": 91,
   "metadata": {},
   "outputs": [],
   "source": [
    "#se llenan los datos nulos con una nueva categoría llamada \"no information\"\n",
    "df_retirement['resignationReason']= df_retirement['resignationReason'].fillna('No information')"
   ]
  },
  {
   "cell_type": "markdown",
   "metadata": {},
   "source": [
    "Nota: no se tendrán en cuenta las bases de datos \"in_time\" y \"out_time\" debido a que no se encontrarón relvantes para el estudio. "
   ]
  },
  {
   "cell_type": "markdown",
   "metadata": {},
   "source": [
    "## Análisis exploratorio"
   ]
  },
  {
   "cell_type": "code",
   "execution_count": 92,
   "metadata": {},
   "outputs": [
    {
     "data": {
      "text/html": [
       "<div>\n",
       "<style scoped>\n",
       "    .dataframe tbody tr th:only-of-type {\n",
       "        vertical-align: middle;\n",
       "    }\n",
       "\n",
       "    .dataframe tbody tr th {\n",
       "        vertical-align: top;\n",
       "    }\n",
       "\n",
       "    .dataframe thead th {\n",
       "        text-align: right;\n",
       "    }\n",
       "</style>\n",
       "<table border=\"1\" class=\"dataframe\">\n",
       "  <thead>\n",
       "    <tr style=\"text-align: right;\">\n",
       "      <th></th>\n",
       "      <th>EnvironmentSatisfaction</th>\n",
       "      <th>JobSatisfaction</th>\n",
       "      <th>WorkLifeBalance</th>\n",
       "    </tr>\n",
       "  </thead>\n",
       "  <tbody>\n",
       "    <tr>\n",
       "      <th>count</th>\n",
       "      <td>701.000000</td>\n",
       "      <td>701.000000</td>\n",
       "      <td>701.000000</td>\n",
       "    </tr>\n",
       "    <tr>\n",
       "      <th>mean</th>\n",
       "      <td>2.465050</td>\n",
       "      <td>2.466476</td>\n",
       "      <td>2.666191</td>\n",
       "    </tr>\n",
       "    <tr>\n",
       "      <th>std</th>\n",
       "      <td>1.166432</td>\n",
       "      <td>1.115131</td>\n",
       "      <td>0.815816</td>\n",
       "    </tr>\n",
       "    <tr>\n",
       "      <th>min</th>\n",
       "      <td>1.000000</td>\n",
       "      <td>1.000000</td>\n",
       "      <td>1.000000</td>\n",
       "    </tr>\n",
       "    <tr>\n",
       "      <th>25%</th>\n",
       "      <td>1.000000</td>\n",
       "      <td>1.000000</td>\n",
       "      <td>2.000000</td>\n",
       "    </tr>\n",
       "    <tr>\n",
       "      <th>50%</th>\n",
       "      <td>3.000000</td>\n",
       "      <td>3.000000</td>\n",
       "      <td>3.000000</td>\n",
       "    </tr>\n",
       "    <tr>\n",
       "      <th>75%</th>\n",
       "      <td>4.000000</td>\n",
       "      <td>3.000000</td>\n",
       "      <td>3.000000</td>\n",
       "    </tr>\n",
       "    <tr>\n",
       "      <th>max</th>\n",
       "      <td>4.000000</td>\n",
       "      <td>4.000000</td>\n",
       "      <td>4.000000</td>\n",
       "    </tr>\n",
       "  </tbody>\n",
       "</table>\n",
       "</div>"
      ],
      "text/plain": [
       "       EnvironmentSatisfaction  JobSatisfaction  WorkLifeBalance\n",
       "count               701.000000       701.000000       701.000000\n",
       "mean                  2.465050         2.466476         2.666191\n",
       "std                   1.166432         1.115131         0.815816\n",
       "min                   1.000000         1.000000         1.000000\n",
       "25%                   1.000000         1.000000         2.000000\n",
       "50%                   3.000000         3.000000         3.000000\n",
       "75%                   4.000000         3.000000         3.000000\n",
       "max                   4.000000         4.000000         4.000000"
      ]
     },
     "execution_count": 92,
     "metadata": {},
     "output_type": "execute_result"
    }
   ],
   "source": [
    "#¿Cuáles son los puntajes promedio de la encuesta de empleados que se retiraron?\n",
    "df = pd.merge(df_retirement, df_employee_s, how = 'left', on = 'EmployeeID')\n",
    "df.describe().drop('EmployeeID', axis = 1)"
   ]
  },
  {
   "cell_type": "code",
   "execution_count": 93,
   "metadata": {},
   "outputs": [
    {
     "data": {
      "text/html": [
       "<div>\n",
       "<style scoped>\n",
       "    .dataframe tbody tr th:only-of-type {\n",
       "        vertical-align: middle;\n",
       "    }\n",
       "\n",
       "    .dataframe tbody tr th {\n",
       "        vertical-align: top;\n",
       "    }\n",
       "\n",
       "    .dataframe thead th {\n",
       "        text-align: right;\n",
       "    }\n",
       "</style>\n",
       "<table border=\"1\" class=\"dataframe\">\n",
       "  <thead>\n",
       "    <tr style=\"text-align: right;\">\n",
       "      <th></th>\n",
       "      <th>EmployeeID</th>\n",
       "      <th>EnvironmentSatisfaction</th>\n",
       "      <th>JobSatisfaction</th>\n",
       "      <th>WorkLifeBalance</th>\n",
       "    </tr>\n",
       "  </thead>\n",
       "  <tbody>\n",
       "    <tr>\n",
       "      <th>count</th>\n",
       "      <td>3626.000000</td>\n",
       "      <td>3626.000000</td>\n",
       "      <td>3626.000000</td>\n",
       "      <td>3626.000000</td>\n",
       "    </tr>\n",
       "    <tr>\n",
       "      <th>mean</th>\n",
       "      <td>2209.745725</td>\n",
       "      <td>2.774683</td>\n",
       "      <td>2.774959</td>\n",
       "      <td>2.779923</td>\n",
       "    </tr>\n",
       "    <tr>\n",
       "      <th>std</th>\n",
       "      <td>1274.074586</td>\n",
       "      <td>1.071115</td>\n",
       "      <td>1.091960</td>\n",
       "      <td>0.682466</td>\n",
       "    </tr>\n",
       "    <tr>\n",
       "      <th>min</th>\n",
       "      <td>1.000000</td>\n",
       "      <td>1.000000</td>\n",
       "      <td>1.000000</td>\n",
       "      <td>1.000000</td>\n",
       "    </tr>\n",
       "    <tr>\n",
       "      <th>25%</th>\n",
       "      <td>1111.500000</td>\n",
       "      <td>2.000000</td>\n",
       "      <td>2.000000</td>\n",
       "      <td>2.000000</td>\n",
       "    </tr>\n",
       "    <tr>\n",
       "      <th>50%</th>\n",
       "      <td>2216.500000</td>\n",
       "      <td>3.000000</td>\n",
       "      <td>3.000000</td>\n",
       "      <td>3.000000</td>\n",
       "    </tr>\n",
       "    <tr>\n",
       "      <th>75%</th>\n",
       "      <td>3306.750000</td>\n",
       "      <td>4.000000</td>\n",
       "      <td>4.000000</td>\n",
       "      <td>3.000000</td>\n",
       "    </tr>\n",
       "    <tr>\n",
       "      <th>max</th>\n",
       "      <td>4409.000000</td>\n",
       "      <td>4.000000</td>\n",
       "      <td>4.000000</td>\n",
       "      <td>4.000000</td>\n",
       "    </tr>\n",
       "  </tbody>\n",
       "</table>\n",
       "</div>"
      ],
      "text/plain": [
       "        EmployeeID  EnvironmentSatisfaction  JobSatisfaction  WorkLifeBalance\n",
       "count  3626.000000              3626.000000      3626.000000      3626.000000\n",
       "mean   2209.745725                 2.774683         2.774959         2.779923\n",
       "std    1274.074586                 1.071115         1.091960         0.682466\n",
       "min       1.000000                 1.000000         1.000000         1.000000\n",
       "25%    1111.500000                 2.000000         2.000000         2.000000\n",
       "50%    2216.500000                 3.000000         3.000000         3.000000\n",
       "75%    3306.750000                 4.000000         4.000000         3.000000\n",
       "max    4409.000000                 4.000000         4.000000         4.000000"
      ]
     },
     "execution_count": 93,
     "metadata": {},
     "output_type": "execute_result"
    }
   ],
   "source": [
    "#¿Cuáles son los puntajes promedio de la encuesta de empleados que aún continuan en la empresa?\n",
    "df = pd.merge(df_retirement, df_employee_s, how = 'right', on = 'EmployeeID')\n",
    "df['Attrition'] = df['Attrition'].fillna('No')\n",
    "df[df['Attrition'] == 'No'].describe()"
   ]
  },
  {
   "cell_type": "code",
   "execution_count": 94,
   "metadata": {},
   "outputs": [
    {
     "data": {
      "text/html": [
       "<div>\n",
       "<style scoped>\n",
       "    .dataframe tbody tr th:only-of-type {\n",
       "        vertical-align: middle;\n",
       "    }\n",
       "\n",
       "    .dataframe tbody tr th {\n",
       "        vertical-align: top;\n",
       "    }\n",
       "\n",
       "    .dataframe thead th {\n",
       "        text-align: right;\n",
       "    }\n",
       "</style>\n",
       "<table border=\"1\" class=\"dataframe\">\n",
       "  <thead>\n",
       "    <tr style=\"text-align: right;\">\n",
       "      <th></th>\n",
       "      <th>JobInvolvement</th>\n",
       "      <th>PerformanceRating</th>\n",
       "    </tr>\n",
       "  </thead>\n",
       "  <tbody>\n",
       "    <tr>\n",
       "      <th>count</th>\n",
       "      <td>711.000000</td>\n",
       "      <td>711.000000</td>\n",
       "    </tr>\n",
       "    <tr>\n",
       "      <th>mean</th>\n",
       "      <td>2.704641</td>\n",
       "      <td>3.172996</td>\n",
       "    </tr>\n",
       "    <tr>\n",
       "      <th>std</th>\n",
       "      <td>0.761739</td>\n",
       "      <td>0.378510</td>\n",
       "    </tr>\n",
       "    <tr>\n",
       "      <th>min</th>\n",
       "      <td>1.000000</td>\n",
       "      <td>3.000000</td>\n",
       "    </tr>\n",
       "    <tr>\n",
       "      <th>25%</th>\n",
       "      <td>2.000000</td>\n",
       "      <td>3.000000</td>\n",
       "    </tr>\n",
       "    <tr>\n",
       "      <th>50%</th>\n",
       "      <td>3.000000</td>\n",
       "      <td>3.000000</td>\n",
       "    </tr>\n",
       "    <tr>\n",
       "      <th>75%</th>\n",
       "      <td>3.000000</td>\n",
       "      <td>3.000000</td>\n",
       "    </tr>\n",
       "    <tr>\n",
       "      <th>max</th>\n",
       "      <td>4.000000</td>\n",
       "      <td>4.000000</td>\n",
       "    </tr>\n",
       "  </tbody>\n",
       "</table>\n",
       "</div>"
      ],
      "text/plain": [
       "       JobInvolvement  PerformanceRating\n",
       "count      711.000000         711.000000\n",
       "mean         2.704641           3.172996\n",
       "std          0.761739           0.378510\n",
       "min          1.000000           3.000000\n",
       "25%          2.000000           3.000000\n",
       "50%          3.000000           3.000000\n",
       "75%          3.000000           3.000000\n",
       "max          4.000000           4.000000"
      ]
     },
     "execution_count": 94,
     "metadata": {},
     "output_type": "execute_result"
    }
   ],
   "source": [
    "#¿Cuáles son los puntajes promedio de la calificación del gerente de las personas que se retiraron?\n",
    "df = pd.merge(df_retirement, df_manager_s, how = 'left', on = 'EmployeeID')\n",
    "df.describe().drop('EmployeeID', axis = 1)"
   ]
  },
  {
   "cell_type": "code",
   "execution_count": 95,
   "metadata": {},
   "outputs": [
    {
     "data": {
      "application/vnd.plotly.v1+json": {
       "config": {
        "plotlyServerURL": "https://plot.ly"
       },
       "data": [
        {
         "alignmentgroup": "True",
         "hovertemplate": "JobRole=%{x}<br>TotalPeople=%{y}<extra></extra>",
         "legendgroup": "",
         "marker": {
          "color": "rgb(27,158,119)",
          "pattern": {
           "shape": ""
          }
         },
         "name": "",
         "offsetgroup": "",
         "orientation": "v",
         "showlegend": false,
         "textposition": "auto",
         "type": "bar",
         "x": [
          "Sales Executive",
          "Research Scientist",
          "Laboratory Technician",
          "Healthcare Representative",
          "Research Director",
          "Manufacturing Director",
          "Manager",
          "Sales Representative",
          "Human Resources"
         ],
         "xaxis": "x",
         "y": [
          165,
          158,
          125,
          56,
          54,
          48,
          42,
          36,
          21
         ],
         "yaxis": "y"
        }
       ],
       "layout": {
        "barmode": "relative",
        "legend": {
         "tracegroupgap": 0
        },
        "template": {
         "data": {
          "bar": [
           {
            "error_x": {
             "color": "rgb(36,36,36)"
            },
            "error_y": {
             "color": "rgb(36,36,36)"
            },
            "marker": {
             "line": {
              "color": "white",
              "width": 0.5
             },
             "pattern": {
              "fillmode": "overlay",
              "size": 10,
              "solidity": 0.2
             }
            },
            "type": "bar"
           }
          ],
          "barpolar": [
           {
            "marker": {
             "line": {
              "color": "white",
              "width": 0.5
             },
             "pattern": {
              "fillmode": "overlay",
              "size": 10,
              "solidity": 0.2
             }
            },
            "type": "barpolar"
           }
          ],
          "carpet": [
           {
            "aaxis": {
             "endlinecolor": "rgb(36,36,36)",
             "gridcolor": "white",
             "linecolor": "white",
             "minorgridcolor": "white",
             "startlinecolor": "rgb(36,36,36)"
            },
            "baxis": {
             "endlinecolor": "rgb(36,36,36)",
             "gridcolor": "white",
             "linecolor": "white",
             "minorgridcolor": "white",
             "startlinecolor": "rgb(36,36,36)"
            },
            "type": "carpet"
           }
          ],
          "choropleth": [
           {
            "colorbar": {
             "outlinewidth": 1,
             "tickcolor": "rgb(36,36,36)",
             "ticks": "outside"
            },
            "type": "choropleth"
           }
          ],
          "contour": [
           {
            "colorbar": {
             "outlinewidth": 1,
             "tickcolor": "rgb(36,36,36)",
             "ticks": "outside"
            },
            "colorscale": [
             [
              0,
              "#440154"
             ],
             [
              0.1111111111111111,
              "#482878"
             ],
             [
              0.2222222222222222,
              "#3e4989"
             ],
             [
              0.3333333333333333,
              "#31688e"
             ],
             [
              0.4444444444444444,
              "#26828e"
             ],
             [
              0.5555555555555556,
              "#1f9e89"
             ],
             [
              0.6666666666666666,
              "#35b779"
             ],
             [
              0.7777777777777778,
              "#6ece58"
             ],
             [
              0.8888888888888888,
              "#b5de2b"
             ],
             [
              1,
              "#fde725"
             ]
            ],
            "type": "contour"
           }
          ],
          "contourcarpet": [
           {
            "colorbar": {
             "outlinewidth": 1,
             "tickcolor": "rgb(36,36,36)",
             "ticks": "outside"
            },
            "type": "contourcarpet"
           }
          ],
          "heatmap": [
           {
            "colorbar": {
             "outlinewidth": 1,
             "tickcolor": "rgb(36,36,36)",
             "ticks": "outside"
            },
            "colorscale": [
             [
              0,
              "#440154"
             ],
             [
              0.1111111111111111,
              "#482878"
             ],
             [
              0.2222222222222222,
              "#3e4989"
             ],
             [
              0.3333333333333333,
              "#31688e"
             ],
             [
              0.4444444444444444,
              "#26828e"
             ],
             [
              0.5555555555555556,
              "#1f9e89"
             ],
             [
              0.6666666666666666,
              "#35b779"
             ],
             [
              0.7777777777777778,
              "#6ece58"
             ],
             [
              0.8888888888888888,
              "#b5de2b"
             ],
             [
              1,
              "#fde725"
             ]
            ],
            "type": "heatmap"
           }
          ],
          "heatmapgl": [
           {
            "colorbar": {
             "outlinewidth": 1,
             "tickcolor": "rgb(36,36,36)",
             "ticks": "outside"
            },
            "colorscale": [
             [
              0,
              "#440154"
             ],
             [
              0.1111111111111111,
              "#482878"
             ],
             [
              0.2222222222222222,
              "#3e4989"
             ],
             [
              0.3333333333333333,
              "#31688e"
             ],
             [
              0.4444444444444444,
              "#26828e"
             ],
             [
              0.5555555555555556,
              "#1f9e89"
             ],
             [
              0.6666666666666666,
              "#35b779"
             ],
             [
              0.7777777777777778,
              "#6ece58"
             ],
             [
              0.8888888888888888,
              "#b5de2b"
             ],
             [
              1,
              "#fde725"
             ]
            ],
            "type": "heatmapgl"
           }
          ],
          "histogram": [
           {
            "marker": {
             "line": {
              "color": "white",
              "width": 0.6
             }
            },
            "type": "histogram"
           }
          ],
          "histogram2d": [
           {
            "colorbar": {
             "outlinewidth": 1,
             "tickcolor": "rgb(36,36,36)",
             "ticks": "outside"
            },
            "colorscale": [
             [
              0,
              "#440154"
             ],
             [
              0.1111111111111111,
              "#482878"
             ],
             [
              0.2222222222222222,
              "#3e4989"
             ],
             [
              0.3333333333333333,
              "#31688e"
             ],
             [
              0.4444444444444444,
              "#26828e"
             ],
             [
              0.5555555555555556,
              "#1f9e89"
             ],
             [
              0.6666666666666666,
              "#35b779"
             ],
             [
              0.7777777777777778,
              "#6ece58"
             ],
             [
              0.8888888888888888,
              "#b5de2b"
             ],
             [
              1,
              "#fde725"
             ]
            ],
            "type": "histogram2d"
           }
          ],
          "histogram2dcontour": [
           {
            "colorbar": {
             "outlinewidth": 1,
             "tickcolor": "rgb(36,36,36)",
             "ticks": "outside"
            },
            "colorscale": [
             [
              0,
              "#440154"
             ],
             [
              0.1111111111111111,
              "#482878"
             ],
             [
              0.2222222222222222,
              "#3e4989"
             ],
             [
              0.3333333333333333,
              "#31688e"
             ],
             [
              0.4444444444444444,
              "#26828e"
             ],
             [
              0.5555555555555556,
              "#1f9e89"
             ],
             [
              0.6666666666666666,
              "#35b779"
             ],
             [
              0.7777777777777778,
              "#6ece58"
             ],
             [
              0.8888888888888888,
              "#b5de2b"
             ],
             [
              1,
              "#fde725"
             ]
            ],
            "type": "histogram2dcontour"
           }
          ],
          "mesh3d": [
           {
            "colorbar": {
             "outlinewidth": 1,
             "tickcolor": "rgb(36,36,36)",
             "ticks": "outside"
            },
            "type": "mesh3d"
           }
          ],
          "parcoords": [
           {
            "line": {
             "colorbar": {
              "outlinewidth": 1,
              "tickcolor": "rgb(36,36,36)",
              "ticks": "outside"
             }
            },
            "type": "parcoords"
           }
          ],
          "pie": [
           {
            "automargin": true,
            "type": "pie"
           }
          ],
          "scatter": [
           {
            "marker": {
             "colorbar": {
              "outlinewidth": 1,
              "tickcolor": "rgb(36,36,36)",
              "ticks": "outside"
             }
            },
            "type": "scatter"
           }
          ],
          "scatter3d": [
           {
            "line": {
             "colorbar": {
              "outlinewidth": 1,
              "tickcolor": "rgb(36,36,36)",
              "ticks": "outside"
             }
            },
            "marker": {
             "colorbar": {
              "outlinewidth": 1,
              "tickcolor": "rgb(36,36,36)",
              "ticks": "outside"
             }
            },
            "type": "scatter3d"
           }
          ],
          "scattercarpet": [
           {
            "marker": {
             "colorbar": {
              "outlinewidth": 1,
              "tickcolor": "rgb(36,36,36)",
              "ticks": "outside"
             }
            },
            "type": "scattercarpet"
           }
          ],
          "scattergeo": [
           {
            "marker": {
             "colorbar": {
              "outlinewidth": 1,
              "tickcolor": "rgb(36,36,36)",
              "ticks": "outside"
             }
            },
            "type": "scattergeo"
           }
          ],
          "scattergl": [
           {
            "marker": {
             "colorbar": {
              "outlinewidth": 1,
              "tickcolor": "rgb(36,36,36)",
              "ticks": "outside"
             }
            },
            "type": "scattergl"
           }
          ],
          "scattermapbox": [
           {
            "marker": {
             "colorbar": {
              "outlinewidth": 1,
              "tickcolor": "rgb(36,36,36)",
              "ticks": "outside"
             }
            },
            "type": "scattermapbox"
           }
          ],
          "scatterpolar": [
           {
            "marker": {
             "colorbar": {
              "outlinewidth": 1,
              "tickcolor": "rgb(36,36,36)",
              "ticks": "outside"
             }
            },
            "type": "scatterpolar"
           }
          ],
          "scatterpolargl": [
           {
            "marker": {
             "colorbar": {
              "outlinewidth": 1,
              "tickcolor": "rgb(36,36,36)",
              "ticks": "outside"
             }
            },
            "type": "scatterpolargl"
           }
          ],
          "scatterternary": [
           {
            "marker": {
             "colorbar": {
              "outlinewidth": 1,
              "tickcolor": "rgb(36,36,36)",
              "ticks": "outside"
             }
            },
            "type": "scatterternary"
           }
          ],
          "surface": [
           {
            "colorbar": {
             "outlinewidth": 1,
             "tickcolor": "rgb(36,36,36)",
             "ticks": "outside"
            },
            "colorscale": [
             [
              0,
              "#440154"
             ],
             [
              0.1111111111111111,
              "#482878"
             ],
             [
              0.2222222222222222,
              "#3e4989"
             ],
             [
              0.3333333333333333,
              "#31688e"
             ],
             [
              0.4444444444444444,
              "#26828e"
             ],
             [
              0.5555555555555556,
              "#1f9e89"
             ],
             [
              0.6666666666666666,
              "#35b779"
             ],
             [
              0.7777777777777778,
              "#6ece58"
             ],
             [
              0.8888888888888888,
              "#b5de2b"
             ],
             [
              1,
              "#fde725"
             ]
            ],
            "type": "surface"
           }
          ],
          "table": [
           {
            "cells": {
             "fill": {
              "color": "rgb(237,237,237)"
             },
             "line": {
              "color": "white"
             }
            },
            "header": {
             "fill": {
              "color": "rgb(217,217,217)"
             },
             "line": {
              "color": "white"
             }
            },
            "type": "table"
           }
          ]
         },
         "layout": {
          "annotationdefaults": {
           "arrowhead": 0,
           "arrowwidth": 1
          },
          "autotypenumbers": "strict",
          "coloraxis": {
           "colorbar": {
            "outlinewidth": 1,
            "tickcolor": "rgb(36,36,36)",
            "ticks": "outside"
           }
          },
          "colorscale": {
           "diverging": [
            [
             0,
             "rgb(103,0,31)"
            ],
            [
             0.1,
             "rgb(178,24,43)"
            ],
            [
             0.2,
             "rgb(214,96,77)"
            ],
            [
             0.3,
             "rgb(244,165,130)"
            ],
            [
             0.4,
             "rgb(253,219,199)"
            ],
            [
             0.5,
             "rgb(247,247,247)"
            ],
            [
             0.6,
             "rgb(209,229,240)"
            ],
            [
             0.7,
             "rgb(146,197,222)"
            ],
            [
             0.8,
             "rgb(67,147,195)"
            ],
            [
             0.9,
             "rgb(33,102,172)"
            ],
            [
             1,
             "rgb(5,48,97)"
            ]
           ],
           "sequential": [
            [
             0,
             "#440154"
            ],
            [
             0.1111111111111111,
             "#482878"
            ],
            [
             0.2222222222222222,
             "#3e4989"
            ],
            [
             0.3333333333333333,
             "#31688e"
            ],
            [
             0.4444444444444444,
             "#26828e"
            ],
            [
             0.5555555555555556,
             "#1f9e89"
            ],
            [
             0.6666666666666666,
             "#35b779"
            ],
            [
             0.7777777777777778,
             "#6ece58"
            ],
            [
             0.8888888888888888,
             "#b5de2b"
            ],
            [
             1,
             "#fde725"
            ]
           ],
           "sequentialminus": [
            [
             0,
             "#440154"
            ],
            [
             0.1111111111111111,
             "#482878"
            ],
            [
             0.2222222222222222,
             "#3e4989"
            ],
            [
             0.3333333333333333,
             "#31688e"
            ],
            [
             0.4444444444444444,
             "#26828e"
            ],
            [
             0.5555555555555556,
             "#1f9e89"
            ],
            [
             0.6666666666666666,
             "#35b779"
            ],
            [
             0.7777777777777778,
             "#6ece58"
            ],
            [
             0.8888888888888888,
             "#b5de2b"
            ],
            [
             1,
             "#fde725"
            ]
           ]
          },
          "colorway": [
           "#1F77B4",
           "#FF7F0E",
           "#2CA02C",
           "#D62728",
           "#9467BD",
           "#8C564B",
           "#E377C2",
           "#7F7F7F",
           "#BCBD22",
           "#17BECF"
          ],
          "font": {
           "color": "rgb(36,36,36)"
          },
          "geo": {
           "bgcolor": "white",
           "lakecolor": "white",
           "landcolor": "white",
           "showlakes": true,
           "showland": true,
           "subunitcolor": "white"
          },
          "hoverlabel": {
           "align": "left"
          },
          "hovermode": "closest",
          "mapbox": {
           "style": "light"
          },
          "paper_bgcolor": "white",
          "plot_bgcolor": "white",
          "polar": {
           "angularaxis": {
            "gridcolor": "rgb(232,232,232)",
            "linecolor": "rgb(36,36,36)",
            "showgrid": false,
            "showline": true,
            "ticks": "outside"
           },
           "bgcolor": "white",
           "radialaxis": {
            "gridcolor": "rgb(232,232,232)",
            "linecolor": "rgb(36,36,36)",
            "showgrid": false,
            "showline": true,
            "ticks": "outside"
           }
          },
          "scene": {
           "xaxis": {
            "backgroundcolor": "white",
            "gridcolor": "rgb(232,232,232)",
            "gridwidth": 2,
            "linecolor": "rgb(36,36,36)",
            "showbackground": true,
            "showgrid": false,
            "showline": true,
            "ticks": "outside",
            "zeroline": false,
            "zerolinecolor": "rgb(36,36,36)"
           },
           "yaxis": {
            "backgroundcolor": "white",
            "gridcolor": "rgb(232,232,232)",
            "gridwidth": 2,
            "linecolor": "rgb(36,36,36)",
            "showbackground": true,
            "showgrid": false,
            "showline": true,
            "ticks": "outside",
            "zeroline": false,
            "zerolinecolor": "rgb(36,36,36)"
           },
           "zaxis": {
            "backgroundcolor": "white",
            "gridcolor": "rgb(232,232,232)",
            "gridwidth": 2,
            "linecolor": "rgb(36,36,36)",
            "showbackground": true,
            "showgrid": false,
            "showline": true,
            "ticks": "outside",
            "zeroline": false,
            "zerolinecolor": "rgb(36,36,36)"
           }
          },
          "shapedefaults": {
           "fillcolor": "black",
           "line": {
            "width": 0
           },
           "opacity": 0.3
          },
          "ternary": {
           "aaxis": {
            "gridcolor": "rgb(232,232,232)",
            "linecolor": "rgb(36,36,36)",
            "showgrid": false,
            "showline": true,
            "ticks": "outside"
           },
           "baxis": {
            "gridcolor": "rgb(232,232,232)",
            "linecolor": "rgb(36,36,36)",
            "showgrid": false,
            "showline": true,
            "ticks": "outside"
           },
           "bgcolor": "white",
           "caxis": {
            "gridcolor": "rgb(232,232,232)",
            "linecolor": "rgb(36,36,36)",
            "showgrid": false,
            "showline": true,
            "ticks": "outside"
           }
          },
          "title": {
           "x": 0.05
          },
          "xaxis": {
           "automargin": true,
           "gridcolor": "rgb(232,232,232)",
           "linecolor": "rgb(36,36,36)",
           "showgrid": false,
           "showline": true,
           "ticks": "outside",
           "title": {
            "standoff": 15
           },
           "zeroline": false,
           "zerolinecolor": "rgb(36,36,36)"
          },
          "yaxis": {
           "automargin": true,
           "gridcolor": "rgb(232,232,232)",
           "linecolor": "rgb(36,36,36)",
           "showgrid": false,
           "showline": true,
           "ticks": "outside",
           "title": {
            "standoff": 15
           },
           "zeroline": false,
           "zerolinecolor": "rgb(36,36,36)"
          }
         }
        },
        "title": {
         "text": "<b>Job role of retired employee<b>",
         "x": 0.5
        },
        "width": 700,
        "xaxis": {
         "anchor": "y",
         "domain": [
          0,
          1
         ],
         "title": {
          "text": "Job Role"
         }
        },
        "yaxis": {
         "anchor": "x",
         "domain": [
          0,
          1
         ],
         "title": {
          "text": "Total people"
         }
        }
       }
      }
     },
     "metadata": {},
     "output_type": "display_data"
    }
   ],
   "source": [
    "#¿Cuál es el rol en la compañia en el que más personas se retiraron?\n",
    "df_GR = pd.merge(df_retirement, df_general, how = 'left', on = 'EmployeeID')\n",
    "base = df_GR.groupby(['JobRole'])[['Attrition']].count().sort_values('Attrition', ascending= False).rename(columns={'Attrition': 'TotalPeople'}).reset_index()\n",
    "\n",
    "fig = px.bar(base, x = 'JobRole', y='TotalPeople',\n",
    "             title= '<b>Job role of retired employee<b>',\n",
    "             color_discrete_sequence=px.colors.qualitative.Dark2, width = 700)\n",
    "\n",
    "fig.update_layout(\n",
    "    xaxis_title = 'Job Role',\n",
    "    yaxis_title = 'Total people',\n",
    "    template = 'simple_white',\n",
    "    title_x = 0.5)\n",
    "\n",
    "fig.show()"
   ]
  },
  {
   "cell_type": "code",
   "execution_count": 96,
   "metadata": {},
   "outputs": [
    {
     "data": {
      "text/html": [
       "<div>\n",
       "<style scoped>\n",
       "    .dataframe tbody tr th:only-of-type {\n",
       "        vertical-align: middle;\n",
       "    }\n",
       "\n",
       "    .dataframe tbody tr th {\n",
       "        vertical-align: top;\n",
       "    }\n",
       "\n",
       "    .dataframe thead th {\n",
       "        text-align: right;\n",
       "    }\n",
       "</style>\n",
       "<table border=\"1\" class=\"dataframe\">\n",
       "  <thead>\n",
       "    <tr style=\"text-align: right;\">\n",
       "      <th></th>\n",
       "      <th>Age</th>\n",
       "      <th>TotalPeople</th>\n",
       "    </tr>\n",
       "  </thead>\n",
       "  <tbody>\n",
       "    <tr>\n",
       "      <th>0</th>\n",
       "      <td>G3</td>\n",
       "      <td>180</td>\n",
       "    </tr>\n",
       "    <tr>\n",
       "      <th>1</th>\n",
       "      <td>G5</td>\n",
       "      <td>172</td>\n",
       "    </tr>\n",
       "    <tr>\n",
       "      <th>2</th>\n",
       "      <td>G2</td>\n",
       "      <td>165</td>\n",
       "    </tr>\n",
       "    <tr>\n",
       "      <th>3</th>\n",
       "      <td>G1</td>\n",
       "      <td>120</td>\n",
       "    </tr>\n",
       "    <tr>\n",
       "      <th>4</th>\n",
       "      <td>G4</td>\n",
       "      <td>74</td>\n",
       "    </tr>\n",
       "  </tbody>\n",
       "</table>\n",
       "</div>"
      ],
      "text/plain": [
       "  Age  TotalPeople\n",
       "0  G3          180\n",
       "1  G5          172\n",
       "2  G2          165\n",
       "3  G1          120\n",
       "4  G4           74"
      ]
     },
     "execution_count": 96,
     "metadata": {},
     "output_type": "execute_result"
    }
   ],
   "source": [
    "#¿Cuál es la edad en la que más personas se retiraron?\n",
    "df_GR_groups = df_GR.copy(deep = True)\n",
    "df_GR_groups['Age'] = df_GR_groups['Age'].apply(lambda x: \"G1\" if (x >=19) & (x <=25) else \"G2\" if (x >=26) & (x <=30) else \"G3\" if (x >=31) & (x <=35) else \"G4\" if (x >=36) & (x <=40) else \"G5\")\n",
    "df_GR_groups.groupby(['Age'])[['Attrition']].count().sort_values('Attrition', ascending= False).rename(columns={'Attrition': 'TotalPeople'}).reset_index()"
   ]
  },
  {
   "cell_type": "code",
   "execution_count": 97,
   "metadata": {},
   "outputs": [
    {
     "data": {
      "text/html": [
       "<div>\n",
       "<style scoped>\n",
       "    .dataframe tbody tr th:only-of-type {\n",
       "        vertical-align: middle;\n",
       "    }\n",
       "\n",
       "    .dataframe tbody tr th {\n",
       "        vertical-align: top;\n",
       "    }\n",
       "\n",
       "    .dataframe thead th {\n",
       "        text-align: right;\n",
       "    }\n",
       "</style>\n",
       "<table border=\"1\" class=\"dataframe\">\n",
       "  <thead>\n",
       "    <tr style=\"text-align: right;\">\n",
       "      <th></th>\n",
       "      <th>MonthlyIncome</th>\n",
       "      <th>TotalPeople</th>\n",
       "    </tr>\n",
       "  </thead>\n",
       "  <tbody>\n",
       "    <tr>\n",
       "      <th>0</th>\n",
       "      <td>Medium high</td>\n",
       "      <td>188</td>\n",
       "    </tr>\n",
       "    <tr>\n",
       "      <th>1</th>\n",
       "      <td>Low</td>\n",
       "      <td>171</td>\n",
       "    </tr>\n",
       "    <tr>\n",
       "      <th>2</th>\n",
       "      <td>Medium</td>\n",
       "      <td>164</td>\n",
       "    </tr>\n",
       "    <tr>\n",
       "      <th>3</th>\n",
       "      <td>High</td>\n",
       "      <td>101</td>\n",
       "    </tr>\n",
       "    <tr>\n",
       "      <th>4</th>\n",
       "      <td>Very high</td>\n",
       "      <td>87</td>\n",
       "    </tr>\n",
       "  </tbody>\n",
       "</table>\n",
       "</div>"
      ],
      "text/plain": [
       "  MonthlyIncome  TotalPeople\n",
       "0   Medium high          188\n",
       "1           Low          171\n",
       "2        Medium          164\n",
       "3          High          101\n",
       "4     Very high           87"
      ]
     },
     "execution_count": 97,
     "metadata": {},
     "output_type": "execute_result"
    }
   ],
   "source": [
    "#Cuál es el salario más alto de las personas que se retiraron?\n",
    "df_GR_groups['MonthlyIncome'] = df_GR_groups['MonthlyIncome'].apply(lambda x: \"Low\" if (x >=0) & (x <=28210) else \"Medium\" if (x >=28211) & (x <=46800) else \"Medium high\" if (x >=46801) & (x <=68610) else \"High\" if (x >=68611) & (x <=116910) else \"Very high\")\n",
    "df_GR_groups.groupby(['MonthlyIncome'])[['Attrition']].count().sort_values('Attrition', ascending= False).rename(columns={'Attrition': 'TotalPeople'}).reset_index()"
   ]
  },
  {
   "cell_type": "code",
   "execution_count": 98,
   "metadata": {},
   "outputs": [
    {
     "name": "stdout",
     "output_type": "stream",
     "text": [
      "Salario minimo:  10090\n",
      "Salario máximo:  199990\n"
     ]
    }
   ],
   "source": [
    "#¿Cuál es el salario más alto y más bajo en la empresa?\n",
    "print('Salario minimo: ', df_general['MonthlyIncome'].min())\n",
    "print('Salario máximo: ', df_general['MonthlyIncome'].max())"
   ]
  },
  {
   "cell_type": "code",
   "execution_count": 99,
   "metadata": {},
   "outputs": [
    {
     "data": {
      "application/vnd.plotly.v1+json": {
       "config": {
        "plotlyServerURL": "https://plot.ly"
       },
       "data": [
        {
         "domain": {
          "x": [
           0,
           1
          ],
          "y": [
           0,
           1
          ]
         },
         "hovertemplate": "MaritalStatus=%{label}<br>TotalPeople=%{value}<extra></extra>",
         "labels": [
          "Single",
          "Married",
          "Divorced"
         ],
         "legendgroup": "",
         "name": "",
         "showlegend": true,
         "type": "pie",
         "values": [
          356,
          251,
          98
         ]
        }
       ],
       "layout": {
        "legend": {
         "tracegroupgap": 0
        },
        "margin": {
         "b": 20,
         "l": 20,
         "r": 20,
         "t": 100
        },
        "piecolorway": [
         "rgb(27,158,119)",
         "rgb(217,95,2)",
         "rgb(117,112,179)",
         "rgb(231,41,138)",
         "rgb(102,166,30)",
         "rgb(230,171,2)",
         "rgb(166,118,29)",
         "rgb(102,102,102)"
        ],
        "template": {
         "data": {
          "bar": [
           {
            "error_x": {
             "color": "rgb(36,36,36)"
            },
            "error_y": {
             "color": "rgb(36,36,36)"
            },
            "marker": {
             "line": {
              "color": "white",
              "width": 0.5
             },
             "pattern": {
              "fillmode": "overlay",
              "size": 10,
              "solidity": 0.2
             }
            },
            "type": "bar"
           }
          ],
          "barpolar": [
           {
            "marker": {
             "line": {
              "color": "white",
              "width": 0.5
             },
             "pattern": {
              "fillmode": "overlay",
              "size": 10,
              "solidity": 0.2
             }
            },
            "type": "barpolar"
           }
          ],
          "carpet": [
           {
            "aaxis": {
             "endlinecolor": "rgb(36,36,36)",
             "gridcolor": "white",
             "linecolor": "white",
             "minorgridcolor": "white",
             "startlinecolor": "rgb(36,36,36)"
            },
            "baxis": {
             "endlinecolor": "rgb(36,36,36)",
             "gridcolor": "white",
             "linecolor": "white",
             "minorgridcolor": "white",
             "startlinecolor": "rgb(36,36,36)"
            },
            "type": "carpet"
           }
          ],
          "choropleth": [
           {
            "colorbar": {
             "outlinewidth": 1,
             "tickcolor": "rgb(36,36,36)",
             "ticks": "outside"
            },
            "type": "choropleth"
           }
          ],
          "contour": [
           {
            "colorbar": {
             "outlinewidth": 1,
             "tickcolor": "rgb(36,36,36)",
             "ticks": "outside"
            },
            "colorscale": [
             [
              0,
              "#440154"
             ],
             [
              0.1111111111111111,
              "#482878"
             ],
             [
              0.2222222222222222,
              "#3e4989"
             ],
             [
              0.3333333333333333,
              "#31688e"
             ],
             [
              0.4444444444444444,
              "#26828e"
             ],
             [
              0.5555555555555556,
              "#1f9e89"
             ],
             [
              0.6666666666666666,
              "#35b779"
             ],
             [
              0.7777777777777778,
              "#6ece58"
             ],
             [
              0.8888888888888888,
              "#b5de2b"
             ],
             [
              1,
              "#fde725"
             ]
            ],
            "type": "contour"
           }
          ],
          "contourcarpet": [
           {
            "colorbar": {
             "outlinewidth": 1,
             "tickcolor": "rgb(36,36,36)",
             "ticks": "outside"
            },
            "type": "contourcarpet"
           }
          ],
          "heatmap": [
           {
            "colorbar": {
             "outlinewidth": 1,
             "tickcolor": "rgb(36,36,36)",
             "ticks": "outside"
            },
            "colorscale": [
             [
              0,
              "#440154"
             ],
             [
              0.1111111111111111,
              "#482878"
             ],
             [
              0.2222222222222222,
              "#3e4989"
             ],
             [
              0.3333333333333333,
              "#31688e"
             ],
             [
              0.4444444444444444,
              "#26828e"
             ],
             [
              0.5555555555555556,
              "#1f9e89"
             ],
             [
              0.6666666666666666,
              "#35b779"
             ],
             [
              0.7777777777777778,
              "#6ece58"
             ],
             [
              0.8888888888888888,
              "#b5de2b"
             ],
             [
              1,
              "#fde725"
             ]
            ],
            "type": "heatmap"
           }
          ],
          "heatmapgl": [
           {
            "colorbar": {
             "outlinewidth": 1,
             "tickcolor": "rgb(36,36,36)",
             "ticks": "outside"
            },
            "colorscale": [
             [
              0,
              "#440154"
             ],
             [
              0.1111111111111111,
              "#482878"
             ],
             [
              0.2222222222222222,
              "#3e4989"
             ],
             [
              0.3333333333333333,
              "#31688e"
             ],
             [
              0.4444444444444444,
              "#26828e"
             ],
             [
              0.5555555555555556,
              "#1f9e89"
             ],
             [
              0.6666666666666666,
              "#35b779"
             ],
             [
              0.7777777777777778,
              "#6ece58"
             ],
             [
              0.8888888888888888,
              "#b5de2b"
             ],
             [
              1,
              "#fde725"
             ]
            ],
            "type": "heatmapgl"
           }
          ],
          "histogram": [
           {
            "marker": {
             "line": {
              "color": "white",
              "width": 0.6
             }
            },
            "type": "histogram"
           }
          ],
          "histogram2d": [
           {
            "colorbar": {
             "outlinewidth": 1,
             "tickcolor": "rgb(36,36,36)",
             "ticks": "outside"
            },
            "colorscale": [
             [
              0,
              "#440154"
             ],
             [
              0.1111111111111111,
              "#482878"
             ],
             [
              0.2222222222222222,
              "#3e4989"
             ],
             [
              0.3333333333333333,
              "#31688e"
             ],
             [
              0.4444444444444444,
              "#26828e"
             ],
             [
              0.5555555555555556,
              "#1f9e89"
             ],
             [
              0.6666666666666666,
              "#35b779"
             ],
             [
              0.7777777777777778,
              "#6ece58"
             ],
             [
              0.8888888888888888,
              "#b5de2b"
             ],
             [
              1,
              "#fde725"
             ]
            ],
            "type": "histogram2d"
           }
          ],
          "histogram2dcontour": [
           {
            "colorbar": {
             "outlinewidth": 1,
             "tickcolor": "rgb(36,36,36)",
             "ticks": "outside"
            },
            "colorscale": [
             [
              0,
              "#440154"
             ],
             [
              0.1111111111111111,
              "#482878"
             ],
             [
              0.2222222222222222,
              "#3e4989"
             ],
             [
              0.3333333333333333,
              "#31688e"
             ],
             [
              0.4444444444444444,
              "#26828e"
             ],
             [
              0.5555555555555556,
              "#1f9e89"
             ],
             [
              0.6666666666666666,
              "#35b779"
             ],
             [
              0.7777777777777778,
              "#6ece58"
             ],
             [
              0.8888888888888888,
              "#b5de2b"
             ],
             [
              1,
              "#fde725"
             ]
            ],
            "type": "histogram2dcontour"
           }
          ],
          "mesh3d": [
           {
            "colorbar": {
             "outlinewidth": 1,
             "tickcolor": "rgb(36,36,36)",
             "ticks": "outside"
            },
            "type": "mesh3d"
           }
          ],
          "parcoords": [
           {
            "line": {
             "colorbar": {
              "outlinewidth": 1,
              "tickcolor": "rgb(36,36,36)",
              "ticks": "outside"
             }
            },
            "type": "parcoords"
           }
          ],
          "pie": [
           {
            "automargin": true,
            "type": "pie"
           }
          ],
          "scatter": [
           {
            "marker": {
             "colorbar": {
              "outlinewidth": 1,
              "tickcolor": "rgb(36,36,36)",
              "ticks": "outside"
             }
            },
            "type": "scatter"
           }
          ],
          "scatter3d": [
           {
            "line": {
             "colorbar": {
              "outlinewidth": 1,
              "tickcolor": "rgb(36,36,36)",
              "ticks": "outside"
             }
            },
            "marker": {
             "colorbar": {
              "outlinewidth": 1,
              "tickcolor": "rgb(36,36,36)",
              "ticks": "outside"
             }
            },
            "type": "scatter3d"
           }
          ],
          "scattercarpet": [
           {
            "marker": {
             "colorbar": {
              "outlinewidth": 1,
              "tickcolor": "rgb(36,36,36)",
              "ticks": "outside"
             }
            },
            "type": "scattercarpet"
           }
          ],
          "scattergeo": [
           {
            "marker": {
             "colorbar": {
              "outlinewidth": 1,
              "tickcolor": "rgb(36,36,36)",
              "ticks": "outside"
             }
            },
            "type": "scattergeo"
           }
          ],
          "scattergl": [
           {
            "marker": {
             "colorbar": {
              "outlinewidth": 1,
              "tickcolor": "rgb(36,36,36)",
              "ticks": "outside"
             }
            },
            "type": "scattergl"
           }
          ],
          "scattermapbox": [
           {
            "marker": {
             "colorbar": {
              "outlinewidth": 1,
              "tickcolor": "rgb(36,36,36)",
              "ticks": "outside"
             }
            },
            "type": "scattermapbox"
           }
          ],
          "scatterpolar": [
           {
            "marker": {
             "colorbar": {
              "outlinewidth": 1,
              "tickcolor": "rgb(36,36,36)",
              "ticks": "outside"
             }
            },
            "type": "scatterpolar"
           }
          ],
          "scatterpolargl": [
           {
            "marker": {
             "colorbar": {
              "outlinewidth": 1,
              "tickcolor": "rgb(36,36,36)",
              "ticks": "outside"
             }
            },
            "type": "scatterpolargl"
           }
          ],
          "scatterternary": [
           {
            "marker": {
             "colorbar": {
              "outlinewidth": 1,
              "tickcolor": "rgb(36,36,36)",
              "ticks": "outside"
             }
            },
            "type": "scatterternary"
           }
          ],
          "surface": [
           {
            "colorbar": {
             "outlinewidth": 1,
             "tickcolor": "rgb(36,36,36)",
             "ticks": "outside"
            },
            "colorscale": [
             [
              0,
              "#440154"
             ],
             [
              0.1111111111111111,
              "#482878"
             ],
             [
              0.2222222222222222,
              "#3e4989"
             ],
             [
              0.3333333333333333,
              "#31688e"
             ],
             [
              0.4444444444444444,
              "#26828e"
             ],
             [
              0.5555555555555556,
              "#1f9e89"
             ],
             [
              0.6666666666666666,
              "#35b779"
             ],
             [
              0.7777777777777778,
              "#6ece58"
             ],
             [
              0.8888888888888888,
              "#b5de2b"
             ],
             [
              1,
              "#fde725"
             ]
            ],
            "type": "surface"
           }
          ],
          "table": [
           {
            "cells": {
             "fill": {
              "color": "rgb(237,237,237)"
             },
             "line": {
              "color": "white"
             }
            },
            "header": {
             "fill": {
              "color": "rgb(217,217,217)"
             },
             "line": {
              "color": "white"
             }
            },
            "type": "table"
           }
          ]
         },
         "layout": {
          "annotationdefaults": {
           "arrowhead": 0,
           "arrowwidth": 1
          },
          "autotypenumbers": "strict",
          "coloraxis": {
           "colorbar": {
            "outlinewidth": 1,
            "tickcolor": "rgb(36,36,36)",
            "ticks": "outside"
           }
          },
          "colorscale": {
           "diverging": [
            [
             0,
             "rgb(103,0,31)"
            ],
            [
             0.1,
             "rgb(178,24,43)"
            ],
            [
             0.2,
             "rgb(214,96,77)"
            ],
            [
             0.3,
             "rgb(244,165,130)"
            ],
            [
             0.4,
             "rgb(253,219,199)"
            ],
            [
             0.5,
             "rgb(247,247,247)"
            ],
            [
             0.6,
             "rgb(209,229,240)"
            ],
            [
             0.7,
             "rgb(146,197,222)"
            ],
            [
             0.8,
             "rgb(67,147,195)"
            ],
            [
             0.9,
             "rgb(33,102,172)"
            ],
            [
             1,
             "rgb(5,48,97)"
            ]
           ],
           "sequential": [
            [
             0,
             "#440154"
            ],
            [
             0.1111111111111111,
             "#482878"
            ],
            [
             0.2222222222222222,
             "#3e4989"
            ],
            [
             0.3333333333333333,
             "#31688e"
            ],
            [
             0.4444444444444444,
             "#26828e"
            ],
            [
             0.5555555555555556,
             "#1f9e89"
            ],
            [
             0.6666666666666666,
             "#35b779"
            ],
            [
             0.7777777777777778,
             "#6ece58"
            ],
            [
             0.8888888888888888,
             "#b5de2b"
            ],
            [
             1,
             "#fde725"
            ]
           ],
           "sequentialminus": [
            [
             0,
             "#440154"
            ],
            [
             0.1111111111111111,
             "#482878"
            ],
            [
             0.2222222222222222,
             "#3e4989"
            ],
            [
             0.3333333333333333,
             "#31688e"
            ],
            [
             0.4444444444444444,
             "#26828e"
            ],
            [
             0.5555555555555556,
             "#1f9e89"
            ],
            [
             0.6666666666666666,
             "#35b779"
            ],
            [
             0.7777777777777778,
             "#6ece58"
            ],
            [
             0.8888888888888888,
             "#b5de2b"
            ],
            [
             1,
             "#fde725"
            ]
           ]
          },
          "colorway": [
           "#1F77B4",
           "#FF7F0E",
           "#2CA02C",
           "#D62728",
           "#9467BD",
           "#8C564B",
           "#E377C2",
           "#7F7F7F",
           "#BCBD22",
           "#17BECF"
          ],
          "font": {
           "color": "rgb(36,36,36)"
          },
          "geo": {
           "bgcolor": "white",
           "lakecolor": "white",
           "landcolor": "white",
           "showlakes": true,
           "showland": true,
           "subunitcolor": "white"
          },
          "hoverlabel": {
           "align": "left"
          },
          "hovermode": "closest",
          "mapbox": {
           "style": "light"
          },
          "paper_bgcolor": "white",
          "plot_bgcolor": "white",
          "polar": {
           "angularaxis": {
            "gridcolor": "rgb(232,232,232)",
            "linecolor": "rgb(36,36,36)",
            "showgrid": false,
            "showline": true,
            "ticks": "outside"
           },
           "bgcolor": "white",
           "radialaxis": {
            "gridcolor": "rgb(232,232,232)",
            "linecolor": "rgb(36,36,36)",
            "showgrid": false,
            "showline": true,
            "ticks": "outside"
           }
          },
          "scene": {
           "xaxis": {
            "backgroundcolor": "white",
            "gridcolor": "rgb(232,232,232)",
            "gridwidth": 2,
            "linecolor": "rgb(36,36,36)",
            "showbackground": true,
            "showgrid": false,
            "showline": true,
            "ticks": "outside",
            "zeroline": false,
            "zerolinecolor": "rgb(36,36,36)"
           },
           "yaxis": {
            "backgroundcolor": "white",
            "gridcolor": "rgb(232,232,232)",
            "gridwidth": 2,
            "linecolor": "rgb(36,36,36)",
            "showbackground": true,
            "showgrid": false,
            "showline": true,
            "ticks": "outside",
            "zeroline": false,
            "zerolinecolor": "rgb(36,36,36)"
           },
           "zaxis": {
            "backgroundcolor": "white",
            "gridcolor": "rgb(232,232,232)",
            "gridwidth": 2,
            "linecolor": "rgb(36,36,36)",
            "showbackground": true,
            "showgrid": false,
            "showline": true,
            "ticks": "outside",
            "zeroline": false,
            "zerolinecolor": "rgb(36,36,36)"
           }
          },
          "shapedefaults": {
           "fillcolor": "black",
           "line": {
            "width": 0
           },
           "opacity": 0.3
          },
          "ternary": {
           "aaxis": {
            "gridcolor": "rgb(232,232,232)",
            "linecolor": "rgb(36,36,36)",
            "showgrid": false,
            "showline": true,
            "ticks": "outside"
           },
           "baxis": {
            "gridcolor": "rgb(232,232,232)",
            "linecolor": "rgb(36,36,36)",
            "showgrid": false,
            "showline": true,
            "ticks": "outside"
           },
           "bgcolor": "white",
           "caxis": {
            "gridcolor": "rgb(232,232,232)",
            "linecolor": "rgb(36,36,36)",
            "showgrid": false,
            "showline": true,
            "ticks": "outside"
           }
          },
          "title": {
           "x": 0.05
          },
          "xaxis": {
           "automargin": true,
           "gridcolor": "rgb(232,232,232)",
           "linecolor": "rgb(36,36,36)",
           "showgrid": false,
           "showline": true,
           "ticks": "outside",
           "title": {
            "standoff": 15
           },
           "zeroline": false,
           "zerolinecolor": "rgb(36,36,36)"
          },
          "yaxis": {
           "automargin": true,
           "gridcolor": "rgb(232,232,232)",
           "linecolor": "rgb(36,36,36)",
           "showgrid": false,
           "showline": true,
           "ticks": "outside",
           "title": {
            "standoff": 15
           },
           "zeroline": false,
           "zerolinecolor": "rgb(36,36,36)"
          }
         }
        },
        "title": {
         "text": "<b>Marital status of retired employee<b>",
         "x": 0.5
        },
        "width": 500
       }
      }
     },
     "metadata": {},
     "output_type": "display_data"
    }
   ],
   "source": [
    "#¿Cuál es el estado civil de las personas que se retiraron?\n",
    "base = df_GR.groupby(['MaritalStatus'])[['Attrition']].count().sort_values('Attrition', ascending= False).rename(columns={'Attrition': 'TotalPeople'}).reset_index()\n",
    "\n",
    "fig = px.pie(base, values = 'TotalPeople', names= 'MaritalStatus',\n",
    "             title= '<b>Marital status of retired employee<b>',\n",
    "             color_discrete_sequence=px.colors.qualitative.Dark2, width=500)\n",
    "\n",
    "fig.update_layout(\n",
    "    template = 'simple_white',\n",
    "    title_x = 0.5,  \n",
    "    margin = dict(l= 20, r=20, b=20, t=100))\n",
    "\n",
    "fig.show()"
   ]
  },
  {
   "cell_type": "code",
   "execution_count": 100,
   "metadata": {},
   "outputs": [
    {
     "data": {
      "text/html": [
       "<div>\n",
       "<style scoped>\n",
       "    .dataframe tbody tr th:only-of-type {\n",
       "        vertical-align: middle;\n",
       "    }\n",
       "\n",
       "    .dataframe tbody tr th {\n",
       "        vertical-align: top;\n",
       "    }\n",
       "\n",
       "    .dataframe thead th {\n",
       "        text-align: right;\n",
       "    }\n",
       "</style>\n",
       "<table border=\"1\" class=\"dataframe\">\n",
       "  <thead>\n",
       "    <tr style=\"text-align: right;\">\n",
       "      <th></th>\n",
       "      <th>EmployeeID</th>\n",
       "      <th>Attrition</th>\n",
       "      <th>retirementDate</th>\n",
       "      <th>retirementType</th>\n",
       "      <th>resignationReason</th>\n",
       "      <th>Age</th>\n",
       "      <th>BusinessTravel</th>\n",
       "      <th>Department</th>\n",
       "      <th>DistanceFromHome</th>\n",
       "      <th>Education</th>\n",
       "      <th>...</th>\n",
       "      <th>MaritalStatus</th>\n",
       "      <th>MonthlyIncome</th>\n",
       "      <th>NumCompaniesWorked</th>\n",
       "      <th>PercentSalaryHike</th>\n",
       "      <th>StockOptionLevel</th>\n",
       "      <th>TotalWorkingYears</th>\n",
       "      <th>TrainingTimesLastYear</th>\n",
       "      <th>YearsAtCompany</th>\n",
       "      <th>YearsSinceLastPromotion</th>\n",
       "      <th>YearsWithCurrManager</th>\n",
       "    </tr>\n",
       "  </thead>\n",
       "  <tbody>\n",
       "    <tr>\n",
       "      <th>0</th>\n",
       "      <td>2</td>\n",
       "      <td>Yes</td>\n",
       "      <td>15/10/2016</td>\n",
       "      <td>Resignation</td>\n",
       "      <td>Others</td>\n",
       "      <td>31.0</td>\n",
       "      <td>Travel_Frequently</td>\n",
       "      <td>Research &amp; Development</td>\n",
       "      <td>10.0</td>\n",
       "      <td>1.0</td>\n",
       "      <td>...</td>\n",
       "      <td>Single</td>\n",
       "      <td>41890.0</td>\n",
       "      <td>0.0</td>\n",
       "      <td>23.0</td>\n",
       "      <td>1.0</td>\n",
       "      <td>6.0</td>\n",
       "      <td>3.0</td>\n",
       "      <td>5.0</td>\n",
       "      <td>1.0</td>\n",
       "      <td>4.0</td>\n",
       "    </tr>\n",
       "    <tr>\n",
       "      <th>1</th>\n",
       "      <td>7</td>\n",
       "      <td>Yes</td>\n",
       "      <td>20/7/2016</td>\n",
       "      <td>Resignation</td>\n",
       "      <td>Stress</td>\n",
       "      <td>28.0</td>\n",
       "      <td>Travel_Rarely</td>\n",
       "      <td>Research &amp; Development</td>\n",
       "      <td>11.0</td>\n",
       "      <td>2.0</td>\n",
       "      <td>...</td>\n",
       "      <td>Single</td>\n",
       "      <td>58130.0</td>\n",
       "      <td>2.0</td>\n",
       "      <td>20.0</td>\n",
       "      <td>1.0</td>\n",
       "      <td>5.0</td>\n",
       "      <td>2.0</td>\n",
       "      <td>0.0</td>\n",
       "      <td>0.0</td>\n",
       "      <td>0.0</td>\n",
       "    </tr>\n",
       "    <tr>\n",
       "      <th>2</th>\n",
       "      <td>14</td>\n",
       "      <td>Yes</td>\n",
       "      <td>8/11/2016</td>\n",
       "      <td>Resignation</td>\n",
       "      <td>Others</td>\n",
       "      <td>47.0</td>\n",
       "      <td>Non-Travel</td>\n",
       "      <td>Research &amp; Development</td>\n",
       "      <td>1.0</td>\n",
       "      <td>1.0</td>\n",
       "      <td>...</td>\n",
       "      <td>Married</td>\n",
       "      <td>57620.0</td>\n",
       "      <td>1.0</td>\n",
       "      <td>11.0</td>\n",
       "      <td>2.0</td>\n",
       "      <td>10.0</td>\n",
       "      <td>4.0</td>\n",
       "      <td>10.0</td>\n",
       "      <td>9.0</td>\n",
       "      <td>9.0</td>\n",
       "    </tr>\n",
       "    <tr>\n",
       "      <th>3</th>\n",
       "      <td>29</td>\n",
       "      <td>Yes</td>\n",
       "      <td>15/10/2016</td>\n",
       "      <td>Resignation</td>\n",
       "      <td>Others</td>\n",
       "      <td>44.0</td>\n",
       "      <td>Travel_Frequently</td>\n",
       "      <td>Research &amp; Development</td>\n",
       "      <td>1.0</td>\n",
       "      <td>2.0</td>\n",
       "      <td>...</td>\n",
       "      <td>Divorced</td>\n",
       "      <td>103330.0</td>\n",
       "      <td>3.0</td>\n",
       "      <td>14.0</td>\n",
       "      <td>1.0</td>\n",
       "      <td>19.0</td>\n",
       "      <td>2.0</td>\n",
       "      <td>1.0</td>\n",
       "      <td>0.0</td>\n",
       "      <td>0.0</td>\n",
       "    </tr>\n",
       "    <tr>\n",
       "      <th>4</th>\n",
       "      <td>31</td>\n",
       "      <td>Yes</td>\n",
       "      <td>8/2/2016</td>\n",
       "      <td>Resignation</td>\n",
       "      <td>Salary</td>\n",
       "      <td>26.0</td>\n",
       "      <td>Travel_Rarely</td>\n",
       "      <td>Research &amp; Development</td>\n",
       "      <td>4.0</td>\n",
       "      <td>3.0</td>\n",
       "      <td>...</td>\n",
       "      <td>Divorced</td>\n",
       "      <td>68540.0</td>\n",
       "      <td>2.0</td>\n",
       "      <td>11.0</td>\n",
       "      <td>0.0</td>\n",
       "      <td>5.0</td>\n",
       "      <td>5.0</td>\n",
       "      <td>3.0</td>\n",
       "      <td>0.0</td>\n",
       "      <td>2.0</td>\n",
       "    </tr>\n",
       "    <tr>\n",
       "      <th>...</th>\n",
       "      <td>...</td>\n",
       "      <td>...</td>\n",
       "      <td>...</td>\n",
       "      <td>...</td>\n",
       "      <td>...</td>\n",
       "      <td>...</td>\n",
       "      <td>...</td>\n",
       "      <td>...</td>\n",
       "      <td>...</td>\n",
       "      <td>...</td>\n",
       "      <td>...</td>\n",
       "      <td>...</td>\n",
       "      <td>...</td>\n",
       "      <td>...</td>\n",
       "      <td>...</td>\n",
       "      <td>...</td>\n",
       "      <td>...</td>\n",
       "      <td>...</td>\n",
       "      <td>...</td>\n",
       "      <td>...</td>\n",
       "      <td>...</td>\n",
       "    </tr>\n",
       "    <tr>\n",
       "      <th>706</th>\n",
       "      <td>4382</td>\n",
       "      <td>Yes</td>\n",
       "      <td>18/4/2016</td>\n",
       "      <td>Resignation</td>\n",
       "      <td>Salary</td>\n",
       "      <td>29.0</td>\n",
       "      <td>Travel_Rarely</td>\n",
       "      <td>Research &amp; Development</td>\n",
       "      <td>7.0</td>\n",
       "      <td>1.0</td>\n",
       "      <td>...</td>\n",
       "      <td>Single</td>\n",
       "      <td>21800.0</td>\n",
       "      <td>1.0</td>\n",
       "      <td>21.0</td>\n",
       "      <td>0.0</td>\n",
       "      <td>4.0</td>\n",
       "      <td>2.0</td>\n",
       "      <td>4.0</td>\n",
       "      <td>0.0</td>\n",
       "      <td>1.0</td>\n",
       "    </tr>\n",
       "    <tr>\n",
       "      <th>707</th>\n",
       "      <td>4387</td>\n",
       "      <td>Yes</td>\n",
       "      <td>16/9/2016</td>\n",
       "      <td>Resignation</td>\n",
       "      <td>Others</td>\n",
       "      <td>33.0</td>\n",
       "      <td>Travel_Rarely</td>\n",
       "      <td>Sales</td>\n",
       "      <td>11.0</td>\n",
       "      <td>4.0</td>\n",
       "      <td>...</td>\n",
       "      <td>Married</td>\n",
       "      <td>71400.0</td>\n",
       "      <td>5.0</td>\n",
       "      <td>21.0</td>\n",
       "      <td>0.0</td>\n",
       "      <td>8.0</td>\n",
       "      <td>2.0</td>\n",
       "      <td>5.0</td>\n",
       "      <td>0.0</td>\n",
       "      <td>4.0</td>\n",
       "    </tr>\n",
       "    <tr>\n",
       "      <th>708</th>\n",
       "      <td>4389</td>\n",
       "      <td>Yes</td>\n",
       "      <td>24/5/2016</td>\n",
       "      <td>Resignation</td>\n",
       "      <td>Others</td>\n",
       "      <td>33.0</td>\n",
       "      <td>Travel_Rarely</td>\n",
       "      <td>Sales</td>\n",
       "      <td>1.0</td>\n",
       "      <td>3.0</td>\n",
       "      <td>...</td>\n",
       "      <td>Married</td>\n",
       "      <td>51470.0</td>\n",
       "      <td>7.0</td>\n",
       "      <td>11.0</td>\n",
       "      <td>0.0</td>\n",
       "      <td>13.0</td>\n",
       "      <td>2.0</td>\n",
       "      <td>9.0</td>\n",
       "      <td>1.0</td>\n",
       "      <td>7.0</td>\n",
       "    </tr>\n",
       "    <tr>\n",
       "      <th>709</th>\n",
       "      <td>4392</td>\n",
       "      <td>Yes</td>\n",
       "      <td>26/2/2016</td>\n",
       "      <td>Fired</td>\n",
       "      <td>No information</td>\n",
       "      <td>32.0</td>\n",
       "      <td>Travel_Rarely</td>\n",
       "      <td>Sales</td>\n",
       "      <td>23.0</td>\n",
       "      <td>1.0</td>\n",
       "      <td>...</td>\n",
       "      <td>Single</td>\n",
       "      <td>24680.0</td>\n",
       "      <td>0.0</td>\n",
       "      <td>11.0</td>\n",
       "      <td>0.0</td>\n",
       "      <td>4.0</td>\n",
       "      <td>2.0</td>\n",
       "      <td>3.0</td>\n",
       "      <td>1.0</td>\n",
       "      <td>2.0</td>\n",
       "    </tr>\n",
       "    <tr>\n",
       "      <th>710</th>\n",
       "      <td>4403</td>\n",
       "      <td>Yes</td>\n",
       "      <td>26/1/2016</td>\n",
       "      <td>Resignation</td>\n",
       "      <td>Stress</td>\n",
       "      <td>37.0</td>\n",
       "      <td>Travel_Frequently</td>\n",
       "      <td>Sales</td>\n",
       "      <td>2.0</td>\n",
       "      <td>3.0</td>\n",
       "      <td>...</td>\n",
       "      <td>Divorced</td>\n",
       "      <td>40010.0</td>\n",
       "      <td>6.0</td>\n",
       "      <td>11.0</td>\n",
       "      <td>1.0</td>\n",
       "      <td>17.0</td>\n",
       "      <td>2.0</td>\n",
       "      <td>1.0</td>\n",
       "      <td>0.0</td>\n",
       "      <td>0.0</td>\n",
       "    </tr>\n",
       "  </tbody>\n",
       "</table>\n",
       "<p>711 rows × 24 columns</p>\n",
       "</div>"
      ],
      "text/plain": [
       "     EmployeeID Attrition retirementDate retirementType resignationReason  \\\n",
       "0             2       Yes     15/10/2016    Resignation            Others   \n",
       "1             7       Yes      20/7/2016    Resignation            Stress   \n",
       "2            14       Yes      8/11/2016    Resignation            Others   \n",
       "3            29       Yes     15/10/2016    Resignation            Others   \n",
       "4            31       Yes       8/2/2016    Resignation            Salary   \n",
       "..          ...       ...            ...            ...               ...   \n",
       "706        4382       Yes      18/4/2016    Resignation            Salary   \n",
       "707        4387       Yes      16/9/2016    Resignation            Others   \n",
       "708        4389       Yes      24/5/2016    Resignation            Others   \n",
       "709        4392       Yes      26/2/2016          Fired    No information   \n",
       "710        4403       Yes      26/1/2016    Resignation            Stress   \n",
       "\n",
       "      Age     BusinessTravel              Department  DistanceFromHome  \\\n",
       "0    31.0  Travel_Frequently  Research & Development              10.0   \n",
       "1    28.0      Travel_Rarely  Research & Development              11.0   \n",
       "2    47.0         Non-Travel  Research & Development               1.0   \n",
       "3    44.0  Travel_Frequently  Research & Development               1.0   \n",
       "4    26.0      Travel_Rarely  Research & Development               4.0   \n",
       "..    ...                ...                     ...               ...   \n",
       "706  29.0      Travel_Rarely  Research & Development               7.0   \n",
       "707  33.0      Travel_Rarely                   Sales              11.0   \n",
       "708  33.0      Travel_Rarely                   Sales               1.0   \n",
       "709  32.0      Travel_Rarely                   Sales              23.0   \n",
       "710  37.0  Travel_Frequently                   Sales               2.0   \n",
       "\n",
       "     Education  ... MaritalStatus MonthlyIncome  NumCompaniesWorked  \\\n",
       "0          1.0  ...        Single       41890.0                 0.0   \n",
       "1          2.0  ...        Single       58130.0                 2.0   \n",
       "2          1.0  ...       Married       57620.0                 1.0   \n",
       "3          2.0  ...      Divorced      103330.0                 3.0   \n",
       "4          3.0  ...      Divorced       68540.0                 2.0   \n",
       "..         ...  ...           ...           ...                 ...   \n",
       "706        1.0  ...        Single       21800.0                 1.0   \n",
       "707        4.0  ...       Married       71400.0                 5.0   \n",
       "708        3.0  ...       Married       51470.0                 7.0   \n",
       "709        1.0  ...        Single       24680.0                 0.0   \n",
       "710        3.0  ...      Divorced       40010.0                 6.0   \n",
       "\n",
       "    PercentSalaryHike StockOptionLevel  TotalWorkingYears  \\\n",
       "0                23.0              1.0                6.0   \n",
       "1                20.0              1.0                5.0   \n",
       "2                11.0              2.0               10.0   \n",
       "3                14.0              1.0               19.0   \n",
       "4                11.0              0.0                5.0   \n",
       "..                ...              ...                ...   \n",
       "706              21.0              0.0                4.0   \n",
       "707              21.0              0.0                8.0   \n",
       "708              11.0              0.0               13.0   \n",
       "709              11.0              0.0                4.0   \n",
       "710              11.0              1.0               17.0   \n",
       "\n",
       "     TrainingTimesLastYear  YearsAtCompany  YearsSinceLastPromotion  \\\n",
       "0                      3.0             5.0                      1.0   \n",
       "1                      2.0             0.0                      0.0   \n",
       "2                      4.0            10.0                      9.0   \n",
       "3                      2.0             1.0                      0.0   \n",
       "4                      5.0             3.0                      0.0   \n",
       "..                     ...             ...                      ...   \n",
       "706                    2.0             4.0                      0.0   \n",
       "707                    2.0             5.0                      0.0   \n",
       "708                    2.0             9.0                      1.0   \n",
       "709                    2.0             3.0                      1.0   \n",
       "710                    2.0             1.0                      0.0   \n",
       "\n",
       "     YearsWithCurrManager  \n",
       "0                     4.0  \n",
       "1                     0.0  \n",
       "2                     9.0  \n",
       "3                     0.0  \n",
       "4                     2.0  \n",
       "..                    ...  \n",
       "706                   1.0  \n",
       "707                   4.0  \n",
       "708                   7.0  \n",
       "709                   2.0  \n",
       "710                   0.0  \n",
       "\n",
       "[711 rows x 24 columns]"
      ]
     },
     "execution_count": 100,
     "metadata": {},
     "output_type": "execute_result"
    }
   ],
   "source": [
    "df_GR"
   ]
  },
  {
   "cell_type": "code",
   "execution_count": 101,
   "metadata": {},
   "outputs": [
    {
     "data": {
      "text/html": [
       "<div>\n",
       "<style scoped>\n",
       "    .dataframe tbody tr th:only-of-type {\n",
       "        vertical-align: middle;\n",
       "    }\n",
       "\n",
       "    .dataframe tbody tr th {\n",
       "        vertical-align: top;\n",
       "    }\n",
       "\n",
       "    .dataframe thead th {\n",
       "        text-align: right;\n",
       "    }\n",
       "</style>\n",
       "<table border=\"1\" class=\"dataframe\">\n",
       "  <thead>\n",
       "    <tr style=\"text-align: right;\">\n",
       "      <th></th>\n",
       "      <th>Gender</th>\n",
       "      <th>Department</th>\n",
       "      <th>%</th>\n",
       "    </tr>\n",
       "  </thead>\n",
       "  <tbody>\n",
       "    <tr>\n",
       "      <th>0</th>\n",
       "      <td>Female</td>\n",
       "      <td>Human Resources</td>\n",
       "      <td>2.84</td>\n",
       "    </tr>\n",
       "    <tr>\n",
       "      <th>1</th>\n",
       "      <td>Female</td>\n",
       "      <td>Research &amp; Development</td>\n",
       "      <td>25.82</td>\n",
       "    </tr>\n",
       "    <tr>\n",
       "      <th>2</th>\n",
       "      <td>Female</td>\n",
       "      <td>Sales</td>\n",
       "      <td>9.36</td>\n",
       "    </tr>\n",
       "    <tr>\n",
       "      <th>3</th>\n",
       "      <td>Male</td>\n",
       "      <td>Human Resources</td>\n",
       "      <td>4.96</td>\n",
       "    </tr>\n",
       "    <tr>\n",
       "      <th>4</th>\n",
       "      <td>Male</td>\n",
       "      <td>Research &amp; Development</td>\n",
       "      <td>37.87</td>\n",
       "    </tr>\n",
       "    <tr>\n",
       "      <th>5</th>\n",
       "      <td>Male</td>\n",
       "      <td>Sales</td>\n",
       "      <td>19.15</td>\n",
       "    </tr>\n",
       "  </tbody>\n",
       "</table>\n",
       "</div>"
      ],
      "text/plain": [
       "   Gender              Department      %\n",
       "0  Female         Human Resources   2.84\n",
       "1  Female  Research & Development  25.82\n",
       "2  Female                   Sales   9.36\n",
       "3    Male         Human Resources   4.96\n",
       "4    Male  Research & Development  37.87\n",
       "5    Male                   Sales  19.15"
      ]
     },
     "execution_count": 101,
     "metadata": {},
     "output_type": "execute_result"
    }
   ],
   "source": [
    "#¿Cuál es el porcentaje por género de retiros según las áreas de la empresa? \n",
    "df_GRA=df_GR.groupby(['Gender','Department']) [['Attrition']].count().rename(columns={'Attrition': 'TotalPeople'}).reset_index()\n",
    "df_GRA['%'] = round(df_GRA['TotalPeople']/df_GRA['TotalPeople'].sum()*100, 2)\n",
    "df_GRA.drop('TotalPeople', axis=1)"
   ]
  },
  {
   "cell_type": "code",
   "execution_count": 102,
   "metadata": {},
   "outputs": [
    {
     "data": {
      "text/html": [
       "<div>\n",
       "<style scoped>\n",
       "    .dataframe tbody tr th:only-of-type {\n",
       "        vertical-align: middle;\n",
       "    }\n",
       "\n",
       "    .dataframe tbody tr th {\n",
       "        vertical-align: top;\n",
       "    }\n",
       "\n",
       "    .dataframe thead th {\n",
       "        text-align: right;\n",
       "    }\n",
       "</style>\n",
       "<table border=\"1\" class=\"dataframe\">\n",
       "  <thead>\n",
       "    <tr style=\"text-align: right;\">\n",
       "      <th></th>\n",
       "      <th>BusinessTravel</th>\n",
       "      <th>% Active</th>\n",
       "      <th>% Retired</th>\n",
       "    </tr>\n",
       "  </thead>\n",
       "  <tbody>\n",
       "    <tr>\n",
       "      <th>0</th>\n",
       "      <td>Travel_Rarely</td>\n",
       "      <td>65.96</td>\n",
       "      <td>71.91</td>\n",
       "    </tr>\n",
       "    <tr>\n",
       "      <th>1</th>\n",
       "      <td>Travel_Frequently</td>\n",
       "      <td>28.94</td>\n",
       "      <td>16.89</td>\n",
       "    </tr>\n",
       "    <tr>\n",
       "      <th>2</th>\n",
       "      <td>Non-Travel</td>\n",
       "      <td>5.11</td>\n",
       "      <td>11.20</td>\n",
       "    </tr>\n",
       "  </tbody>\n",
       "</table>\n",
       "</div>"
      ],
      "text/plain": [
       "      BusinessTravel  % Active  % Retired\n",
       "0      Travel_Rarely     65.96      71.91\n",
       "1  Travel_Frequently     28.94      16.89\n",
       "2         Non-Travel      5.11      11.20"
      ]
     },
     "execution_count": 102,
     "metadata": {},
     "output_type": "execute_result"
    }
   ],
   "source": [
    "#¿Qué tanto viajan las personas que renuncian con relación a las personas activas en la empresa?\n",
    "df = df_GR.groupby(['BusinessTravel'])[['Attrition']].count().sort_values('Attrition', ascending= False).rename(columns={'Attrition': 'TotalPeople'}).reset_index()\n",
    "df['% Active'] = round(df['TotalPeople']/df['TotalPeople'].sum()*100, 2)\n",
    "df.drop('TotalPeople', axis = 1, inplace = True)\n",
    "\n",
    "df2 = pd.merge(df_retirement, df_general, how = 'right', on = 'EmployeeID')\n",
    "df2['Attrition'] = df2['Attrition'].fillna('No')\n",
    "df2 = df2[df2['Attrition'] == 'No'].groupby(['BusinessTravel'])[['Attrition']].count().sort_values('Attrition', ascending= False).rename(columns={'Attrition': 'TotalPeople'}).reset_index()\n",
    "df2['% Retired'] = round(df2['TotalPeople']/df2['TotalPeople'].sum()*100, 2)\n",
    "df2.drop('TotalPeople', axis = 1, inplace = True)\n",
    "pd.merge(df, df2, how='inner', on = 'BusinessTravel')"
   ]
  },
  {
   "cell_type": "code",
   "execution_count": 103,
   "metadata": {},
   "outputs": [
    {
     "data": {
      "application/vnd.plotly.v1+json": {
       "config": {
        "plotlyServerURL": "https://plot.ly"
       },
       "data": [
        {
         "domain": {
          "x": [
           0,
           1
          ],
          "y": [
           0,
           1
          ]
         },
         "hovertemplate": "Department=%{label}<br>Total retired employees=%{value}<extra></extra>",
         "labels": [
          "Research & Development",
          "Sales",
          "Human Resources"
         ],
         "legendgroup": "",
         "name": "",
         "showlegend": true,
         "type": "pie",
         "values": [
          449,
          201,
          55
         ]
        }
       ],
       "layout": {
        "legend": {
         "tracegroupgap": 0
        },
        "margin": {
         "b": 20,
         "l": 20,
         "r": 20,
         "t": 100
        },
        "piecolorway": [
         "rgb(27,158,119)",
         "rgb(217,95,2)",
         "rgb(117,112,179)",
         "rgb(231,41,138)",
         "rgb(102,166,30)",
         "rgb(230,171,2)",
         "rgb(166,118,29)",
         "rgb(102,102,102)"
        ],
        "template": {
         "data": {
          "bar": [
           {
            "error_x": {
             "color": "rgb(36,36,36)"
            },
            "error_y": {
             "color": "rgb(36,36,36)"
            },
            "marker": {
             "line": {
              "color": "white",
              "width": 0.5
             },
             "pattern": {
              "fillmode": "overlay",
              "size": 10,
              "solidity": 0.2
             }
            },
            "type": "bar"
           }
          ],
          "barpolar": [
           {
            "marker": {
             "line": {
              "color": "white",
              "width": 0.5
             },
             "pattern": {
              "fillmode": "overlay",
              "size": 10,
              "solidity": 0.2
             }
            },
            "type": "barpolar"
           }
          ],
          "carpet": [
           {
            "aaxis": {
             "endlinecolor": "rgb(36,36,36)",
             "gridcolor": "white",
             "linecolor": "white",
             "minorgridcolor": "white",
             "startlinecolor": "rgb(36,36,36)"
            },
            "baxis": {
             "endlinecolor": "rgb(36,36,36)",
             "gridcolor": "white",
             "linecolor": "white",
             "minorgridcolor": "white",
             "startlinecolor": "rgb(36,36,36)"
            },
            "type": "carpet"
           }
          ],
          "choropleth": [
           {
            "colorbar": {
             "outlinewidth": 1,
             "tickcolor": "rgb(36,36,36)",
             "ticks": "outside"
            },
            "type": "choropleth"
           }
          ],
          "contour": [
           {
            "colorbar": {
             "outlinewidth": 1,
             "tickcolor": "rgb(36,36,36)",
             "ticks": "outside"
            },
            "colorscale": [
             [
              0,
              "#440154"
             ],
             [
              0.1111111111111111,
              "#482878"
             ],
             [
              0.2222222222222222,
              "#3e4989"
             ],
             [
              0.3333333333333333,
              "#31688e"
             ],
             [
              0.4444444444444444,
              "#26828e"
             ],
             [
              0.5555555555555556,
              "#1f9e89"
             ],
             [
              0.6666666666666666,
              "#35b779"
             ],
             [
              0.7777777777777778,
              "#6ece58"
             ],
             [
              0.8888888888888888,
              "#b5de2b"
             ],
             [
              1,
              "#fde725"
             ]
            ],
            "type": "contour"
           }
          ],
          "contourcarpet": [
           {
            "colorbar": {
             "outlinewidth": 1,
             "tickcolor": "rgb(36,36,36)",
             "ticks": "outside"
            },
            "type": "contourcarpet"
           }
          ],
          "heatmap": [
           {
            "colorbar": {
             "outlinewidth": 1,
             "tickcolor": "rgb(36,36,36)",
             "ticks": "outside"
            },
            "colorscale": [
             [
              0,
              "#440154"
             ],
             [
              0.1111111111111111,
              "#482878"
             ],
             [
              0.2222222222222222,
              "#3e4989"
             ],
             [
              0.3333333333333333,
              "#31688e"
             ],
             [
              0.4444444444444444,
              "#26828e"
             ],
             [
              0.5555555555555556,
              "#1f9e89"
             ],
             [
              0.6666666666666666,
              "#35b779"
             ],
             [
              0.7777777777777778,
              "#6ece58"
             ],
             [
              0.8888888888888888,
              "#b5de2b"
             ],
             [
              1,
              "#fde725"
             ]
            ],
            "type": "heatmap"
           }
          ],
          "heatmapgl": [
           {
            "colorbar": {
             "outlinewidth": 1,
             "tickcolor": "rgb(36,36,36)",
             "ticks": "outside"
            },
            "colorscale": [
             [
              0,
              "#440154"
             ],
             [
              0.1111111111111111,
              "#482878"
             ],
             [
              0.2222222222222222,
              "#3e4989"
             ],
             [
              0.3333333333333333,
              "#31688e"
             ],
             [
              0.4444444444444444,
              "#26828e"
             ],
             [
              0.5555555555555556,
              "#1f9e89"
             ],
             [
              0.6666666666666666,
              "#35b779"
             ],
             [
              0.7777777777777778,
              "#6ece58"
             ],
             [
              0.8888888888888888,
              "#b5de2b"
             ],
             [
              1,
              "#fde725"
             ]
            ],
            "type": "heatmapgl"
           }
          ],
          "histogram": [
           {
            "marker": {
             "line": {
              "color": "white",
              "width": 0.6
             }
            },
            "type": "histogram"
           }
          ],
          "histogram2d": [
           {
            "colorbar": {
             "outlinewidth": 1,
             "tickcolor": "rgb(36,36,36)",
             "ticks": "outside"
            },
            "colorscale": [
             [
              0,
              "#440154"
             ],
             [
              0.1111111111111111,
              "#482878"
             ],
             [
              0.2222222222222222,
              "#3e4989"
             ],
             [
              0.3333333333333333,
              "#31688e"
             ],
             [
              0.4444444444444444,
              "#26828e"
             ],
             [
              0.5555555555555556,
              "#1f9e89"
             ],
             [
              0.6666666666666666,
              "#35b779"
             ],
             [
              0.7777777777777778,
              "#6ece58"
             ],
             [
              0.8888888888888888,
              "#b5de2b"
             ],
             [
              1,
              "#fde725"
             ]
            ],
            "type": "histogram2d"
           }
          ],
          "histogram2dcontour": [
           {
            "colorbar": {
             "outlinewidth": 1,
             "tickcolor": "rgb(36,36,36)",
             "ticks": "outside"
            },
            "colorscale": [
             [
              0,
              "#440154"
             ],
             [
              0.1111111111111111,
              "#482878"
             ],
             [
              0.2222222222222222,
              "#3e4989"
             ],
             [
              0.3333333333333333,
              "#31688e"
             ],
             [
              0.4444444444444444,
              "#26828e"
             ],
             [
              0.5555555555555556,
              "#1f9e89"
             ],
             [
              0.6666666666666666,
              "#35b779"
             ],
             [
              0.7777777777777778,
              "#6ece58"
             ],
             [
              0.8888888888888888,
              "#b5de2b"
             ],
             [
              1,
              "#fde725"
             ]
            ],
            "type": "histogram2dcontour"
           }
          ],
          "mesh3d": [
           {
            "colorbar": {
             "outlinewidth": 1,
             "tickcolor": "rgb(36,36,36)",
             "ticks": "outside"
            },
            "type": "mesh3d"
           }
          ],
          "parcoords": [
           {
            "line": {
             "colorbar": {
              "outlinewidth": 1,
              "tickcolor": "rgb(36,36,36)",
              "ticks": "outside"
             }
            },
            "type": "parcoords"
           }
          ],
          "pie": [
           {
            "automargin": true,
            "type": "pie"
           }
          ],
          "scatter": [
           {
            "marker": {
             "colorbar": {
              "outlinewidth": 1,
              "tickcolor": "rgb(36,36,36)",
              "ticks": "outside"
             }
            },
            "type": "scatter"
           }
          ],
          "scatter3d": [
           {
            "line": {
             "colorbar": {
              "outlinewidth": 1,
              "tickcolor": "rgb(36,36,36)",
              "ticks": "outside"
             }
            },
            "marker": {
             "colorbar": {
              "outlinewidth": 1,
              "tickcolor": "rgb(36,36,36)",
              "ticks": "outside"
             }
            },
            "type": "scatter3d"
           }
          ],
          "scattercarpet": [
           {
            "marker": {
             "colorbar": {
              "outlinewidth": 1,
              "tickcolor": "rgb(36,36,36)",
              "ticks": "outside"
             }
            },
            "type": "scattercarpet"
           }
          ],
          "scattergeo": [
           {
            "marker": {
             "colorbar": {
              "outlinewidth": 1,
              "tickcolor": "rgb(36,36,36)",
              "ticks": "outside"
             }
            },
            "type": "scattergeo"
           }
          ],
          "scattergl": [
           {
            "marker": {
             "colorbar": {
              "outlinewidth": 1,
              "tickcolor": "rgb(36,36,36)",
              "ticks": "outside"
             }
            },
            "type": "scattergl"
           }
          ],
          "scattermapbox": [
           {
            "marker": {
             "colorbar": {
              "outlinewidth": 1,
              "tickcolor": "rgb(36,36,36)",
              "ticks": "outside"
             }
            },
            "type": "scattermapbox"
           }
          ],
          "scatterpolar": [
           {
            "marker": {
             "colorbar": {
              "outlinewidth": 1,
              "tickcolor": "rgb(36,36,36)",
              "ticks": "outside"
             }
            },
            "type": "scatterpolar"
           }
          ],
          "scatterpolargl": [
           {
            "marker": {
             "colorbar": {
              "outlinewidth": 1,
              "tickcolor": "rgb(36,36,36)",
              "ticks": "outside"
             }
            },
            "type": "scatterpolargl"
           }
          ],
          "scatterternary": [
           {
            "marker": {
             "colorbar": {
              "outlinewidth": 1,
              "tickcolor": "rgb(36,36,36)",
              "ticks": "outside"
             }
            },
            "type": "scatterternary"
           }
          ],
          "surface": [
           {
            "colorbar": {
             "outlinewidth": 1,
             "tickcolor": "rgb(36,36,36)",
             "ticks": "outside"
            },
            "colorscale": [
             [
              0,
              "#440154"
             ],
             [
              0.1111111111111111,
              "#482878"
             ],
             [
              0.2222222222222222,
              "#3e4989"
             ],
             [
              0.3333333333333333,
              "#31688e"
             ],
             [
              0.4444444444444444,
              "#26828e"
             ],
             [
              0.5555555555555556,
              "#1f9e89"
             ],
             [
              0.6666666666666666,
              "#35b779"
             ],
             [
              0.7777777777777778,
              "#6ece58"
             ],
             [
              0.8888888888888888,
              "#b5de2b"
             ],
             [
              1,
              "#fde725"
             ]
            ],
            "type": "surface"
           }
          ],
          "table": [
           {
            "cells": {
             "fill": {
              "color": "rgb(237,237,237)"
             },
             "line": {
              "color": "white"
             }
            },
            "header": {
             "fill": {
              "color": "rgb(217,217,217)"
             },
             "line": {
              "color": "white"
             }
            },
            "type": "table"
           }
          ]
         },
         "layout": {
          "annotationdefaults": {
           "arrowhead": 0,
           "arrowwidth": 1
          },
          "autotypenumbers": "strict",
          "coloraxis": {
           "colorbar": {
            "outlinewidth": 1,
            "tickcolor": "rgb(36,36,36)",
            "ticks": "outside"
           }
          },
          "colorscale": {
           "diverging": [
            [
             0,
             "rgb(103,0,31)"
            ],
            [
             0.1,
             "rgb(178,24,43)"
            ],
            [
             0.2,
             "rgb(214,96,77)"
            ],
            [
             0.3,
             "rgb(244,165,130)"
            ],
            [
             0.4,
             "rgb(253,219,199)"
            ],
            [
             0.5,
             "rgb(247,247,247)"
            ],
            [
             0.6,
             "rgb(209,229,240)"
            ],
            [
             0.7,
             "rgb(146,197,222)"
            ],
            [
             0.8,
             "rgb(67,147,195)"
            ],
            [
             0.9,
             "rgb(33,102,172)"
            ],
            [
             1,
             "rgb(5,48,97)"
            ]
           ],
           "sequential": [
            [
             0,
             "#440154"
            ],
            [
             0.1111111111111111,
             "#482878"
            ],
            [
             0.2222222222222222,
             "#3e4989"
            ],
            [
             0.3333333333333333,
             "#31688e"
            ],
            [
             0.4444444444444444,
             "#26828e"
            ],
            [
             0.5555555555555556,
             "#1f9e89"
            ],
            [
             0.6666666666666666,
             "#35b779"
            ],
            [
             0.7777777777777778,
             "#6ece58"
            ],
            [
             0.8888888888888888,
             "#b5de2b"
            ],
            [
             1,
             "#fde725"
            ]
           ],
           "sequentialminus": [
            [
             0,
             "#440154"
            ],
            [
             0.1111111111111111,
             "#482878"
            ],
            [
             0.2222222222222222,
             "#3e4989"
            ],
            [
             0.3333333333333333,
             "#31688e"
            ],
            [
             0.4444444444444444,
             "#26828e"
            ],
            [
             0.5555555555555556,
             "#1f9e89"
            ],
            [
             0.6666666666666666,
             "#35b779"
            ],
            [
             0.7777777777777778,
             "#6ece58"
            ],
            [
             0.8888888888888888,
             "#b5de2b"
            ],
            [
             1,
             "#fde725"
            ]
           ]
          },
          "colorway": [
           "#1F77B4",
           "#FF7F0E",
           "#2CA02C",
           "#D62728",
           "#9467BD",
           "#8C564B",
           "#E377C2",
           "#7F7F7F",
           "#BCBD22",
           "#17BECF"
          ],
          "font": {
           "color": "rgb(36,36,36)"
          },
          "geo": {
           "bgcolor": "white",
           "lakecolor": "white",
           "landcolor": "white",
           "showlakes": true,
           "showland": true,
           "subunitcolor": "white"
          },
          "hoverlabel": {
           "align": "left"
          },
          "hovermode": "closest",
          "mapbox": {
           "style": "light"
          },
          "paper_bgcolor": "white",
          "plot_bgcolor": "white",
          "polar": {
           "angularaxis": {
            "gridcolor": "rgb(232,232,232)",
            "linecolor": "rgb(36,36,36)",
            "showgrid": false,
            "showline": true,
            "ticks": "outside"
           },
           "bgcolor": "white",
           "radialaxis": {
            "gridcolor": "rgb(232,232,232)",
            "linecolor": "rgb(36,36,36)",
            "showgrid": false,
            "showline": true,
            "ticks": "outside"
           }
          },
          "scene": {
           "xaxis": {
            "backgroundcolor": "white",
            "gridcolor": "rgb(232,232,232)",
            "gridwidth": 2,
            "linecolor": "rgb(36,36,36)",
            "showbackground": true,
            "showgrid": false,
            "showline": true,
            "ticks": "outside",
            "zeroline": false,
            "zerolinecolor": "rgb(36,36,36)"
           },
           "yaxis": {
            "backgroundcolor": "white",
            "gridcolor": "rgb(232,232,232)",
            "gridwidth": 2,
            "linecolor": "rgb(36,36,36)",
            "showbackground": true,
            "showgrid": false,
            "showline": true,
            "ticks": "outside",
            "zeroline": false,
            "zerolinecolor": "rgb(36,36,36)"
           },
           "zaxis": {
            "backgroundcolor": "white",
            "gridcolor": "rgb(232,232,232)",
            "gridwidth": 2,
            "linecolor": "rgb(36,36,36)",
            "showbackground": true,
            "showgrid": false,
            "showline": true,
            "ticks": "outside",
            "zeroline": false,
            "zerolinecolor": "rgb(36,36,36)"
           }
          },
          "shapedefaults": {
           "fillcolor": "black",
           "line": {
            "width": 0
           },
           "opacity": 0.3
          },
          "ternary": {
           "aaxis": {
            "gridcolor": "rgb(232,232,232)",
            "linecolor": "rgb(36,36,36)",
            "showgrid": false,
            "showline": true,
            "ticks": "outside"
           },
           "baxis": {
            "gridcolor": "rgb(232,232,232)",
            "linecolor": "rgb(36,36,36)",
            "showgrid": false,
            "showline": true,
            "ticks": "outside"
           },
           "bgcolor": "white",
           "caxis": {
            "gridcolor": "rgb(232,232,232)",
            "linecolor": "rgb(36,36,36)",
            "showgrid": false,
            "showline": true,
            "ticks": "outside"
           }
          },
          "title": {
           "x": 0.05
          },
          "xaxis": {
           "automargin": true,
           "gridcolor": "rgb(232,232,232)",
           "linecolor": "rgb(36,36,36)",
           "showgrid": false,
           "showline": true,
           "ticks": "outside",
           "title": {
            "standoff": 15
           },
           "zeroline": false,
           "zerolinecolor": "rgb(36,36,36)"
          },
          "yaxis": {
           "automargin": true,
           "gridcolor": "rgb(232,232,232)",
           "linecolor": "rgb(36,36,36)",
           "showgrid": false,
           "showline": true,
           "ticks": "outside",
           "title": {
            "standoff": 15
           },
           "zeroline": false,
           "zerolinecolor": "rgb(36,36,36)"
          }
         }
        },
        "title": {
         "text": "<b>Total employee retirements by department<b>",
         "x": 0.5
        },
        "width": 500,
        "xaxis": {
         "title": {
          "text": "Department"
         }
        },
        "yaxis": {
         "title": {
          "text": "Total retired employees"
         }
        }
       }
      }
     },
     "metadata": {},
     "output_type": "display_data"
    }
   ],
   "source": [
    "#¿Cuál es el departamento con más retiros en la empresa?\n",
    "base = df_GR.groupby(['Department'])[['EmployeeID']].count().sort_values('EmployeeID', ascending = False).reset_index().rename(columns = {'EmployeeID': 'Total retired employees'}).head(10)\n",
    "fig = px.pie(base, values = 'Total retired employees', names ='Department',\n",
    "             title= '<b>Total employee retirements by department<b>',\n",
    "             color_discrete_sequence=px.colors.qualitative.Dark2, width=500)\n",
    "\n",
    "fig.update_layout(\n",
    "    xaxis_title = 'Department',\n",
    "    yaxis_title = 'Total retired employees', \n",
    "    template = 'simple_white',\n",
    "    title_x = 0.5, margin = dict(l= 20, r=20, b=20, t=100))\n",
    "\n",
    "fig.show()"
   ]
  },
  {
   "cell_type": "code",
   "execution_count": 128,
   "metadata": {},
   "outputs": [
    {
     "data": {
      "application/vnd.plotly.v1+json": {
       "config": {
        "plotlyServerURL": "https://plot.ly"
       },
       "data": [
        {
         "branchvalues": "total",
         "domain": {
          "x": [
           0,
           1
          ],
          "y": [
           0,
           1
          ]
         },
         "hovertemplate": "labels=%{label}<br>Total retired employees=%{value}<br>parent=%{parent}<br>id=%{id}<extra></extra>",
         "ids": [
          "Fired/Human Resources",
          "Resignation/Human Resources",
          "Fired/Research & Development",
          "Resignation/Research & Development",
          "Fired/Sales",
          "Resignation/Sales",
          "Fired",
          "Resignation"
         ],
         "labels": [
          "Human Resources",
          "Human Resources",
          "Research & Development",
          "Research & Development",
          "Sales",
          "Sales",
          "Fired",
          "Resignation"
         ],
         "name": "",
         "parents": [
          "Fired",
          "Resignation",
          "Fired",
          "Resignation",
          "Fired",
          "Resignation",
          "",
          ""
         ],
         "type": "sunburst",
         "values": [
          3,
          52,
          44,
          405,
          23,
          178,
          70,
          635
         ]
        }
       ],
       "layout": {
        "legend": {
         "tracegroupgap": 0
        },
        "sunburstcolorway": [
         "rgb(27,158,119)",
         "rgb(217,95,2)",
         "rgb(117,112,179)",
         "rgb(231,41,138)",
         "rgb(102,166,30)",
         "rgb(230,171,2)",
         "rgb(166,118,29)",
         "rgb(102,102,102)"
        ],
        "template": {
         "data": {
          "bar": [
           {
            "error_x": {
             "color": "#2a3f5f"
            },
            "error_y": {
             "color": "#2a3f5f"
            },
            "marker": {
             "line": {
              "color": "#E5ECF6",
              "width": 0.5
             },
             "pattern": {
              "fillmode": "overlay",
              "size": 10,
              "solidity": 0.2
             }
            },
            "type": "bar"
           }
          ],
          "barpolar": [
           {
            "marker": {
             "line": {
              "color": "#E5ECF6",
              "width": 0.5
             },
             "pattern": {
              "fillmode": "overlay",
              "size": 10,
              "solidity": 0.2
             }
            },
            "type": "barpolar"
           }
          ],
          "carpet": [
           {
            "aaxis": {
             "endlinecolor": "#2a3f5f",
             "gridcolor": "white",
             "linecolor": "white",
             "minorgridcolor": "white",
             "startlinecolor": "#2a3f5f"
            },
            "baxis": {
             "endlinecolor": "#2a3f5f",
             "gridcolor": "white",
             "linecolor": "white",
             "minorgridcolor": "white",
             "startlinecolor": "#2a3f5f"
            },
            "type": "carpet"
           }
          ],
          "choropleth": [
           {
            "colorbar": {
             "outlinewidth": 0,
             "ticks": ""
            },
            "type": "choropleth"
           }
          ],
          "contour": [
           {
            "colorbar": {
             "outlinewidth": 0,
             "ticks": ""
            },
            "colorscale": [
             [
              0,
              "#0d0887"
             ],
             [
              0.1111111111111111,
              "#46039f"
             ],
             [
              0.2222222222222222,
              "#7201a8"
             ],
             [
              0.3333333333333333,
              "#9c179e"
             ],
             [
              0.4444444444444444,
              "#bd3786"
             ],
             [
              0.5555555555555556,
              "#d8576b"
             ],
             [
              0.6666666666666666,
              "#ed7953"
             ],
             [
              0.7777777777777778,
              "#fb9f3a"
             ],
             [
              0.8888888888888888,
              "#fdca26"
             ],
             [
              1,
              "#f0f921"
             ]
            ],
            "type": "contour"
           }
          ],
          "contourcarpet": [
           {
            "colorbar": {
             "outlinewidth": 0,
             "ticks": ""
            },
            "type": "contourcarpet"
           }
          ],
          "heatmap": [
           {
            "colorbar": {
             "outlinewidth": 0,
             "ticks": ""
            },
            "colorscale": [
             [
              0,
              "#0d0887"
             ],
             [
              0.1111111111111111,
              "#46039f"
             ],
             [
              0.2222222222222222,
              "#7201a8"
             ],
             [
              0.3333333333333333,
              "#9c179e"
             ],
             [
              0.4444444444444444,
              "#bd3786"
             ],
             [
              0.5555555555555556,
              "#d8576b"
             ],
             [
              0.6666666666666666,
              "#ed7953"
             ],
             [
              0.7777777777777778,
              "#fb9f3a"
             ],
             [
              0.8888888888888888,
              "#fdca26"
             ],
             [
              1,
              "#f0f921"
             ]
            ],
            "type": "heatmap"
           }
          ],
          "heatmapgl": [
           {
            "colorbar": {
             "outlinewidth": 0,
             "ticks": ""
            },
            "colorscale": [
             [
              0,
              "#0d0887"
             ],
             [
              0.1111111111111111,
              "#46039f"
             ],
             [
              0.2222222222222222,
              "#7201a8"
             ],
             [
              0.3333333333333333,
              "#9c179e"
             ],
             [
              0.4444444444444444,
              "#bd3786"
             ],
             [
              0.5555555555555556,
              "#d8576b"
             ],
             [
              0.6666666666666666,
              "#ed7953"
             ],
             [
              0.7777777777777778,
              "#fb9f3a"
             ],
             [
              0.8888888888888888,
              "#fdca26"
             ],
             [
              1,
              "#f0f921"
             ]
            ],
            "type": "heatmapgl"
           }
          ],
          "histogram": [
           {
            "marker": {
             "pattern": {
              "fillmode": "overlay",
              "size": 10,
              "solidity": 0.2
             }
            },
            "type": "histogram"
           }
          ],
          "histogram2d": [
           {
            "colorbar": {
             "outlinewidth": 0,
             "ticks": ""
            },
            "colorscale": [
             [
              0,
              "#0d0887"
             ],
             [
              0.1111111111111111,
              "#46039f"
             ],
             [
              0.2222222222222222,
              "#7201a8"
             ],
             [
              0.3333333333333333,
              "#9c179e"
             ],
             [
              0.4444444444444444,
              "#bd3786"
             ],
             [
              0.5555555555555556,
              "#d8576b"
             ],
             [
              0.6666666666666666,
              "#ed7953"
             ],
             [
              0.7777777777777778,
              "#fb9f3a"
             ],
             [
              0.8888888888888888,
              "#fdca26"
             ],
             [
              1,
              "#f0f921"
             ]
            ],
            "type": "histogram2d"
           }
          ],
          "histogram2dcontour": [
           {
            "colorbar": {
             "outlinewidth": 0,
             "ticks": ""
            },
            "colorscale": [
             [
              0,
              "#0d0887"
             ],
             [
              0.1111111111111111,
              "#46039f"
             ],
             [
              0.2222222222222222,
              "#7201a8"
             ],
             [
              0.3333333333333333,
              "#9c179e"
             ],
             [
              0.4444444444444444,
              "#bd3786"
             ],
             [
              0.5555555555555556,
              "#d8576b"
             ],
             [
              0.6666666666666666,
              "#ed7953"
             ],
             [
              0.7777777777777778,
              "#fb9f3a"
             ],
             [
              0.8888888888888888,
              "#fdca26"
             ],
             [
              1,
              "#f0f921"
             ]
            ],
            "type": "histogram2dcontour"
           }
          ],
          "mesh3d": [
           {
            "colorbar": {
             "outlinewidth": 0,
             "ticks": ""
            },
            "type": "mesh3d"
           }
          ],
          "parcoords": [
           {
            "line": {
             "colorbar": {
              "outlinewidth": 0,
              "ticks": ""
             }
            },
            "type": "parcoords"
           }
          ],
          "pie": [
           {
            "automargin": true,
            "type": "pie"
           }
          ],
          "scatter": [
           {
            "marker": {
             "colorbar": {
              "outlinewidth": 0,
              "ticks": ""
             }
            },
            "type": "scatter"
           }
          ],
          "scatter3d": [
           {
            "line": {
             "colorbar": {
              "outlinewidth": 0,
              "ticks": ""
             }
            },
            "marker": {
             "colorbar": {
              "outlinewidth": 0,
              "ticks": ""
             }
            },
            "type": "scatter3d"
           }
          ],
          "scattercarpet": [
           {
            "marker": {
             "colorbar": {
              "outlinewidth": 0,
              "ticks": ""
             }
            },
            "type": "scattercarpet"
           }
          ],
          "scattergeo": [
           {
            "marker": {
             "colorbar": {
              "outlinewidth": 0,
              "ticks": ""
             }
            },
            "type": "scattergeo"
           }
          ],
          "scattergl": [
           {
            "marker": {
             "colorbar": {
              "outlinewidth": 0,
              "ticks": ""
             }
            },
            "type": "scattergl"
           }
          ],
          "scattermapbox": [
           {
            "marker": {
             "colorbar": {
              "outlinewidth": 0,
              "ticks": ""
             }
            },
            "type": "scattermapbox"
           }
          ],
          "scatterpolar": [
           {
            "marker": {
             "colorbar": {
              "outlinewidth": 0,
              "ticks": ""
             }
            },
            "type": "scatterpolar"
           }
          ],
          "scatterpolargl": [
           {
            "marker": {
             "colorbar": {
              "outlinewidth": 0,
              "ticks": ""
             }
            },
            "type": "scatterpolargl"
           }
          ],
          "scatterternary": [
           {
            "marker": {
             "colorbar": {
              "outlinewidth": 0,
              "ticks": ""
             }
            },
            "type": "scatterternary"
           }
          ],
          "surface": [
           {
            "colorbar": {
             "outlinewidth": 0,
             "ticks": ""
            },
            "colorscale": [
             [
              0,
              "#0d0887"
             ],
             [
              0.1111111111111111,
              "#46039f"
             ],
             [
              0.2222222222222222,
              "#7201a8"
             ],
             [
              0.3333333333333333,
              "#9c179e"
             ],
             [
              0.4444444444444444,
              "#bd3786"
             ],
             [
              0.5555555555555556,
              "#d8576b"
             ],
             [
              0.6666666666666666,
              "#ed7953"
             ],
             [
              0.7777777777777778,
              "#fb9f3a"
             ],
             [
              0.8888888888888888,
              "#fdca26"
             ],
             [
              1,
              "#f0f921"
             ]
            ],
            "type": "surface"
           }
          ],
          "table": [
           {
            "cells": {
             "fill": {
              "color": "#EBF0F8"
             },
             "line": {
              "color": "white"
             }
            },
            "header": {
             "fill": {
              "color": "#C8D4E3"
             },
             "line": {
              "color": "white"
             }
            },
            "type": "table"
           }
          ]
         },
         "layout": {
          "annotationdefaults": {
           "arrowcolor": "#2a3f5f",
           "arrowhead": 0,
           "arrowwidth": 1
          },
          "autotypenumbers": "strict",
          "coloraxis": {
           "colorbar": {
            "outlinewidth": 0,
            "ticks": ""
           }
          },
          "colorscale": {
           "diverging": [
            [
             0,
             "#8e0152"
            ],
            [
             0.1,
             "#c51b7d"
            ],
            [
             0.2,
             "#de77ae"
            ],
            [
             0.3,
             "#f1b6da"
            ],
            [
             0.4,
             "#fde0ef"
            ],
            [
             0.5,
             "#f7f7f7"
            ],
            [
             0.6,
             "#e6f5d0"
            ],
            [
             0.7,
             "#b8e186"
            ],
            [
             0.8,
             "#7fbc41"
            ],
            [
             0.9,
             "#4d9221"
            ],
            [
             1,
             "#276419"
            ]
           ],
           "sequential": [
            [
             0,
             "#0d0887"
            ],
            [
             0.1111111111111111,
             "#46039f"
            ],
            [
             0.2222222222222222,
             "#7201a8"
            ],
            [
             0.3333333333333333,
             "#9c179e"
            ],
            [
             0.4444444444444444,
             "#bd3786"
            ],
            [
             0.5555555555555556,
             "#d8576b"
            ],
            [
             0.6666666666666666,
             "#ed7953"
            ],
            [
             0.7777777777777778,
             "#fb9f3a"
            ],
            [
             0.8888888888888888,
             "#fdca26"
            ],
            [
             1,
             "#f0f921"
            ]
           ],
           "sequentialminus": [
            [
             0,
             "#0d0887"
            ],
            [
             0.1111111111111111,
             "#46039f"
            ],
            [
             0.2222222222222222,
             "#7201a8"
            ],
            [
             0.3333333333333333,
             "#9c179e"
            ],
            [
             0.4444444444444444,
             "#bd3786"
            ],
            [
             0.5555555555555556,
             "#d8576b"
            ],
            [
             0.6666666666666666,
             "#ed7953"
            ],
            [
             0.7777777777777778,
             "#fb9f3a"
            ],
            [
             0.8888888888888888,
             "#fdca26"
            ],
            [
             1,
             "#f0f921"
            ]
           ]
          },
          "colorway": [
           "#636efa",
           "#EF553B",
           "#00cc96",
           "#ab63fa",
           "#FFA15A",
           "#19d3f3",
           "#FF6692",
           "#B6E880",
           "#FF97FF",
           "#FECB52"
          ],
          "font": {
           "color": "#2a3f5f"
          },
          "geo": {
           "bgcolor": "white",
           "lakecolor": "white",
           "landcolor": "#E5ECF6",
           "showlakes": true,
           "showland": true,
           "subunitcolor": "white"
          },
          "hoverlabel": {
           "align": "left"
          },
          "hovermode": "closest",
          "mapbox": {
           "style": "light"
          },
          "paper_bgcolor": "white",
          "plot_bgcolor": "#E5ECF6",
          "polar": {
           "angularaxis": {
            "gridcolor": "white",
            "linecolor": "white",
            "ticks": ""
           },
           "bgcolor": "#E5ECF6",
           "radialaxis": {
            "gridcolor": "white",
            "linecolor": "white",
            "ticks": ""
           }
          },
          "scene": {
           "xaxis": {
            "backgroundcolor": "#E5ECF6",
            "gridcolor": "white",
            "gridwidth": 2,
            "linecolor": "white",
            "showbackground": true,
            "ticks": "",
            "zerolinecolor": "white"
           },
           "yaxis": {
            "backgroundcolor": "#E5ECF6",
            "gridcolor": "white",
            "gridwidth": 2,
            "linecolor": "white",
            "showbackground": true,
            "ticks": "",
            "zerolinecolor": "white"
           },
           "zaxis": {
            "backgroundcolor": "#E5ECF6",
            "gridcolor": "white",
            "gridwidth": 2,
            "linecolor": "white",
            "showbackground": true,
            "ticks": "",
            "zerolinecolor": "white"
           }
          },
          "shapedefaults": {
           "line": {
            "color": "#2a3f5f"
           }
          },
          "ternary": {
           "aaxis": {
            "gridcolor": "white",
            "linecolor": "white",
            "ticks": ""
           },
           "baxis": {
            "gridcolor": "white",
            "linecolor": "white",
            "ticks": ""
           },
           "bgcolor": "#E5ECF6",
           "caxis": {
            "gridcolor": "white",
            "linecolor": "white",
            "ticks": ""
           }
          },
          "title": {
           "x": 0.05
          },
          "xaxis": {
           "automargin": true,
           "gridcolor": "white",
           "linecolor": "white",
           "ticks": "",
           "title": {
            "standoff": 15
           },
           "zerolinecolor": "white",
           "zerolinewidth": 2
          },
          "yaxis": {
           "automargin": true,
           "gridcolor": "white",
           "linecolor": "white",
           "ticks": "",
           "title": {
            "standoff": 15
           },
           "zerolinecolor": "white",
           "zerolinewidth": 2
          }
         }
        },
        "title": {
         "text": "<b>Department by retirements due to resignation and fired<b>"
        },
        "width": 600
       }
      }
     },
     "metadata": {},
     "output_type": "display_data"
    }
   ],
   "source": [
    "#¿Cuál es el departamento con mas retiros por renuncias y despidos en la empresa?\n",
    "base = df_GR.groupby([df_GR['retirementType'], 'Department'])[['EmployeeID']].count().rename(columns = {'EmployeeID': 'Total retired employees'}).reset_index()\n",
    "fig = px.sunburst(base, path=['retirementType', 'Department' ], values='Total retired employees', title= '<b>Department by retirements due to resignation and fired<b>', \n",
    "color_discrete_sequence=px.colors.qualitative.Dark2, width=600)\n",
    "\n",
    "fig.show()"
   ]
  },
  {
   "cell_type": "code",
   "execution_count": 129,
   "metadata": {},
   "outputs": [
    {
     "data": {
      "application/vnd.plotly.v1+json": {
       "config": {
        "plotlyServerURL": "https://plot.ly"
       },
       "data": [
        {
         "cells": {
          "align": [
           "center",
           "center"
          ],
          "fill": {
           "color": "lavender"
          },
          "font": {
           "size": 20
          },
          "height": 40,
          "values": [
           [
            "Fired",
            "Fired",
            "Fired",
            "Resignation",
            "Resignation",
            "Resignation"
           ],
           [
            "Human Resources",
            "Research & Development",
            "Sales",
            "Human Resources",
            "Research & Development",
            "Sales"
           ],
           [
            "1,6%",
            "1,5%",
            "1,7%",
            "27,3%",
            "13,9%",
            "13,2%"
           ]
          ]
         },
         "header": {
          "align": "center",
          "fill": {
           "color": "#636EFA"
          },
          "font": {
           "color": "white",
           "size": 20
          },
          "height": 25,
          "values": [
           [
            "<b>retirement Type</b>"
           ],
           [
            "<b>Department</b>"
           ],
           [
            "<b>Total retired employees</b>"
           ]
          ]
         },
         "type": "table"
        }
       ],
       "layout": {
        "height": 700,
        "template": {
         "data": {
          "bar": [
           {
            "error_x": {
             "color": "#2a3f5f"
            },
            "error_y": {
             "color": "#2a3f5f"
            },
            "marker": {
             "line": {
              "color": "#E5ECF6",
              "width": 0.5
             },
             "pattern": {
              "fillmode": "overlay",
              "size": 10,
              "solidity": 0.2
             }
            },
            "type": "bar"
           }
          ],
          "barpolar": [
           {
            "marker": {
             "line": {
              "color": "#E5ECF6",
              "width": 0.5
             },
             "pattern": {
              "fillmode": "overlay",
              "size": 10,
              "solidity": 0.2
             }
            },
            "type": "barpolar"
           }
          ],
          "carpet": [
           {
            "aaxis": {
             "endlinecolor": "#2a3f5f",
             "gridcolor": "white",
             "linecolor": "white",
             "minorgridcolor": "white",
             "startlinecolor": "#2a3f5f"
            },
            "baxis": {
             "endlinecolor": "#2a3f5f",
             "gridcolor": "white",
             "linecolor": "white",
             "minorgridcolor": "white",
             "startlinecolor": "#2a3f5f"
            },
            "type": "carpet"
           }
          ],
          "choropleth": [
           {
            "colorbar": {
             "outlinewidth": 0,
             "ticks": ""
            },
            "type": "choropleth"
           }
          ],
          "contour": [
           {
            "colorbar": {
             "outlinewidth": 0,
             "ticks": ""
            },
            "colorscale": [
             [
              0,
              "#0d0887"
             ],
             [
              0.1111111111111111,
              "#46039f"
             ],
             [
              0.2222222222222222,
              "#7201a8"
             ],
             [
              0.3333333333333333,
              "#9c179e"
             ],
             [
              0.4444444444444444,
              "#bd3786"
             ],
             [
              0.5555555555555556,
              "#d8576b"
             ],
             [
              0.6666666666666666,
              "#ed7953"
             ],
             [
              0.7777777777777778,
              "#fb9f3a"
             ],
             [
              0.8888888888888888,
              "#fdca26"
             ],
             [
              1,
              "#f0f921"
             ]
            ],
            "type": "contour"
           }
          ],
          "contourcarpet": [
           {
            "colorbar": {
             "outlinewidth": 0,
             "ticks": ""
            },
            "type": "contourcarpet"
           }
          ],
          "heatmap": [
           {
            "colorbar": {
             "outlinewidth": 0,
             "ticks": ""
            },
            "colorscale": [
             [
              0,
              "#0d0887"
             ],
             [
              0.1111111111111111,
              "#46039f"
             ],
             [
              0.2222222222222222,
              "#7201a8"
             ],
             [
              0.3333333333333333,
              "#9c179e"
             ],
             [
              0.4444444444444444,
              "#bd3786"
             ],
             [
              0.5555555555555556,
              "#d8576b"
             ],
             [
              0.6666666666666666,
              "#ed7953"
             ],
             [
              0.7777777777777778,
              "#fb9f3a"
             ],
             [
              0.8888888888888888,
              "#fdca26"
             ],
             [
              1,
              "#f0f921"
             ]
            ],
            "type": "heatmap"
           }
          ],
          "heatmapgl": [
           {
            "colorbar": {
             "outlinewidth": 0,
             "ticks": ""
            },
            "colorscale": [
             [
              0,
              "#0d0887"
             ],
             [
              0.1111111111111111,
              "#46039f"
             ],
             [
              0.2222222222222222,
              "#7201a8"
             ],
             [
              0.3333333333333333,
              "#9c179e"
             ],
             [
              0.4444444444444444,
              "#bd3786"
             ],
             [
              0.5555555555555556,
              "#d8576b"
             ],
             [
              0.6666666666666666,
              "#ed7953"
             ],
             [
              0.7777777777777778,
              "#fb9f3a"
             ],
             [
              0.8888888888888888,
              "#fdca26"
             ],
             [
              1,
              "#f0f921"
             ]
            ],
            "type": "heatmapgl"
           }
          ],
          "histogram": [
           {
            "marker": {
             "pattern": {
              "fillmode": "overlay",
              "size": 10,
              "solidity": 0.2
             }
            },
            "type": "histogram"
           }
          ],
          "histogram2d": [
           {
            "colorbar": {
             "outlinewidth": 0,
             "ticks": ""
            },
            "colorscale": [
             [
              0,
              "#0d0887"
             ],
             [
              0.1111111111111111,
              "#46039f"
             ],
             [
              0.2222222222222222,
              "#7201a8"
             ],
             [
              0.3333333333333333,
              "#9c179e"
             ],
             [
              0.4444444444444444,
              "#bd3786"
             ],
             [
              0.5555555555555556,
              "#d8576b"
             ],
             [
              0.6666666666666666,
              "#ed7953"
             ],
             [
              0.7777777777777778,
              "#fb9f3a"
             ],
             [
              0.8888888888888888,
              "#fdca26"
             ],
             [
              1,
              "#f0f921"
             ]
            ],
            "type": "histogram2d"
           }
          ],
          "histogram2dcontour": [
           {
            "colorbar": {
             "outlinewidth": 0,
             "ticks": ""
            },
            "colorscale": [
             [
              0,
              "#0d0887"
             ],
             [
              0.1111111111111111,
              "#46039f"
             ],
             [
              0.2222222222222222,
              "#7201a8"
             ],
             [
              0.3333333333333333,
              "#9c179e"
             ],
             [
              0.4444444444444444,
              "#bd3786"
             ],
             [
              0.5555555555555556,
              "#d8576b"
             ],
             [
              0.6666666666666666,
              "#ed7953"
             ],
             [
              0.7777777777777778,
              "#fb9f3a"
             ],
             [
              0.8888888888888888,
              "#fdca26"
             ],
             [
              1,
              "#f0f921"
             ]
            ],
            "type": "histogram2dcontour"
           }
          ],
          "mesh3d": [
           {
            "colorbar": {
             "outlinewidth": 0,
             "ticks": ""
            },
            "type": "mesh3d"
           }
          ],
          "parcoords": [
           {
            "line": {
             "colorbar": {
              "outlinewidth": 0,
              "ticks": ""
             }
            },
            "type": "parcoords"
           }
          ],
          "pie": [
           {
            "automargin": true,
            "type": "pie"
           }
          ],
          "scatter": [
           {
            "marker": {
             "colorbar": {
              "outlinewidth": 0,
              "ticks": ""
             }
            },
            "type": "scatter"
           }
          ],
          "scatter3d": [
           {
            "line": {
             "colorbar": {
              "outlinewidth": 0,
              "ticks": ""
             }
            },
            "marker": {
             "colorbar": {
              "outlinewidth": 0,
              "ticks": ""
             }
            },
            "type": "scatter3d"
           }
          ],
          "scattercarpet": [
           {
            "marker": {
             "colorbar": {
              "outlinewidth": 0,
              "ticks": ""
             }
            },
            "type": "scattercarpet"
           }
          ],
          "scattergeo": [
           {
            "marker": {
             "colorbar": {
              "outlinewidth": 0,
              "ticks": ""
             }
            },
            "type": "scattergeo"
           }
          ],
          "scattergl": [
           {
            "marker": {
             "colorbar": {
              "outlinewidth": 0,
              "ticks": ""
             }
            },
            "type": "scattergl"
           }
          ],
          "scattermapbox": [
           {
            "marker": {
             "colorbar": {
              "outlinewidth": 0,
              "ticks": ""
             }
            },
            "type": "scattermapbox"
           }
          ],
          "scatterpolar": [
           {
            "marker": {
             "colorbar": {
              "outlinewidth": 0,
              "ticks": ""
             }
            },
            "type": "scatterpolar"
           }
          ],
          "scatterpolargl": [
           {
            "marker": {
             "colorbar": {
              "outlinewidth": 0,
              "ticks": ""
             }
            },
            "type": "scatterpolargl"
           }
          ],
          "scatterternary": [
           {
            "marker": {
             "colorbar": {
              "outlinewidth": 0,
              "ticks": ""
             }
            },
            "type": "scatterternary"
           }
          ],
          "surface": [
           {
            "colorbar": {
             "outlinewidth": 0,
             "ticks": ""
            },
            "colorscale": [
             [
              0,
              "#0d0887"
             ],
             [
              0.1111111111111111,
              "#46039f"
             ],
             [
              0.2222222222222222,
              "#7201a8"
             ],
             [
              0.3333333333333333,
              "#9c179e"
             ],
             [
              0.4444444444444444,
              "#bd3786"
             ],
             [
              0.5555555555555556,
              "#d8576b"
             ],
             [
              0.6666666666666666,
              "#ed7953"
             ],
             [
              0.7777777777777778,
              "#fb9f3a"
             ],
             [
              0.8888888888888888,
              "#fdca26"
             ],
             [
              1,
              "#f0f921"
             ]
            ],
            "type": "surface"
           }
          ],
          "table": [
           {
            "cells": {
             "fill": {
              "color": "#EBF0F8"
             },
             "line": {
              "color": "white"
             }
            },
            "header": {
             "fill": {
              "color": "#C8D4E3"
             },
             "line": {
              "color": "white"
             }
            },
            "type": "table"
           }
          ]
         },
         "layout": {
          "annotationdefaults": {
           "arrowcolor": "#2a3f5f",
           "arrowhead": 0,
           "arrowwidth": 1
          },
          "autotypenumbers": "strict",
          "coloraxis": {
           "colorbar": {
            "outlinewidth": 0,
            "ticks": ""
           }
          },
          "colorscale": {
           "diverging": [
            [
             0,
             "#8e0152"
            ],
            [
             0.1,
             "#c51b7d"
            ],
            [
             0.2,
             "#de77ae"
            ],
            [
             0.3,
             "#f1b6da"
            ],
            [
             0.4,
             "#fde0ef"
            ],
            [
             0.5,
             "#f7f7f7"
            ],
            [
             0.6,
             "#e6f5d0"
            ],
            [
             0.7,
             "#b8e186"
            ],
            [
             0.8,
             "#7fbc41"
            ],
            [
             0.9,
             "#4d9221"
            ],
            [
             1,
             "#276419"
            ]
           ],
           "sequential": [
            [
             0,
             "#0d0887"
            ],
            [
             0.1111111111111111,
             "#46039f"
            ],
            [
             0.2222222222222222,
             "#7201a8"
            ],
            [
             0.3333333333333333,
             "#9c179e"
            ],
            [
             0.4444444444444444,
             "#bd3786"
            ],
            [
             0.5555555555555556,
             "#d8576b"
            ],
            [
             0.6666666666666666,
             "#ed7953"
            ],
            [
             0.7777777777777778,
             "#fb9f3a"
            ],
            [
             0.8888888888888888,
             "#fdca26"
            ],
            [
             1,
             "#f0f921"
            ]
           ],
           "sequentialminus": [
            [
             0,
             "#0d0887"
            ],
            [
             0.1111111111111111,
             "#46039f"
            ],
            [
             0.2222222222222222,
             "#7201a8"
            ],
            [
             0.3333333333333333,
             "#9c179e"
            ],
            [
             0.4444444444444444,
             "#bd3786"
            ],
            [
             0.5555555555555556,
             "#d8576b"
            ],
            [
             0.6666666666666666,
             "#ed7953"
            ],
            [
             0.7777777777777778,
             "#fb9f3a"
            ],
            [
             0.8888888888888888,
             "#fdca26"
            ],
            [
             1,
             "#f0f921"
            ]
           ]
          },
          "colorway": [
           "#636efa",
           "#EF553B",
           "#00cc96",
           "#ab63fa",
           "#FFA15A",
           "#19d3f3",
           "#FF6692",
           "#B6E880",
           "#FF97FF",
           "#FECB52"
          ],
          "font": {
           "color": "#2a3f5f"
          },
          "geo": {
           "bgcolor": "white",
           "lakecolor": "white",
           "landcolor": "#E5ECF6",
           "showlakes": true,
           "showland": true,
           "subunitcolor": "white"
          },
          "hoverlabel": {
           "align": "left"
          },
          "hovermode": "closest",
          "mapbox": {
           "style": "light"
          },
          "paper_bgcolor": "white",
          "plot_bgcolor": "#E5ECF6",
          "polar": {
           "angularaxis": {
            "gridcolor": "white",
            "linecolor": "white",
            "ticks": ""
           },
           "bgcolor": "#E5ECF6",
           "radialaxis": {
            "gridcolor": "white",
            "linecolor": "white",
            "ticks": ""
           }
          },
          "scene": {
           "xaxis": {
            "backgroundcolor": "#E5ECF6",
            "gridcolor": "white",
            "gridwidth": 2,
            "linecolor": "white",
            "showbackground": true,
            "ticks": "",
            "zerolinecolor": "white"
           },
           "yaxis": {
            "backgroundcolor": "#E5ECF6",
            "gridcolor": "white",
            "gridwidth": 2,
            "linecolor": "white",
            "showbackground": true,
            "ticks": "",
            "zerolinecolor": "white"
           },
           "zaxis": {
            "backgroundcolor": "#E5ECF6",
            "gridcolor": "white",
            "gridwidth": 2,
            "linecolor": "white",
            "showbackground": true,
            "ticks": "",
            "zerolinecolor": "white"
           }
          },
          "shapedefaults": {
           "line": {
            "color": "#2a3f5f"
           }
          },
          "ternary": {
           "aaxis": {
            "gridcolor": "white",
            "linecolor": "white",
            "ticks": ""
           },
           "baxis": {
            "gridcolor": "white",
            "linecolor": "white",
            "ticks": ""
           },
           "bgcolor": "#E5ECF6",
           "caxis": {
            "gridcolor": "white",
            "linecolor": "white",
            "ticks": ""
           }
          },
          "title": {
           "x": 0.05
          },
          "xaxis": {
           "automargin": true,
           "gridcolor": "white",
           "linecolor": "white",
           "ticks": "",
           "title": {
            "standoff": 15
           },
           "zerolinecolor": "white",
           "zerolinewidth": 2
          },
          "yaxis": {
           "automargin": true,
           "gridcolor": "white",
           "linecolor": "white",
           "ticks": "",
           "title": {
            "standoff": 15
           },
           "zerolinecolor": "white",
           "zerolinewidth": 2
          }
         }
        },
        "width": 650
       }
      }
     },
     "metadata": {},
     "output_type": "display_data"
    }
   ],
   "source": [
    "#¿Cuál es el porcentaje de retiros por departamento?\n",
    "base['Total retired employees'] = base['Total retired employees'].apply(lambda x: \"1,6%\" if (x == 3) else \"1,5%\" if (x == 44) else \"1,7%\" if (x == 23)  else \"27,3%\" if (x == 52) else \"13,9%\" if (x == 405) else \"13,2%\" )\n",
    "base = base.rename(columns= {'Total retired employees': 'TotalRetiredEmployees'})\n",
    "\n",
    "fig = go.Figure(data=[go.Table( header=dict(values=[['<b>retirement Type</b>'],\n",
    "                  ['<b>Department</b>'], ['<b>Total retired employees</b>']],\n",
    "                    fill_color='#636EFA',\n",
    "align='center',\n",
    "                    font_size=20,\n",
    "                    font_color = 'white',\n",
    "                    height=25),\n",
    "                    cells=dict(values=[base.retirementType, base.Department, base.TotalRetiredEmployees],\n",
    "               fill_color='lavender',\n",
    "               align=['center', 'center'], \n",
    "               font_size=20,\n",
    "               height=40))])\n",
    "\n",
    "fig.update_layout(width=650, height=700)\n",
    "fig.show()"
   ]
  },
  {
   "cell_type": "code",
   "execution_count": 106,
   "metadata": {},
   "outputs": [
    {
     "data": {
      "application/vnd.plotly.v1+json": {
       "config": {
        "plotlyServerURL": "https://plot.ly"
       },
       "data": [
        {
         "name": "behavior of employee retirements over time",
         "type": "scatter",
         "x": [
          "1/10/2016",
          "1/11/2016",
          "1/12/2016",
          "1/2/2016",
          "1/3/2016",
          "1/4/2016",
          "1/5/2016",
          "1/6/2016",
          "1/7/2016",
          "1/9/2016",
          "10/1/2016",
          "10/10/2016",
          "10/11/2016",
          "10/12/2016",
          "10/2/2016",
          "10/5/2016",
          "10/7/2016",
          "10/8/2016",
          "10/9/2016",
          "11/1/2016",
          "11/10/2016",
          "11/11/2016",
          "11/12/2016",
          "11/2/2016",
          "11/3/2016",
          "11/4/2016",
          "11/5/2016",
          "11/6/2016",
          "11/7/2016",
          "11/8/2016",
          "11/9/2016",
          "12/11/2016",
          "12/12/2016",
          "12/2/2016",
          "12/3/2016",
          "12/4/2016",
          "12/5/2016",
          "12/8/2016",
          "12/9/2016",
          "13/1/2016",
          "13/10/2016",
          "13/11/2016",
          "13/12/2016",
          "13/2/2016",
          "13/3/2016",
          "13/4/2016",
          "13/5/2016",
          "13/6/2016",
          "13/7/2016",
          "13/8/2016",
          "13/9/2016",
          "14/1/2016",
          "14/10/2016",
          "14/11/2016",
          "14/12/2016",
          "14/2/2016",
          "14/4/2016",
          "14/5/2016",
          "14/6/2016",
          "14/7/2016",
          "14/8/2016",
          "15/1/2016",
          "15/10/2016",
          "15/11/2016",
          "15/12/2016",
          "15/2/2016",
          "15/3/2016",
          "15/4/2016",
          "15/5/2016",
          "15/7/2016",
          "15/9/2016",
          "16/1/2016",
          "16/10/2016",
          "16/11/2016",
          "16/12/2016",
          "16/2/2016",
          "16/3/2016",
          "16/4/2016",
          "16/5/2016",
          "16/6/2016",
          "16/7/2016",
          "16/8/2016",
          "16/9/2016",
          "17/1/2016",
          "17/10/2016",
          "17/11/2016",
          "17/2/2016",
          "17/3/2016",
          "17/4/2016",
          "17/5/2016",
          "17/6/2016",
          "17/7/2016",
          "17/8/2016",
          "17/9/2016",
          "18/1/2016",
          "18/10/2016",
          "18/11/2016",
          "18/2/2016",
          "18/3/2016",
          "18/4/2016",
          "18/5/2016",
          "18/6/2016",
          "18/8/2016",
          "18/9/2016",
          "19/1/2016",
          "19/10/2016",
          "19/11/2016",
          "19/2/2016",
          "19/3/2016",
          "19/4/2016",
          "19/5/2016",
          "19/6/2016",
          "19/7/2016",
          "19/8/2016",
          "19/9/2016",
          "2/1/2016",
          "2/10/2016",
          "2/11/2016",
          "2/12/2016",
          "2/2/2016",
          "2/3/2016",
          "2/4/2016",
          "2/5/2016",
          "2/6/2016",
          "2/7/2016",
          "2/9/2016",
          "20/10/2016",
          "20/11/2016",
          "20/2/2016",
          "20/3/2016",
          "20/5/2016",
          "20/6/2016",
          "20/7/2016",
          "20/8/2016",
          "20/9/2016",
          "21/1/2016",
          "21/10/2016",
          "21/11/2016",
          "21/3/2016",
          "21/4/2016",
          "21/5/2016",
          "21/6/2016",
          "21/7/2016",
          "21/8/2016",
          "21/9/2016",
          "22/1/2016",
          "22/10/2016",
          "22/11/2016",
          "22/2/2016",
          "22/3/2016",
          "22/4/2016",
          "22/5/2016",
          "22/6/2016",
          "22/7/2016",
          "22/8/2016",
          "23/1/2016",
          "23/11/2016",
          "23/2/2016",
          "23/3/2016",
          "23/5/2016",
          "23/6/2016",
          "23/7/2016",
          "23/8/2016",
          "23/9/2016",
          "24/1/2016",
          "24/10/2016",
          "24/2/2016",
          "24/3/2016",
          "24/4/2016",
          "24/5/2016",
          "24/6/2016",
          "24/7/2016",
          "24/8/2016",
          "25/1/2016",
          "25/10/2016",
          "25/11/2016",
          "25/3/2016",
          "25/4/2016",
          "25/5/2016",
          "25/6/2016",
          "25/7/2016",
          "25/8/2016",
          "25/9/2016",
          "26/1/2016",
          "26/11/2016",
          "26/2/2016",
          "26/3/2016",
          "26/5/2016",
          "26/6/2016",
          "26/7/2016",
          "26/8/2016",
          "26/9/2016",
          "27/1/2016",
          "27/10/2016",
          "27/11/2016",
          "27/4/2016",
          "27/5/2016",
          "27/6/2016",
          "27/7/2016",
          "27/8/2016",
          "27/9/2016",
          "28/1/2016",
          "28/10/2016",
          "28/11/2016",
          "28/2/2016",
          "28/3/2016",
          "28/4/2016",
          "28/5/2016",
          "28/6/2016",
          "28/7/2016",
          "28/8/2016",
          "28/9/2016",
          "29/1/2016",
          "29/11/2016",
          "29/2/2016",
          "29/3/2016",
          "29/4/2016",
          "29/5/2016",
          "29/6/2016",
          "29/7/2016",
          "29/8/2016",
          "29/9/2016",
          "3/1/2016",
          "3/10/2016",
          "3/11/2016",
          "3/12/2016",
          "3/3/2016",
          "3/4/2016",
          "3/5/2016",
          "3/6/2016",
          "3/7/2016",
          "3/9/2016",
          "30/1/2016",
          "30/10/2016",
          "30/11/2016",
          "30/3/2016",
          "30/5/2016",
          "30/6/2016",
          "30/7/2016",
          "30/8/2016",
          "30/9/2016",
          "31/1/2016",
          "31/10/2016",
          "31/3/2016",
          "31/7/2016",
          "31/8/2016",
          "4/1/2016",
          "4/10/2016",
          "4/12/2016",
          "4/2/2016",
          "4/3/2016",
          "4/4/2016",
          "4/5/2016",
          "4/6/2016",
          "4/7/2016",
          "4/8/2016",
          "4/9/2016",
          "5/1/2016",
          "5/10/2016",
          "5/11/2016",
          "5/12/2016",
          "5/2/2016",
          "5/3/2016",
          "5/5/2016",
          "5/7/2016",
          "5/8/2016",
          "5/9/2016",
          "6/1/2016",
          "6/11/2016",
          "6/12/2016",
          "6/2/2016",
          "6/3/2016",
          "6/4/2016",
          "6/6/2016",
          "6/7/2016",
          "6/8/2016",
          "6/9/2016",
          "7/1/2016",
          "7/10/2016",
          "7/11/2016",
          "7/12/2016",
          "7/2/2016",
          "7/3/2016",
          "7/4/2016",
          "7/5/2016",
          "7/6/2016",
          "7/8/2016",
          "7/9/2016",
          "8/1/2016",
          "8/10/2016",
          "8/11/2016",
          "8/12/2016",
          "8/2/2016",
          "8/4/2016",
          "8/5/2016",
          "8/6/2016",
          "8/7/2016",
          "8/8/2016",
          "8/9/2016",
          "9/10/2016",
          "9/11/2016",
          "9/12/2016",
          "9/2/2016",
          "9/3/2016",
          "9/4/2016",
          "9/5/2016",
          "9/6/2016",
          "9/9/2016"
         ],
         "y": [
          4,
          1,
          1,
          2,
          2,
          1,
          4,
          6,
          2,
          3,
          2,
          3,
          1,
          2,
          5,
          1,
          2,
          2,
          2,
          2,
          2,
          2,
          1,
          2,
          1,
          2,
          3,
          2,
          1,
          5,
          1,
          2,
          2,
          1,
          2,
          2,
          1,
          4,
          1,
          1,
          1,
          3,
          4,
          2,
          2,
          2,
          2,
          1,
          4,
          1,
          1,
          3,
          4,
          3,
          3,
          1,
          2,
          2,
          1,
          6,
          1,
          5,
          2,
          3,
          3,
          1,
          1,
          2,
          3,
          2,
          1,
          1,
          1,
          1,
          1,
          3,
          1,
          3,
          1,
          2,
          3,
          1,
          3,
          1,
          2,
          5,
          3,
          2,
          2,
          2,
          1,
          1,
          2,
          1,
          2,
          1,
          1,
          4,
          3,
          3,
          5,
          1,
          4,
          1,
          3,
          2,
          1,
          5,
          2,
          1,
          4,
          3,
          3,
          1,
          2,
          2,
          1,
          2,
          2,
          1,
          3,
          1,
          4,
          1,
          3,
          1,
          5,
          2,
          4,
          2,
          1,
          1,
          2,
          1,
          2,
          1,
          3,
          1,
          1,
          2,
          1,
          1,
          4,
          1,
          1,
          2,
          4,
          2,
          5,
          2,
          4,
          2,
          4,
          2,
          2,
          2,
          1,
          2,
          2,
          3,
          6,
          1,
          2,
          2,
          5,
          2,
          2,
          3,
          2,
          2,
          4,
          3,
          4,
          2,
          2,
          2,
          3,
          2,
          3,
          1,
          3,
          2,
          1,
          2,
          3,
          3,
          4,
          3,
          4,
          3,
          3,
          2,
          3,
          2,
          4,
          1,
          4,
          3,
          2,
          3,
          3,
          6,
          3,
          2,
          2,
          1,
          1,
          3,
          3,
          1,
          1,
          1,
          2,
          1,
          3,
          3,
          1,
          4,
          1,
          5,
          1,
          2,
          2,
          3,
          1,
          3,
          4,
          2,
          4,
          2,
          2,
          3,
          1,
          2,
          1,
          1,
          2,
          1,
          1,
          2,
          3,
          4,
          5,
          3,
          3,
          2,
          4,
          1,
          2,
          2,
          2,
          2,
          3,
          1,
          2,
          2,
          6,
          4,
          2,
          2,
          1,
          2,
          3,
          3,
          2,
          1,
          2,
          3,
          2,
          3,
          2,
          4,
          4,
          2,
          2,
          2,
          1,
          4,
          2,
          4,
          1,
          4,
          3,
          5,
          2,
          1,
          1,
          1,
          2,
          1,
          2,
          2,
          4,
          3,
          1,
          3,
          2,
          1,
          4,
          1,
          2,
          2,
          3,
          1,
          2,
          3,
          4,
          2
         ]
        }
       ],
       "layout": {
        "template": {
         "data": {
          "bar": [
           {
            "error_x": {
             "color": "#2a3f5f"
            },
            "error_y": {
             "color": "#2a3f5f"
            },
            "marker": {
             "line": {
              "color": "#E5ECF6",
              "width": 0.5
             },
             "pattern": {
              "fillmode": "overlay",
              "size": 10,
              "solidity": 0.2
             }
            },
            "type": "bar"
           }
          ],
          "barpolar": [
           {
            "marker": {
             "line": {
              "color": "#E5ECF6",
              "width": 0.5
             },
             "pattern": {
              "fillmode": "overlay",
              "size": 10,
              "solidity": 0.2
             }
            },
            "type": "barpolar"
           }
          ],
          "carpet": [
           {
            "aaxis": {
             "endlinecolor": "#2a3f5f",
             "gridcolor": "white",
             "linecolor": "white",
             "minorgridcolor": "white",
             "startlinecolor": "#2a3f5f"
            },
            "baxis": {
             "endlinecolor": "#2a3f5f",
             "gridcolor": "white",
             "linecolor": "white",
             "minorgridcolor": "white",
             "startlinecolor": "#2a3f5f"
            },
            "type": "carpet"
           }
          ],
          "choropleth": [
           {
            "colorbar": {
             "outlinewidth": 0,
             "ticks": ""
            },
            "type": "choropleth"
           }
          ],
          "contour": [
           {
            "colorbar": {
             "outlinewidth": 0,
             "ticks": ""
            },
            "colorscale": [
             [
              0,
              "#0d0887"
             ],
             [
              0.1111111111111111,
              "#46039f"
             ],
             [
              0.2222222222222222,
              "#7201a8"
             ],
             [
              0.3333333333333333,
              "#9c179e"
             ],
             [
              0.4444444444444444,
              "#bd3786"
             ],
             [
              0.5555555555555556,
              "#d8576b"
             ],
             [
              0.6666666666666666,
              "#ed7953"
             ],
             [
              0.7777777777777778,
              "#fb9f3a"
             ],
             [
              0.8888888888888888,
              "#fdca26"
             ],
             [
              1,
              "#f0f921"
             ]
            ],
            "type": "contour"
           }
          ],
          "contourcarpet": [
           {
            "colorbar": {
             "outlinewidth": 0,
             "ticks": ""
            },
            "type": "contourcarpet"
           }
          ],
          "heatmap": [
           {
            "colorbar": {
             "outlinewidth": 0,
             "ticks": ""
            },
            "colorscale": [
             [
              0,
              "#0d0887"
             ],
             [
              0.1111111111111111,
              "#46039f"
             ],
             [
              0.2222222222222222,
              "#7201a8"
             ],
             [
              0.3333333333333333,
              "#9c179e"
             ],
             [
              0.4444444444444444,
              "#bd3786"
             ],
             [
              0.5555555555555556,
              "#d8576b"
             ],
             [
              0.6666666666666666,
              "#ed7953"
             ],
             [
              0.7777777777777778,
              "#fb9f3a"
             ],
             [
              0.8888888888888888,
              "#fdca26"
             ],
             [
              1,
              "#f0f921"
             ]
            ],
            "type": "heatmap"
           }
          ],
          "heatmapgl": [
           {
            "colorbar": {
             "outlinewidth": 0,
             "ticks": ""
            },
            "colorscale": [
             [
              0,
              "#0d0887"
             ],
             [
              0.1111111111111111,
              "#46039f"
             ],
             [
              0.2222222222222222,
              "#7201a8"
             ],
             [
              0.3333333333333333,
              "#9c179e"
             ],
             [
              0.4444444444444444,
              "#bd3786"
             ],
             [
              0.5555555555555556,
              "#d8576b"
             ],
             [
              0.6666666666666666,
              "#ed7953"
             ],
             [
              0.7777777777777778,
              "#fb9f3a"
             ],
             [
              0.8888888888888888,
              "#fdca26"
             ],
             [
              1,
              "#f0f921"
             ]
            ],
            "type": "heatmapgl"
           }
          ],
          "histogram": [
           {
            "marker": {
             "pattern": {
              "fillmode": "overlay",
              "size": 10,
              "solidity": 0.2
             }
            },
            "type": "histogram"
           }
          ],
          "histogram2d": [
           {
            "colorbar": {
             "outlinewidth": 0,
             "ticks": ""
            },
            "colorscale": [
             [
              0,
              "#0d0887"
             ],
             [
              0.1111111111111111,
              "#46039f"
             ],
             [
              0.2222222222222222,
              "#7201a8"
             ],
             [
              0.3333333333333333,
              "#9c179e"
             ],
             [
              0.4444444444444444,
              "#bd3786"
             ],
             [
              0.5555555555555556,
              "#d8576b"
             ],
             [
              0.6666666666666666,
              "#ed7953"
             ],
             [
              0.7777777777777778,
              "#fb9f3a"
             ],
             [
              0.8888888888888888,
              "#fdca26"
             ],
             [
              1,
              "#f0f921"
             ]
            ],
            "type": "histogram2d"
           }
          ],
          "histogram2dcontour": [
           {
            "colorbar": {
             "outlinewidth": 0,
             "ticks": ""
            },
            "colorscale": [
             [
              0,
              "#0d0887"
             ],
             [
              0.1111111111111111,
              "#46039f"
             ],
             [
              0.2222222222222222,
              "#7201a8"
             ],
             [
              0.3333333333333333,
              "#9c179e"
             ],
             [
              0.4444444444444444,
              "#bd3786"
             ],
             [
              0.5555555555555556,
              "#d8576b"
             ],
             [
              0.6666666666666666,
              "#ed7953"
             ],
             [
              0.7777777777777778,
              "#fb9f3a"
             ],
             [
              0.8888888888888888,
              "#fdca26"
             ],
             [
              1,
              "#f0f921"
             ]
            ],
            "type": "histogram2dcontour"
           }
          ],
          "mesh3d": [
           {
            "colorbar": {
             "outlinewidth": 0,
             "ticks": ""
            },
            "type": "mesh3d"
           }
          ],
          "parcoords": [
           {
            "line": {
             "colorbar": {
              "outlinewidth": 0,
              "ticks": ""
             }
            },
            "type": "parcoords"
           }
          ],
          "pie": [
           {
            "automargin": true,
            "type": "pie"
           }
          ],
          "scatter": [
           {
            "marker": {
             "colorbar": {
              "outlinewidth": 0,
              "ticks": ""
             }
            },
            "type": "scatter"
           }
          ],
          "scatter3d": [
           {
            "line": {
             "colorbar": {
              "outlinewidth": 0,
              "ticks": ""
             }
            },
            "marker": {
             "colorbar": {
              "outlinewidth": 0,
              "ticks": ""
             }
            },
            "type": "scatter3d"
           }
          ],
          "scattercarpet": [
           {
            "marker": {
             "colorbar": {
              "outlinewidth": 0,
              "ticks": ""
             }
            },
            "type": "scattercarpet"
           }
          ],
          "scattergeo": [
           {
            "marker": {
             "colorbar": {
              "outlinewidth": 0,
              "ticks": ""
             }
            },
            "type": "scattergeo"
           }
          ],
          "scattergl": [
           {
            "marker": {
             "colorbar": {
              "outlinewidth": 0,
              "ticks": ""
             }
            },
            "type": "scattergl"
           }
          ],
          "scattermapbox": [
           {
            "marker": {
             "colorbar": {
              "outlinewidth": 0,
              "ticks": ""
             }
            },
            "type": "scattermapbox"
           }
          ],
          "scatterpolar": [
           {
            "marker": {
             "colorbar": {
              "outlinewidth": 0,
              "ticks": ""
             }
            },
            "type": "scatterpolar"
           }
          ],
          "scatterpolargl": [
           {
            "marker": {
             "colorbar": {
              "outlinewidth": 0,
              "ticks": ""
             }
            },
            "type": "scatterpolargl"
           }
          ],
          "scatterternary": [
           {
            "marker": {
             "colorbar": {
              "outlinewidth": 0,
              "ticks": ""
             }
            },
            "type": "scatterternary"
           }
          ],
          "surface": [
           {
            "colorbar": {
             "outlinewidth": 0,
             "ticks": ""
            },
            "colorscale": [
             [
              0,
              "#0d0887"
             ],
             [
              0.1111111111111111,
              "#46039f"
             ],
             [
              0.2222222222222222,
              "#7201a8"
             ],
             [
              0.3333333333333333,
              "#9c179e"
             ],
             [
              0.4444444444444444,
              "#bd3786"
             ],
             [
              0.5555555555555556,
              "#d8576b"
             ],
             [
              0.6666666666666666,
              "#ed7953"
             ],
             [
              0.7777777777777778,
              "#fb9f3a"
             ],
             [
              0.8888888888888888,
              "#fdca26"
             ],
             [
              1,
              "#f0f921"
             ]
            ],
            "type": "surface"
           }
          ],
          "table": [
           {
            "cells": {
             "fill": {
              "color": "#EBF0F8"
             },
             "line": {
              "color": "white"
             }
            },
            "header": {
             "fill": {
              "color": "#C8D4E3"
             },
             "line": {
              "color": "white"
             }
            },
            "type": "table"
           }
          ]
         },
         "layout": {
          "annotationdefaults": {
           "arrowcolor": "#2a3f5f",
           "arrowhead": 0,
           "arrowwidth": 1
          },
          "autotypenumbers": "strict",
          "coloraxis": {
           "colorbar": {
            "outlinewidth": 0,
            "ticks": ""
           }
          },
          "colorscale": {
           "diverging": [
            [
             0,
             "#8e0152"
            ],
            [
             0.1,
             "#c51b7d"
            ],
            [
             0.2,
             "#de77ae"
            ],
            [
             0.3,
             "#f1b6da"
            ],
            [
             0.4,
             "#fde0ef"
            ],
            [
             0.5,
             "#f7f7f7"
            ],
            [
             0.6,
             "#e6f5d0"
            ],
            [
             0.7,
             "#b8e186"
            ],
            [
             0.8,
             "#7fbc41"
            ],
            [
             0.9,
             "#4d9221"
            ],
            [
             1,
             "#276419"
            ]
           ],
           "sequential": [
            [
             0,
             "#0d0887"
            ],
            [
             0.1111111111111111,
             "#46039f"
            ],
            [
             0.2222222222222222,
             "#7201a8"
            ],
            [
             0.3333333333333333,
             "#9c179e"
            ],
            [
             0.4444444444444444,
             "#bd3786"
            ],
            [
             0.5555555555555556,
             "#d8576b"
            ],
            [
             0.6666666666666666,
             "#ed7953"
            ],
            [
             0.7777777777777778,
             "#fb9f3a"
            ],
            [
             0.8888888888888888,
             "#fdca26"
            ],
            [
             1,
             "#f0f921"
            ]
           ],
           "sequentialminus": [
            [
             0,
             "#0d0887"
            ],
            [
             0.1111111111111111,
             "#46039f"
            ],
            [
             0.2222222222222222,
             "#7201a8"
            ],
            [
             0.3333333333333333,
             "#9c179e"
            ],
            [
             0.4444444444444444,
             "#bd3786"
            ],
            [
             0.5555555555555556,
             "#d8576b"
            ],
            [
             0.6666666666666666,
             "#ed7953"
            ],
            [
             0.7777777777777778,
             "#fb9f3a"
            ],
            [
             0.8888888888888888,
             "#fdca26"
            ],
            [
             1,
             "#f0f921"
            ]
           ]
          },
          "colorway": [
           "#636efa",
           "#EF553B",
           "#00cc96",
           "#ab63fa",
           "#FFA15A",
           "#19d3f3",
           "#FF6692",
           "#B6E880",
           "#FF97FF",
           "#FECB52"
          ],
          "font": {
           "color": "#2a3f5f"
          },
          "geo": {
           "bgcolor": "white",
           "lakecolor": "white",
           "landcolor": "#E5ECF6",
           "showlakes": true,
           "showland": true,
           "subunitcolor": "white"
          },
          "hoverlabel": {
           "align": "left"
          },
          "hovermode": "closest",
          "mapbox": {
           "style": "light"
          },
          "paper_bgcolor": "white",
          "plot_bgcolor": "#E5ECF6",
          "polar": {
           "angularaxis": {
            "gridcolor": "white",
            "linecolor": "white",
            "ticks": ""
           },
           "bgcolor": "#E5ECF6",
           "radialaxis": {
            "gridcolor": "white",
            "linecolor": "white",
            "ticks": ""
           }
          },
          "scene": {
           "xaxis": {
            "backgroundcolor": "#E5ECF6",
            "gridcolor": "white",
            "gridwidth": 2,
            "linecolor": "white",
            "showbackground": true,
            "ticks": "",
            "zerolinecolor": "white"
           },
           "yaxis": {
            "backgroundcolor": "#E5ECF6",
            "gridcolor": "white",
            "gridwidth": 2,
            "linecolor": "white",
            "showbackground": true,
            "ticks": "",
            "zerolinecolor": "white"
           },
           "zaxis": {
            "backgroundcolor": "#E5ECF6",
            "gridcolor": "white",
            "gridwidth": 2,
            "linecolor": "white",
            "showbackground": true,
            "ticks": "",
            "zerolinecolor": "white"
           }
          },
          "shapedefaults": {
           "line": {
            "color": "#2a3f5f"
           }
          },
          "ternary": {
           "aaxis": {
            "gridcolor": "white",
            "linecolor": "white",
            "ticks": ""
           },
           "baxis": {
            "gridcolor": "white",
            "linecolor": "white",
            "ticks": ""
           },
           "bgcolor": "#E5ECF6",
           "caxis": {
            "gridcolor": "white",
            "linecolor": "white",
            "ticks": ""
           }
          },
          "title": {
           "x": 0.05
          },
          "xaxis": {
           "automargin": true,
           "gridcolor": "white",
           "linecolor": "white",
           "ticks": "",
           "title": {
            "standoff": 15
           },
           "zerolinecolor": "white",
           "zerolinewidth": 2
          },
          "yaxis": {
           "automargin": true,
           "gridcolor": "white",
           "linecolor": "white",
           "ticks": "",
           "title": {
            "standoff": 15
           },
           "zerolinecolor": "white",
           "zerolinewidth": 2
          }
         }
        },
        "title": {
         "text": "behavior of employee retirements over time",
         "x": 0.5
        },
        "width": 1200
       }
      }
     },
     "metadata": {},
     "output_type": "display_data"
    }
   ],
   "source": [
    "#Comportamiento de los retiros a través del tiempo\n",
    "base = df_GR.groupby(['retirementDate'])[['Attrition']].count().reset_index()\n",
    "fig = go.Figure()\n",
    "\n",
    "fig.add_trace(go.Scatter(\n",
    "    x=base.retirementDate,\n",
    "    y=base.Attrition,\n",
    "    name = 'behavior of employee retirements over time'\n",
    "))\n",
    "fig.update_layout(title_text='behavior of employee retirements over time', title_x=0.5, width=1200)\n",
    "fig.show()"
   ]
  },
  {
   "cell_type": "code",
   "execution_count": 107,
   "metadata": {},
   "outputs": [],
   "source": [
    "#Correlación de variables\n",
    "df_general1 = df_general[['Age','BusinessTravel','Department', 'DistanceFromHome', 'EmployeeID','JobRole','MonthlyIncome', 'PercentSalaryHike', 'YearsAtCompany' ]]\n",
    "df = pd.merge(df_employee_s, df_manager_s, on = 'EmployeeID', how='left')\n",
    "df = pd.merge(df, df_general1, on = 'EmployeeID', how='left')\n",
    "df1 = df.dropna()\n",
    "df2 = pd.merge(df_retirement, df1, on = 'EmployeeID', how='left')\n",
    "df2 = df2.dropna()\n",
    "df2 = df2.reset_index().drop('index', axis=1)\n",
    "df2= df2.astype({'EnvironmentSatisfaction' : int })\n",
    "df2= df2.astype({'JobSatisfaction' : int })\n",
    "df2= df2.astype({'WorkLifeBalance' : int })\n",
    "df2= df2.astype({'JobInvolvement' : int })\n",
    "df2= df2.astype({'PerformanceRating' : int })\n",
    "df2= df2.astype({'Age' : int })\n",
    "df2= df2.astype({'DistanceFromHome' : int })\n",
    "df2= df2.astype({'MonthlyIncome' : int })\n",
    "df2= df2.astype({'PercentSalaryHike' : int })\n",
    "df2= df2.astype({'YearsAtCompany' : int })\n",
    "df4 = pd.merge(df1, df_retirement, on = 'EmployeeID', how='left')\n",
    "\n",
    "df4['Attrition'] = df4['Attrition'].fillna('No')\n",
    "lista=['resignationReason','retirementType','retirementDate']\n",
    "\n",
    "for i in lista: \n",
    "    df4[i]=df4[i].fillna('No applicable')\n",
    "\n",
    "df4= df4.astype({'DistanceFromHome' : int })"
   ]
  },
  {
   "cell_type": "code",
   "execution_count": 108,
   "metadata": {},
   "outputs": [],
   "source": [
    "df4['DistanceFromHome'] = df4['DistanceFromHome'].apply(lambda x: \"Very close\" if (x >=0) & (x <=5) else \"Near\" if (x >=6) & (x <=10) else \"in between\" if (x >=11) & (x <=20) else \"Far\")\n",
    "df4['MonthlyIncome'] = df4['MonthlyIncome'].apply(lambda x: \"Low\" if (x >=0) & (x <=28210) else \"Medium\" if (x >=28211) & (x <=46800) else \"Medium high\" if (x >=46801) & (x <=68610) else \"High\" if (x >=68611) & (x <=116910) else \"Very high\")\n",
    "df4['YearsAtCompany'] = df4['YearsAtCompany'].apply(lambda x: \"G1\" if (x >=0) & (x <=2) else \"G2\" if (x >=3) & (x <=5) else \"G3\" if (x >=6) & (x <=10) else \"G4\" if (x >=11) & (x <=20) else \"G5\")\n",
    "df4['Age'] = df4['Age'].apply(lambda x: \"G1\" if (x >=19) & (x <=25) else \"G2\" if (x >=26) & (x <=30) else \"G3\" if (x >=31) & (x <=35) else \"G4\" if (x >=36) & (x <=40) else \"G5\")\n",
    "df4['PercentSalaryHike'] = df4['PercentSalaryHike'].apply(lambda x: \"Low\" if (x >=11) & (x <=15) else \"Medium\" if (x >=16) & (x <=20) else \"High\" )"
   ]
  },
  {
   "cell_type": "code",
   "execution_count": 109,
   "metadata": {},
   "outputs": [],
   "source": [
    "df5 = df4.drop(['EmployeeID','retirementDate','EnvironmentSatisfaction',\t'JobSatisfaction',\t'WorkLifeBalance',\t'JobInvolvement', 'PerformanceRating', 'Department', 'JobRole', 'resignationReason','PercentSalaryHike', 'MonthlyIncome'], axis = 1)\n",
    "df_dummies1 = pd.get_dummies(df5)\n",
    "df_dummies1 =df_dummies1.drop(['retirementType_No applicable','Attrition_No'],axis = 1)\n",
    "df_dummies2 = df_dummies1[['Age_G1', 'Age_G2', 'Age_G3', 'Age_G4', 'Age_G5','BusinessTravel_Non-Travel', 'BusinessTravel_Travel_Frequently','BusinessTravel_Travel_Rarely',  'Attrition_Yes', 'retirementType_Fired', 'retirementType_Resignation']]\n",
    "df_dummies3 = df_dummies1[['DistanceFromHome_Far',\n",
    "       'DistanceFromHome_Near', 'DistanceFromHome_Very close',\n",
    "       'DistanceFromHome_in between', 'YearsAtCompany_G1', 'YearsAtCompany_G2',\n",
    "       'YearsAtCompany_G3', 'YearsAtCompany_G4', 'YearsAtCompany_G5',\n",
    "       'Attrition_Yes', 'retirementType_Fired', 'retirementType_Resignation']]\n"
   ]
  },
  {
   "cell_type": "code",
   "execution_count": 111,
   "metadata": {},
   "outputs": [
    {
     "data": {
      "text/html": [
       "<div>\n",
       "<style scoped>\n",
       "    .dataframe tbody tr th:only-of-type {\n",
       "        vertical-align: middle;\n",
       "    }\n",
       "\n",
       "    .dataframe tbody tr th {\n",
       "        vertical-align: top;\n",
       "    }\n",
       "\n",
       "    .dataframe thead th {\n",
       "        text-align: right;\n",
       "    }\n",
       "</style>\n",
       "<table border=\"1\" class=\"dataframe\">\n",
       "  <thead>\n",
       "    <tr style=\"text-align: right;\">\n",
       "      <th></th>\n",
       "      <th>Age_G1</th>\n",
       "      <th>Age_G2</th>\n",
       "      <th>Age_G3</th>\n",
       "      <th>Age_G4</th>\n",
       "      <th>Age_G5</th>\n",
       "      <th>BusinessTravel_Non-Travel</th>\n",
       "      <th>BusinessTravel_Travel_Frequently</th>\n",
       "      <th>BusinessTravel_Travel_Rarely</th>\n",
       "      <th>Attrition_Yes</th>\n",
       "      <th>retirementType_Fired</th>\n",
       "      <th>retirementType_Resignation</th>\n",
       "    </tr>\n",
       "  </thead>\n",
       "  <tbody>\n",
       "    <tr>\n",
       "      <th>Age_G1</th>\n",
       "      <td>1.000000</td>\n",
       "      <td>-0.136745</td>\n",
       "      <td>-0.162189</td>\n",
       "      <td>-0.140743</td>\n",
       "      <td>-0.201974</td>\n",
       "      <td>-0.022414</td>\n",
       "      <td>-0.044386</td>\n",
       "      <td>0.053175</td>\n",
       "      <td>0.149366</td>\n",
       "      <td>0.077865</td>\n",
       "      <td>0.128044</td>\n",
       "    </tr>\n",
       "    <tr>\n",
       "      <th>Age_G2</th>\n",
       "      <td>-0.136745</td>\n",
       "      <td>1.000000</td>\n",
       "      <td>-0.257492</td>\n",
       "      <td>-0.223444</td>\n",
       "      <td>-0.320654</td>\n",
       "      <td>-0.025022</td>\n",
       "      <td>0.007301</td>\n",
       "      <td>0.010420</td>\n",
       "      <td>0.059461</td>\n",
       "      <td>0.007268</td>\n",
       "      <td>0.059493</td>\n",
       "    </tr>\n",
       "    <tr>\n",
       "      <th>Age_G3</th>\n",
       "      <td>-0.162189</td>\n",
       "      <td>-0.257492</td>\n",
       "      <td>1.000000</td>\n",
       "      <td>-0.265021</td>\n",
       "      <td>-0.380319</td>\n",
       "      <td>0.009172</td>\n",
       "      <td>0.050224</td>\n",
       "      <td>-0.049361</td>\n",
       "      <td>0.020001</td>\n",
       "      <td>0.020069</td>\n",
       "      <td>0.013683</td>\n",
       "    </tr>\n",
       "    <tr>\n",
       "      <th>Age_G4</th>\n",
       "      <td>-0.140743</td>\n",
       "      <td>-0.223444</td>\n",
       "      <td>-0.265021</td>\n",
       "      <td>1.000000</td>\n",
       "      <td>-0.330030</td>\n",
       "      <td>0.027022</td>\n",
       "      <td>-0.000403</td>\n",
       "      <td>-0.017693</td>\n",
       "      <td>-0.090657</td>\n",
       "      <td>-0.023984</td>\n",
       "      <td>-0.086073</td>\n",
       "    </tr>\n",
       "    <tr>\n",
       "      <th>Age_G5</th>\n",
       "      <td>-0.201974</td>\n",
       "      <td>-0.320654</td>\n",
       "      <td>-0.380319</td>\n",
       "      <td>-0.330030</td>\n",
       "      <td>1.000000</td>\n",
       "      <td>0.002606</td>\n",
       "      <td>-0.025494</td>\n",
       "      <td>0.020208</td>\n",
       "      <td>-0.077609</td>\n",
       "      <td>-0.049179</td>\n",
       "      <td>-0.063399</td>\n",
       "    </tr>\n",
       "    <tr>\n",
       "      <th>BusinessTravel_Non-Travel</th>\n",
       "      <td>-0.022414</td>\n",
       "      <td>-0.025022</td>\n",
       "      <td>0.009172</td>\n",
       "      <td>0.027022</td>\n",
       "      <td>0.002606</td>\n",
       "      <td>1.000000</td>\n",
       "      <td>-0.162529</td>\n",
       "      <td>-0.527682</td>\n",
       "      <td>-0.073200</td>\n",
       "      <td>-0.019178</td>\n",
       "      <td>-0.069566</td>\n",
       "    </tr>\n",
       "    <tr>\n",
       "      <th>BusinessTravel_Travel_Frequently</th>\n",
       "      <td>-0.044386</td>\n",
       "      <td>0.007301</td>\n",
       "      <td>0.050224</td>\n",
       "      <td>-0.000403</td>\n",
       "      <td>-0.025494</td>\n",
       "      <td>-0.162529</td>\n",
       "      <td>1.000000</td>\n",
       "      <td>-0.752383</td>\n",
       "      <td>0.110314</td>\n",
       "      <td>0.032117</td>\n",
       "      <td>0.103683</td>\n",
       "    </tr>\n",
       "    <tr>\n",
       "      <th>BusinessTravel_Travel_Rarely</th>\n",
       "      <td>0.053175</td>\n",
       "      <td>0.010420</td>\n",
       "      <td>-0.049361</td>\n",
       "      <td>-0.017693</td>\n",
       "      <td>0.020208</td>\n",
       "      <td>-0.527682</td>\n",
       "      <td>-0.752383</td>\n",
       "      <td>1.000000</td>\n",
       "      <td>-0.046100</td>\n",
       "      <td>-0.014846</td>\n",
       "      <td>-0.042817</td>\n",
       "    </tr>\n",
       "    <tr>\n",
       "      <th>Attrition_Yes</th>\n",
       "      <td>0.149366</td>\n",
       "      <td>0.059461</td>\n",
       "      <td>0.020001</td>\n",
       "      <td>-0.090657</td>\n",
       "      <td>-0.077609</td>\n",
       "      <td>-0.073200</td>\n",
       "      <td>0.110314</td>\n",
       "      <td>-0.046100</td>\n",
       "      <td>1.000000</td>\n",
       "      <td>0.292981</td>\n",
       "      <td>0.939229</td>\n",
       "    </tr>\n",
       "    <tr>\n",
       "      <th>retirementType_Fired</th>\n",
       "      <td>0.077865</td>\n",
       "      <td>0.007268</td>\n",
       "      <td>0.020069</td>\n",
       "      <td>-0.023984</td>\n",
       "      <td>-0.049179</td>\n",
       "      <td>-0.019178</td>\n",
       "      <td>0.032117</td>\n",
       "      <td>-0.014846</td>\n",
       "      <td>0.292981</td>\n",
       "      <td>1.000000</td>\n",
       "      <td>-0.053051</td>\n",
       "    </tr>\n",
       "    <tr>\n",
       "      <th>retirementType_Resignation</th>\n",
       "      <td>0.128044</td>\n",
       "      <td>0.059493</td>\n",
       "      <td>0.013683</td>\n",
       "      <td>-0.086073</td>\n",
       "      <td>-0.063399</td>\n",
       "      <td>-0.069566</td>\n",
       "      <td>0.103683</td>\n",
       "      <td>-0.042817</td>\n",
       "      <td>0.939229</td>\n",
       "      <td>-0.053051</td>\n",
       "      <td>1.000000</td>\n",
       "    </tr>\n",
       "  </tbody>\n",
       "</table>\n",
       "</div>"
      ],
      "text/plain": [
       "                                    Age_G1    Age_G2    Age_G3    Age_G4  \\\n",
       "Age_G1                            1.000000 -0.136745 -0.162189 -0.140743   \n",
       "Age_G2                           -0.136745  1.000000 -0.257492 -0.223444   \n",
       "Age_G3                           -0.162189 -0.257492  1.000000 -0.265021   \n",
       "Age_G4                           -0.140743 -0.223444 -0.265021  1.000000   \n",
       "Age_G5                           -0.201974 -0.320654 -0.380319 -0.330030   \n",
       "BusinessTravel_Non-Travel        -0.022414 -0.025022  0.009172  0.027022   \n",
       "BusinessTravel_Travel_Frequently -0.044386  0.007301  0.050224 -0.000403   \n",
       "BusinessTravel_Travel_Rarely      0.053175  0.010420 -0.049361 -0.017693   \n",
       "Attrition_Yes                     0.149366  0.059461  0.020001 -0.090657   \n",
       "retirementType_Fired              0.077865  0.007268  0.020069 -0.023984   \n",
       "retirementType_Resignation        0.128044  0.059493  0.013683 -0.086073   \n",
       "\n",
       "                                    Age_G5  BusinessTravel_Non-Travel  \\\n",
       "Age_G1                           -0.201974                  -0.022414   \n",
       "Age_G2                           -0.320654                  -0.025022   \n",
       "Age_G3                           -0.380319                   0.009172   \n",
       "Age_G4                           -0.330030                   0.027022   \n",
       "Age_G5                            1.000000                   0.002606   \n",
       "BusinessTravel_Non-Travel         0.002606                   1.000000   \n",
       "BusinessTravel_Travel_Frequently -0.025494                  -0.162529   \n",
       "BusinessTravel_Travel_Rarely      0.020208                  -0.527682   \n",
       "Attrition_Yes                    -0.077609                  -0.073200   \n",
       "retirementType_Fired             -0.049179                  -0.019178   \n",
       "retirementType_Resignation       -0.063399                  -0.069566   \n",
       "\n",
       "                                  BusinessTravel_Travel_Frequently  \\\n",
       "Age_G1                                                   -0.044386   \n",
       "Age_G2                                                    0.007301   \n",
       "Age_G3                                                    0.050224   \n",
       "Age_G4                                                   -0.000403   \n",
       "Age_G5                                                   -0.025494   \n",
       "BusinessTravel_Non-Travel                                -0.162529   \n",
       "BusinessTravel_Travel_Frequently                          1.000000   \n",
       "BusinessTravel_Travel_Rarely                             -0.752383   \n",
       "Attrition_Yes                                             0.110314   \n",
       "retirementType_Fired                                      0.032117   \n",
       "retirementType_Resignation                                0.103683   \n",
       "\n",
       "                                  BusinessTravel_Travel_Rarely  Attrition_Yes  \\\n",
       "Age_G1                                                0.053175       0.149366   \n",
       "Age_G2                                                0.010420       0.059461   \n",
       "Age_G3                                               -0.049361       0.020001   \n",
       "Age_G4                                               -0.017693      -0.090657   \n",
       "Age_G5                                                0.020208      -0.077609   \n",
       "BusinessTravel_Non-Travel                            -0.527682      -0.073200   \n",
       "BusinessTravel_Travel_Frequently                     -0.752383       0.110314   \n",
       "BusinessTravel_Travel_Rarely                          1.000000      -0.046100   \n",
       "Attrition_Yes                                        -0.046100       1.000000   \n",
       "retirementType_Fired                                 -0.014846       0.292981   \n",
       "retirementType_Resignation                           -0.042817       0.939229   \n",
       "\n",
       "                                  retirementType_Fired  \\\n",
       "Age_G1                                        0.077865   \n",
       "Age_G2                                        0.007268   \n",
       "Age_G3                                        0.020069   \n",
       "Age_G4                                       -0.023984   \n",
       "Age_G5                                       -0.049179   \n",
       "BusinessTravel_Non-Travel                    -0.019178   \n",
       "BusinessTravel_Travel_Frequently              0.032117   \n",
       "BusinessTravel_Travel_Rarely                 -0.014846   \n",
       "Attrition_Yes                                 0.292981   \n",
       "retirementType_Fired                          1.000000   \n",
       "retirementType_Resignation                   -0.053051   \n",
       "\n",
       "                                  retirementType_Resignation  \n",
       "Age_G1                                              0.128044  \n",
       "Age_G2                                              0.059493  \n",
       "Age_G3                                              0.013683  \n",
       "Age_G4                                             -0.086073  \n",
       "Age_G5                                             -0.063399  \n",
       "BusinessTravel_Non-Travel                          -0.069566  \n",
       "BusinessTravel_Travel_Frequently                    0.103683  \n",
       "BusinessTravel_Travel_Rarely                       -0.042817  \n",
       "Attrition_Yes                                       0.939229  \n",
       "retirementType_Fired                               -0.053051  \n",
       "retirementType_Resignation                          1.000000  "
      ]
     },
     "execution_count": 111,
     "metadata": {},
     "output_type": "execute_result"
    }
   ],
   "source": [
    "df_dummies2.corr()\n"
   ]
  },
  {
   "cell_type": "code",
   "execution_count": 112,
   "metadata": {},
   "outputs": [
    {
     "data": {
      "text/html": [
       "<div>\n",
       "<style scoped>\n",
       "    .dataframe tbody tr th:only-of-type {\n",
       "        vertical-align: middle;\n",
       "    }\n",
       "\n",
       "    .dataframe tbody tr th {\n",
       "        vertical-align: top;\n",
       "    }\n",
       "\n",
       "    .dataframe thead th {\n",
       "        text-align: right;\n",
       "    }\n",
       "</style>\n",
       "<table border=\"1\" class=\"dataframe\">\n",
       "  <thead>\n",
       "    <tr style=\"text-align: right;\">\n",
       "      <th></th>\n",
       "      <th>DistanceFromHome_Far</th>\n",
       "      <th>DistanceFromHome_Near</th>\n",
       "      <th>DistanceFromHome_Very close</th>\n",
       "      <th>DistanceFromHome_in between</th>\n",
       "      <th>YearsAtCompany_G1</th>\n",
       "      <th>YearsAtCompany_G2</th>\n",
       "      <th>YearsAtCompany_G3</th>\n",
       "      <th>YearsAtCompany_G4</th>\n",
       "      <th>YearsAtCompany_G5</th>\n",
       "      <th>Attrition_Yes</th>\n",
       "      <th>retirementType_Fired</th>\n",
       "      <th>retirementType_Resignation</th>\n",
       "    </tr>\n",
       "  </thead>\n",
       "  <tbody>\n",
       "    <tr>\n",
       "      <th>DistanceFromHome_Far</th>\n",
       "      <td>1.000000</td>\n",
       "      <td>-0.243097</td>\n",
       "      <td>-0.345905</td>\n",
       "      <td>-0.177418</td>\n",
       "      <td>-0.032125</td>\n",
       "      <td>0.019239</td>\n",
       "      <td>0.001310</td>\n",
       "      <td>0.014766</td>\n",
       "      <td>-0.003330</td>\n",
       "      <td>-0.034529</td>\n",
       "      <td>-0.019472</td>\n",
       "      <td>-0.029072</td>\n",
       "    </tr>\n",
       "    <tr>\n",
       "      <th>DistanceFromHome_Near</th>\n",
       "      <td>-0.243097</td>\n",
       "      <td>1.000000</td>\n",
       "      <td>-0.525661</td>\n",
       "      <td>-0.269616</td>\n",
       "      <td>0.012244</td>\n",
       "      <td>0.018096</td>\n",
       "      <td>-0.012894</td>\n",
       "      <td>-0.010277</td>\n",
       "      <td>-0.019782</td>\n",
       "      <td>0.009269</td>\n",
       "      <td>0.000481</td>\n",
       "      <td>0.009508</td>\n",
       "    </tr>\n",
       "    <tr>\n",
       "      <th>DistanceFromHome_Very close</th>\n",
       "      <td>-0.345905</td>\n",
       "      <td>-0.525661</td>\n",
       "      <td>1.000000</td>\n",
       "      <td>-0.383639</td>\n",
       "      <td>0.033069</td>\n",
       "      <td>-0.047339</td>\n",
       "      <td>0.036953</td>\n",
       "      <td>-0.014228</td>\n",
       "      <td>-0.022242</td>\n",
       "      <td>-0.003059</td>\n",
       "      <td>0.018744</td>\n",
       "      <td>-0.009924</td>\n",
       "    </tr>\n",
       "    <tr>\n",
       "      <th>DistanceFromHome_in between</th>\n",
       "      <td>-0.177418</td>\n",
       "      <td>-0.269616</td>\n",
       "      <td>-0.383639</td>\n",
       "      <td>1.000000</td>\n",
       "      <td>-0.028920</td>\n",
       "      <td>0.023626</td>\n",
       "      <td>-0.035106</td>\n",
       "      <td>0.017563</td>\n",
       "      <td>0.056475</td>\n",
       "      <td>0.025105</td>\n",
       "      <td>-0.007483</td>\n",
       "      <td>0.028907</td>\n",
       "    </tr>\n",
       "    <tr>\n",
       "      <th>YearsAtCompany_G1</th>\n",
       "      <td>-0.032125</td>\n",
       "      <td>0.012244</td>\n",
       "      <td>0.033069</td>\n",
       "      <td>-0.028920</td>\n",
       "      <td>1.000000</td>\n",
       "      <td>-0.356185</td>\n",
       "      <td>-0.362149</td>\n",
       "      <td>-0.205151</td>\n",
       "      <td>-0.119830</td>\n",
       "      <td>0.208814</td>\n",
       "      <td>0.073315</td>\n",
       "      <td>0.191767</td>\n",
       "    </tr>\n",
       "    <tr>\n",
       "      <th>YearsAtCompany_G2</th>\n",
       "      <td>0.019239</td>\n",
       "      <td>0.018096</td>\n",
       "      <td>-0.047339</td>\n",
       "      <td>0.023626</td>\n",
       "      <td>-0.356185</td>\n",
       "      <td>1.000000</td>\n",
       "      <td>-0.429023</td>\n",
       "      <td>-0.243033</td>\n",
       "      <td>-0.141958</td>\n",
       "      <td>-0.043200</td>\n",
       "      <td>-0.011152</td>\n",
       "      <td>-0.041115</td>\n",
       "    </tr>\n",
       "    <tr>\n",
       "      <th>YearsAtCompany_G3</th>\n",
       "      <td>0.001310</td>\n",
       "      <td>-0.012894</td>\n",
       "      <td>0.036953</td>\n",
       "      <td>-0.035106</td>\n",
       "      <td>-0.362149</td>\n",
       "      <td>-0.429023</td>\n",
       "      <td>1.000000</td>\n",
       "      <td>-0.247102</td>\n",
       "      <td>-0.144334</td>\n",
       "      <td>-0.070182</td>\n",
       "      <td>-0.041003</td>\n",
       "      <td>-0.058578</td>\n",
       "    </tr>\n",
       "    <tr>\n",
       "      <th>YearsAtCompany_G4</th>\n",
       "      <td>0.014766</td>\n",
       "      <td>-0.010277</td>\n",
       "      <td>-0.014228</td>\n",
       "      <td>0.017563</td>\n",
       "      <td>-0.205151</td>\n",
       "      <td>-0.243033</td>\n",
       "      <td>-0.247102</td>\n",
       "      <td>1.000000</td>\n",
       "      <td>-0.081763</td>\n",
       "      <td>-0.094976</td>\n",
       "      <td>-0.025731</td>\n",
       "      <td>-0.089957</td>\n",
       "    </tr>\n",
       "    <tr>\n",
       "      <th>YearsAtCompany_G5</th>\n",
       "      <td>-0.003330</td>\n",
       "      <td>-0.019782</td>\n",
       "      <td>-0.022242</td>\n",
       "      <td>0.056475</td>\n",
       "      <td>-0.119830</td>\n",
       "      <td>-0.141958</td>\n",
       "      <td>-0.144334</td>\n",
       "      <td>-0.081763</td>\n",
       "      <td>1.000000</td>\n",
       "      <td>-0.023259</td>\n",
       "      <td>0.007131</td>\n",
       "      <td>-0.026853</td>\n",
       "    </tr>\n",
       "    <tr>\n",
       "      <th>Attrition_Yes</th>\n",
       "      <td>-0.034529</td>\n",
       "      <td>0.009269</td>\n",
       "      <td>-0.003059</td>\n",
       "      <td>0.025105</td>\n",
       "      <td>0.208814</td>\n",
       "      <td>-0.043200</td>\n",
       "      <td>-0.070182</td>\n",
       "      <td>-0.094976</td>\n",
       "      <td>-0.023259</td>\n",
       "      <td>1.000000</td>\n",
       "      <td>0.292981</td>\n",
       "      <td>0.939229</td>\n",
       "    </tr>\n",
       "    <tr>\n",
       "      <th>retirementType_Fired</th>\n",
       "      <td>-0.019472</td>\n",
       "      <td>0.000481</td>\n",
       "      <td>0.018744</td>\n",
       "      <td>-0.007483</td>\n",
       "      <td>0.073315</td>\n",
       "      <td>-0.011152</td>\n",
       "      <td>-0.041003</td>\n",
       "      <td>-0.025731</td>\n",
       "      <td>0.007131</td>\n",
       "      <td>0.292981</td>\n",
       "      <td>1.000000</td>\n",
       "      <td>-0.053051</td>\n",
       "    </tr>\n",
       "    <tr>\n",
       "      <th>retirementType_Resignation</th>\n",
       "      <td>-0.029072</td>\n",
       "      <td>0.009508</td>\n",
       "      <td>-0.009924</td>\n",
       "      <td>0.028907</td>\n",
       "      <td>0.191767</td>\n",
       "      <td>-0.041115</td>\n",
       "      <td>-0.058578</td>\n",
       "      <td>-0.089957</td>\n",
       "      <td>-0.026853</td>\n",
       "      <td>0.939229</td>\n",
       "      <td>-0.053051</td>\n",
       "      <td>1.000000</td>\n",
       "    </tr>\n",
       "  </tbody>\n",
       "</table>\n",
       "</div>"
      ],
      "text/plain": [
       "                             DistanceFromHome_Far  DistanceFromHome_Near  \\\n",
       "DistanceFromHome_Far                     1.000000              -0.243097   \n",
       "DistanceFromHome_Near                   -0.243097               1.000000   \n",
       "DistanceFromHome_Very close             -0.345905              -0.525661   \n",
       "DistanceFromHome_in between             -0.177418              -0.269616   \n",
       "YearsAtCompany_G1                       -0.032125               0.012244   \n",
       "YearsAtCompany_G2                        0.019239               0.018096   \n",
       "YearsAtCompany_G3                        0.001310              -0.012894   \n",
       "YearsAtCompany_G4                        0.014766              -0.010277   \n",
       "YearsAtCompany_G5                       -0.003330              -0.019782   \n",
       "Attrition_Yes                           -0.034529               0.009269   \n",
       "retirementType_Fired                    -0.019472               0.000481   \n",
       "retirementType_Resignation              -0.029072               0.009508   \n",
       "\n",
       "                             DistanceFromHome_Very close  \\\n",
       "DistanceFromHome_Far                           -0.345905   \n",
       "DistanceFromHome_Near                          -0.525661   \n",
       "DistanceFromHome_Very close                     1.000000   \n",
       "DistanceFromHome_in between                    -0.383639   \n",
       "YearsAtCompany_G1                               0.033069   \n",
       "YearsAtCompany_G2                              -0.047339   \n",
       "YearsAtCompany_G3                               0.036953   \n",
       "YearsAtCompany_G4                              -0.014228   \n",
       "YearsAtCompany_G5                              -0.022242   \n",
       "Attrition_Yes                                  -0.003059   \n",
       "retirementType_Fired                            0.018744   \n",
       "retirementType_Resignation                     -0.009924   \n",
       "\n",
       "                             DistanceFromHome_in between  YearsAtCompany_G1  \\\n",
       "DistanceFromHome_Far                           -0.177418          -0.032125   \n",
       "DistanceFromHome_Near                          -0.269616           0.012244   \n",
       "DistanceFromHome_Very close                    -0.383639           0.033069   \n",
       "DistanceFromHome_in between                     1.000000          -0.028920   \n",
       "YearsAtCompany_G1                              -0.028920           1.000000   \n",
       "YearsAtCompany_G2                               0.023626          -0.356185   \n",
       "YearsAtCompany_G3                              -0.035106          -0.362149   \n",
       "YearsAtCompany_G4                               0.017563          -0.205151   \n",
       "YearsAtCompany_G5                               0.056475          -0.119830   \n",
       "Attrition_Yes                                   0.025105           0.208814   \n",
       "retirementType_Fired                           -0.007483           0.073315   \n",
       "retirementType_Resignation                      0.028907           0.191767   \n",
       "\n",
       "                             YearsAtCompany_G2  YearsAtCompany_G3  \\\n",
       "DistanceFromHome_Far                  0.019239           0.001310   \n",
       "DistanceFromHome_Near                 0.018096          -0.012894   \n",
       "DistanceFromHome_Very close          -0.047339           0.036953   \n",
       "DistanceFromHome_in between           0.023626          -0.035106   \n",
       "YearsAtCompany_G1                    -0.356185          -0.362149   \n",
       "YearsAtCompany_G2                     1.000000          -0.429023   \n",
       "YearsAtCompany_G3                    -0.429023           1.000000   \n",
       "YearsAtCompany_G4                    -0.243033          -0.247102   \n",
       "YearsAtCompany_G5                    -0.141958          -0.144334   \n",
       "Attrition_Yes                        -0.043200          -0.070182   \n",
       "retirementType_Fired                 -0.011152          -0.041003   \n",
       "retirementType_Resignation           -0.041115          -0.058578   \n",
       "\n",
       "                             YearsAtCompany_G4  YearsAtCompany_G5  \\\n",
       "DistanceFromHome_Far                  0.014766          -0.003330   \n",
       "DistanceFromHome_Near                -0.010277          -0.019782   \n",
       "DistanceFromHome_Very close          -0.014228          -0.022242   \n",
       "DistanceFromHome_in between           0.017563           0.056475   \n",
       "YearsAtCompany_G1                    -0.205151          -0.119830   \n",
       "YearsAtCompany_G2                    -0.243033          -0.141958   \n",
       "YearsAtCompany_G3                    -0.247102          -0.144334   \n",
       "YearsAtCompany_G4                     1.000000          -0.081763   \n",
       "YearsAtCompany_G5                    -0.081763           1.000000   \n",
       "Attrition_Yes                        -0.094976          -0.023259   \n",
       "retirementType_Fired                 -0.025731           0.007131   \n",
       "retirementType_Resignation           -0.089957          -0.026853   \n",
       "\n",
       "                             Attrition_Yes  retirementType_Fired  \\\n",
       "DistanceFromHome_Far             -0.034529             -0.019472   \n",
       "DistanceFromHome_Near             0.009269              0.000481   \n",
       "DistanceFromHome_Very close      -0.003059              0.018744   \n",
       "DistanceFromHome_in between       0.025105             -0.007483   \n",
       "YearsAtCompany_G1                 0.208814              0.073315   \n",
       "YearsAtCompany_G2                -0.043200             -0.011152   \n",
       "YearsAtCompany_G3                -0.070182             -0.041003   \n",
       "YearsAtCompany_G4                -0.094976             -0.025731   \n",
       "YearsAtCompany_G5                -0.023259              0.007131   \n",
       "Attrition_Yes                     1.000000              0.292981   \n",
       "retirementType_Fired              0.292981              1.000000   \n",
       "retirementType_Resignation        0.939229             -0.053051   \n",
       "\n",
       "                             retirementType_Resignation  \n",
       "DistanceFromHome_Far                          -0.029072  \n",
       "DistanceFromHome_Near                          0.009508  \n",
       "DistanceFromHome_Very close                   -0.009924  \n",
       "DistanceFromHome_in between                    0.028907  \n",
       "YearsAtCompany_G1                              0.191767  \n",
       "YearsAtCompany_G2                             -0.041115  \n",
       "YearsAtCompany_G3                             -0.058578  \n",
       "YearsAtCompany_G4                             -0.089957  \n",
       "YearsAtCompany_G5                             -0.026853  \n",
       "Attrition_Yes                                  0.939229  \n",
       "retirementType_Fired                          -0.053051  \n",
       "retirementType_Resignation                     1.000000  "
      ]
     },
     "execution_count": 112,
     "metadata": {},
     "output_type": "execute_result"
    }
   ],
   "source": [
    "df_dummies3.corr()"
   ]
  },
  {
   "cell_type": "code",
   "execution_count": 115,
   "metadata": {},
   "outputs": [
    {
     "data": {
      "image/png": "[encoded data removed]",
      "text/plain": [
       "<Figure size 800x480 with 2 Axes>"
      ]
     },
     "metadata": {
      "needs_background": "light"
     },
     "output_type": "display_data"
    }
   ],
   "source": [
    "#Correlación de las variables Age,BusinessTravel,Attrition,retirementType \n",
    "from matplotlib.pyplot import figure\n",
    "figure(figsize=(10, 6), dpi=80);\n",
    "sns.heatmap(df_dummies2.corr(), annot = True);"
   ]
  },
  {
   "cell_type": "code",
   "execution_count": 116,
   "metadata": {},
   "outputs": [
    {
     "data": {
      "image/png": "[encoded data removed]",
      "text/plain": [
       "<Figure size 800x480 with 2 Axes>"
      ]
     },
     "metadata": {
      "needs_background": "light"
     },
     "output_type": "display_data"
    }
   ],
   "source": [
    "#Correlación de las variables DistanceFromHome,YearsAtCompany,Attrition, retirementType \n",
    "from matplotlib.pyplot import figure\n",
    "figure(figsize=(10, 6), dpi=80);\n",
    "sns.heatmap(df_dummies3.corr(), annot = True);"
   ]
  }
 ],
 "metadata": {
  "interpreter": {
   "hash": "89693c75806dd65d7be16ab989d930e528fde2ea91b066e0ecb54696d3a8bc89"
  },
  "kernelspec": {
   "display_name": "Python 3.8.8 ('base')",
   "language": "python",
   "name": "python3"
  },
  "language_info": {
   "codemirror_mode": {
    "name": "ipython",
    "version": 3
   },
   "file_extension": ".py",
   "mimetype": "text/x-python",
   "name": "python",
   "nbconvert_exporter": "python",
   "pygments_lexer": "ipython3",
   "version": "3.8.8"
  },
  "orig_nbformat": 4
 },
 "nbformat": 4,
 "nbformat_minor": 2
}
