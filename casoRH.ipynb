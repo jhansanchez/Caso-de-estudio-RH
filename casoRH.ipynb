{
 "cells": [
  {
   "cell_type": "markdown",
   "metadata": {},
   "source": [
    "## Data ingestion"
   ]
  },
  {
   "cell_type": "code",
   "execution_count": 62,
   "metadata": {},
   "outputs": [],
   "source": [
    "#importación de librerías\n",
    "import pandas as pd\n",
    "import numpy as np"
   ]
  },
  {
   "cell_type": "code",
   "execution_count": 63,
   "metadata": {},
   "outputs": [],
   "source": [
    "### Cargar tablas de datos desde github ###\n",
    "retirement_info ='https://raw.githubusercontent.com/jhansanchez/casome/main/datos/retirement_info.csv'\n",
    "general_data= 'https://raw.githubusercontent.com/jhansanchez/casome/main/datos/general_data.csv'\n",
    "employee_survey_data ='https://raw.githubusercontent.com/jhansanchez/casome/main/datos/employee_survey_data.csv'\n",
    "out_time = 'https://raw.githubusercontent.com/jhansanchez/casome/main/datos/out_time.csv'\n",
    "in_time = 'https://raw.githubusercontent.com/jhansanchez/casome/main/datos/in_time.csv'\n",
    "manager_survey_data ='https://raw.githubusercontent.com/jhansanchez/casome/main/datos/manager_survey_data.csv'"
   ]
  },
  {
   "cell_type": "code",
   "execution_count": 100,
   "metadata": {},
   "outputs": [],
   "source": [
    "df_general = pd.read_csv(general_data) # datos generales de los empleados\n",
    "df_manager_s = pd.read_csv(manager_survey_data) #encuesta del gerente de desempeño de los empleados\n",
    "df_retirement = pd.read_csv(retirement_info) # información de empleados que se retiran de la empresa\n",
    "df_employee_s = pd.read_csv(employee_survey_data) # encuesta de los empleados nivel de satisfacción laboral\n",
    "df_in= pd.read_csv(in_time) # el horario de ingreso de cada empleado\n",
    "df_out= pd.read_csv(out_time) # el horario de salida de cada empleado "
   ]
  },
  {
   "cell_type": "code",
   "execution_count": 65,
   "metadata": {},
   "outputs": [
    {
     "data": {
      "text/html": [
       "<div>\n",
       "<style scoped>\n",
       "    .dataframe tbody tr th:only-of-type {\n",
       "        vertical-align: middle;\n",
       "    }\n",
       "\n",
       "    .dataframe tbody tr th {\n",
       "        vertical-align: top;\n",
       "    }\n",
       "\n",
       "    .dataframe thead th {\n",
       "        text-align: right;\n",
       "    }\n",
       "</style>\n",
       "<table border=\"1\" class=\"dataframe\">\n",
       "  <thead>\n",
       "    <tr style=\"text-align: right;\">\n",
       "      <th></th>\n",
       "      <th>EmployeeID</th>\n",
       "      <th>JobInvolvement</th>\n",
       "      <th>PerformanceRating</th>\n",
       "    </tr>\n",
       "  </thead>\n",
       "  <tbody>\n",
       "    <tr>\n",
       "      <th>0</th>\n",
       "      <td>1</td>\n",
       "      <td>3</td>\n",
       "      <td>3</td>\n",
       "    </tr>\n",
       "    <tr>\n",
       "      <th>1</th>\n",
       "      <td>2</td>\n",
       "      <td>2</td>\n",
       "      <td>4</td>\n",
       "    </tr>\n",
       "    <tr>\n",
       "      <th>2</th>\n",
       "      <td>3</td>\n",
       "      <td>3</td>\n",
       "      <td>3</td>\n",
       "    </tr>\n",
       "    <tr>\n",
       "      <th>3</th>\n",
       "      <td>4</td>\n",
       "      <td>2</td>\n",
       "      <td>3</td>\n",
       "    </tr>\n",
       "    <tr>\n",
       "      <th>4</th>\n",
       "      <td>5</td>\n",
       "      <td>3</td>\n",
       "      <td>3</td>\n",
       "    </tr>\n",
       "  </tbody>\n",
       "</table>\n",
       "</div>"
      ],
      "text/plain": [
       "   EmployeeID  JobInvolvement  PerformanceRating\n",
       "0           1               3                  3\n",
       "1           2               2                  4\n",
       "2           3               3                  3\n",
       "3           4               2                  3\n",
       "4           5               3                  3"
      ]
     },
     "execution_count": 65,
     "metadata": {},
     "output_type": "execute_result"
    }
   ],
   "source": [
    "df_manager_s.head(5)\n"
   ]
  },
  {
   "cell_type": "code",
   "execution_count": 66,
   "metadata": {},
   "outputs": [
    {
     "data": {
      "text/html": [
       "<div>\n",
       "<style scoped>\n",
       "    .dataframe tbody tr th:only-of-type {\n",
       "        vertical-align: middle;\n",
       "    }\n",
       "\n",
       "    .dataframe tbody tr th {\n",
       "        vertical-align: top;\n",
       "    }\n",
       "\n",
       "    .dataframe thead th {\n",
       "        text-align: right;\n",
       "    }\n",
       "</style>\n",
       "<table border=\"1\" class=\"dataframe\">\n",
       "  <thead>\n",
       "    <tr style=\"text-align: right;\">\n",
       "      <th></th>\n",
       "      <th>EmployeeID</th>\n",
       "      <th>EnvironmentSatisfaction</th>\n",
       "      <th>JobSatisfaction</th>\n",
       "      <th>WorkLifeBalance</th>\n",
       "    </tr>\n",
       "  </thead>\n",
       "  <tbody>\n",
       "    <tr>\n",
       "      <th>0</th>\n",
       "      <td>1</td>\n",
       "      <td>3.0</td>\n",
       "      <td>4.0</td>\n",
       "      <td>2.0</td>\n",
       "    </tr>\n",
       "    <tr>\n",
       "      <th>1</th>\n",
       "      <td>2</td>\n",
       "      <td>3.0</td>\n",
       "      <td>2.0</td>\n",
       "      <td>4.0</td>\n",
       "    </tr>\n",
       "    <tr>\n",
       "      <th>2</th>\n",
       "      <td>3</td>\n",
       "      <td>2.0</td>\n",
       "      <td>2.0</td>\n",
       "      <td>1.0</td>\n",
       "    </tr>\n",
       "    <tr>\n",
       "      <th>3</th>\n",
       "      <td>4</td>\n",
       "      <td>4.0</td>\n",
       "      <td>4.0</td>\n",
       "      <td>3.0</td>\n",
       "    </tr>\n",
       "    <tr>\n",
       "      <th>4</th>\n",
       "      <td>5</td>\n",
       "      <td>4.0</td>\n",
       "      <td>1.0</td>\n",
       "      <td>3.0</td>\n",
       "    </tr>\n",
       "  </tbody>\n",
       "</table>\n",
       "</div>"
      ],
      "text/plain": [
       "   EmployeeID  EnvironmentSatisfaction  JobSatisfaction  WorkLifeBalance\n",
       "0           1                      3.0              4.0              2.0\n",
       "1           2                      3.0              2.0              4.0\n",
       "2           3                      2.0              2.0              1.0\n",
       "3           4                      4.0              4.0              3.0\n",
       "4           5                      4.0              1.0              3.0"
      ]
     },
     "execution_count": 66,
     "metadata": {},
     "output_type": "execute_result"
    }
   ],
   "source": [
    "df_employee_s.head(5)"
   ]
  },
  {
   "cell_type": "code",
   "execution_count": 67,
   "metadata": {},
   "outputs": [
    {
     "data": {
      "text/html": [
       "<div>\n",
       "<style scoped>\n",
       "    .dataframe tbody tr th:only-of-type {\n",
       "        vertical-align: middle;\n",
       "    }\n",
       "\n",
       "    .dataframe tbody tr th {\n",
       "        vertical-align: top;\n",
       "    }\n",
       "\n",
       "    .dataframe thead th {\n",
       "        text-align: right;\n",
       "    }\n",
       "</style>\n",
       "<table border=\"1\" class=\"dataframe\">\n",
       "  <thead>\n",
       "    <tr style=\"text-align: right;\">\n",
       "      <th></th>\n",
       "      <th>Age</th>\n",
       "      <th>BusinessTravel</th>\n",
       "      <th>Department</th>\n",
       "      <th>DistanceFromHome</th>\n",
       "      <th>Education</th>\n",
       "      <th>EducationField</th>\n",
       "      <th>EmployeeCount</th>\n",
       "      <th>EmployeeID</th>\n",
       "      <th>Gender</th>\n",
       "      <th>JobLevel</th>\n",
       "      <th>...</th>\n",
       "      <th>NumCompaniesWorked</th>\n",
       "      <th>Over18</th>\n",
       "      <th>PercentSalaryHike</th>\n",
       "      <th>StandardHours</th>\n",
       "      <th>StockOptionLevel</th>\n",
       "      <th>TotalWorkingYears</th>\n",
       "      <th>TrainingTimesLastYear</th>\n",
       "      <th>YearsAtCompany</th>\n",
       "      <th>YearsSinceLastPromotion</th>\n",
       "      <th>YearsWithCurrManager</th>\n",
       "    </tr>\n",
       "  </thead>\n",
       "  <tbody>\n",
       "    <tr>\n",
       "      <th>0</th>\n",
       "      <td>51</td>\n",
       "      <td>Travel_Rarely</td>\n",
       "      <td>Sales</td>\n",
       "      <td>6</td>\n",
       "      <td>2</td>\n",
       "      <td>Life Sciences</td>\n",
       "      <td>1</td>\n",
       "      <td>1</td>\n",
       "      <td>Female</td>\n",
       "      <td>1</td>\n",
       "      <td>...</td>\n",
       "      <td>1.0</td>\n",
       "      <td>Y</td>\n",
       "      <td>11</td>\n",
       "      <td>8</td>\n",
       "      <td>0</td>\n",
       "      <td>1.0</td>\n",
       "      <td>6</td>\n",
       "      <td>1</td>\n",
       "      <td>0</td>\n",
       "      <td>0</td>\n",
       "    </tr>\n",
       "    <tr>\n",
       "      <th>1</th>\n",
       "      <td>31</td>\n",
       "      <td>Travel_Frequently</td>\n",
       "      <td>Research &amp; Development</td>\n",
       "      <td>10</td>\n",
       "      <td>1</td>\n",
       "      <td>Life Sciences</td>\n",
       "      <td>1</td>\n",
       "      <td>2</td>\n",
       "      <td>Female</td>\n",
       "      <td>1</td>\n",
       "      <td>...</td>\n",
       "      <td>0.0</td>\n",
       "      <td>Y</td>\n",
       "      <td>23</td>\n",
       "      <td>8</td>\n",
       "      <td>1</td>\n",
       "      <td>6.0</td>\n",
       "      <td>3</td>\n",
       "      <td>5</td>\n",
       "      <td>1</td>\n",
       "      <td>4</td>\n",
       "    </tr>\n",
       "    <tr>\n",
       "      <th>2</th>\n",
       "      <td>32</td>\n",
       "      <td>Travel_Frequently</td>\n",
       "      <td>Research &amp; Development</td>\n",
       "      <td>17</td>\n",
       "      <td>4</td>\n",
       "      <td>Other</td>\n",
       "      <td>1</td>\n",
       "      <td>3</td>\n",
       "      <td>Male</td>\n",
       "      <td>4</td>\n",
       "      <td>...</td>\n",
       "      <td>1.0</td>\n",
       "      <td>Y</td>\n",
       "      <td>15</td>\n",
       "      <td>8</td>\n",
       "      <td>3</td>\n",
       "      <td>5.0</td>\n",
       "      <td>2</td>\n",
       "      <td>5</td>\n",
       "      <td>0</td>\n",
       "      <td>3</td>\n",
       "    </tr>\n",
       "    <tr>\n",
       "      <th>3</th>\n",
       "      <td>38</td>\n",
       "      <td>Non-Travel</td>\n",
       "      <td>Research &amp; Development</td>\n",
       "      <td>2</td>\n",
       "      <td>5</td>\n",
       "      <td>Life Sciences</td>\n",
       "      <td>1</td>\n",
       "      <td>4</td>\n",
       "      <td>Male</td>\n",
       "      <td>3</td>\n",
       "      <td>...</td>\n",
       "      <td>3.0</td>\n",
       "      <td>Y</td>\n",
       "      <td>11</td>\n",
       "      <td>8</td>\n",
       "      <td>3</td>\n",
       "      <td>13.0</td>\n",
       "      <td>5</td>\n",
       "      <td>8</td>\n",
       "      <td>7</td>\n",
       "      <td>5</td>\n",
       "    </tr>\n",
       "    <tr>\n",
       "      <th>4</th>\n",
       "      <td>32</td>\n",
       "      <td>Travel_Rarely</td>\n",
       "      <td>Research &amp; Development</td>\n",
       "      <td>10</td>\n",
       "      <td>1</td>\n",
       "      <td>Medical</td>\n",
       "      <td>1</td>\n",
       "      <td>5</td>\n",
       "      <td>Male</td>\n",
       "      <td>1</td>\n",
       "      <td>...</td>\n",
       "      <td>4.0</td>\n",
       "      <td>Y</td>\n",
       "      <td>12</td>\n",
       "      <td>8</td>\n",
       "      <td>2</td>\n",
       "      <td>9.0</td>\n",
       "      <td>2</td>\n",
       "      <td>6</td>\n",
       "      <td>0</td>\n",
       "      <td>4</td>\n",
       "    </tr>\n",
       "  </tbody>\n",
       "</table>\n",
       "<p>5 rows × 23 columns</p>\n",
       "</div>"
      ],
      "text/plain": [
       "   Age     BusinessTravel              Department  DistanceFromHome  \\\n",
       "0   51      Travel_Rarely                   Sales                 6   \n",
       "1   31  Travel_Frequently  Research & Development                10   \n",
       "2   32  Travel_Frequently  Research & Development                17   \n",
       "3   38         Non-Travel  Research & Development                 2   \n",
       "4   32      Travel_Rarely  Research & Development                10   \n",
       "\n",
       "   Education EducationField  EmployeeCount  EmployeeID  Gender  JobLevel  ...  \\\n",
       "0          2  Life Sciences              1           1  Female         1  ...   \n",
       "1          1  Life Sciences              1           2  Female         1  ...   \n",
       "2          4          Other              1           3    Male         4  ...   \n",
       "3          5  Life Sciences              1           4    Male         3  ...   \n",
       "4          1        Medical              1           5    Male         1  ...   \n",
       "\n",
       "  NumCompaniesWorked Over18  PercentSalaryHike  StandardHours  \\\n",
       "0                1.0      Y                 11              8   \n",
       "1                0.0      Y                 23              8   \n",
       "2                1.0      Y                 15              8   \n",
       "3                3.0      Y                 11              8   \n",
       "4                4.0      Y                 12              8   \n",
       "\n",
       "  StockOptionLevel  TotalWorkingYears  TrainingTimesLastYear  YearsAtCompany  \\\n",
       "0                0                1.0                      6               1   \n",
       "1                1                6.0                      3               5   \n",
       "2                3                5.0                      2               5   \n",
       "3                3               13.0                      5               8   \n",
       "4                2                9.0                      2               6   \n",
       "\n",
       "   YearsSinceLastPromotion  YearsWithCurrManager  \n",
       "0                        0                     0  \n",
       "1                        1                     4  \n",
       "2                        0                     3  \n",
       "3                        7                     5  \n",
       "4                        0                     4  \n",
       "\n",
       "[5 rows x 23 columns]"
      ]
     },
     "execution_count": 67,
     "metadata": {},
     "output_type": "execute_result"
    }
   ],
   "source": [
    "df_general.head(5)"
   ]
  },
  {
   "cell_type": "code",
   "execution_count": 106,
   "metadata": {},
   "outputs": [
    {
     "data": {
      "text/plain": [
       "8    4410\n",
       "Name: StandardHours, dtype: int64"
      ]
     },
     "execution_count": 106,
     "metadata": {},
     "output_type": "execute_result"
    }
   ],
   "source": [
    "df_general['StandardHours'].value_counts()"
   ]
  },
  {
   "cell_type": "code",
   "execution_count": 68,
   "metadata": {},
   "outputs": [
    {
     "data": {
      "text/html": [
       "<div>\n",
       "<style scoped>\n",
       "    .dataframe tbody tr th:only-of-type {\n",
       "        vertical-align: middle;\n",
       "    }\n",
       "\n",
       "    .dataframe tbody tr th {\n",
       "        vertical-align: top;\n",
       "    }\n",
       "\n",
       "    .dataframe thead th {\n",
       "        text-align: right;\n",
       "    }\n",
       "</style>\n",
       "<table border=\"1\" class=\"dataframe\">\n",
       "  <thead>\n",
       "    <tr style=\"text-align: right;\">\n",
       "      <th></th>\n",
       "      <th>EmployeeID</th>\n",
       "      <th>Attrition</th>\n",
       "      <th>retirementDate</th>\n",
       "      <th>retirementType</th>\n",
       "      <th>resignationReason</th>\n",
       "    </tr>\n",
       "  </thead>\n",
       "  <tbody>\n",
       "    <tr>\n",
       "      <th>0</th>\n",
       "      <td>2</td>\n",
       "      <td>Yes</td>\n",
       "      <td>15/10/2016</td>\n",
       "      <td>Resignation</td>\n",
       "      <td>Others</td>\n",
       "    </tr>\n",
       "    <tr>\n",
       "      <th>1</th>\n",
       "      <td>7</td>\n",
       "      <td>Yes</td>\n",
       "      <td>20/7/2016</td>\n",
       "      <td>Resignation</td>\n",
       "      <td>Stress</td>\n",
       "    </tr>\n",
       "    <tr>\n",
       "      <th>2</th>\n",
       "      <td>14</td>\n",
       "      <td>Yes</td>\n",
       "      <td>8/11/2016</td>\n",
       "      <td>Resignation</td>\n",
       "      <td>Others</td>\n",
       "    </tr>\n",
       "    <tr>\n",
       "      <th>3</th>\n",
       "      <td>29</td>\n",
       "      <td>Yes</td>\n",
       "      <td>15/10/2016</td>\n",
       "      <td>Resignation</td>\n",
       "      <td>Others</td>\n",
       "    </tr>\n",
       "    <tr>\n",
       "      <th>4</th>\n",
       "      <td>31</td>\n",
       "      <td>Yes</td>\n",
       "      <td>8/2/2016</td>\n",
       "      <td>Resignation</td>\n",
       "      <td>Salary</td>\n",
       "    </tr>\n",
       "  </tbody>\n",
       "</table>\n",
       "</div>"
      ],
      "text/plain": [
       "   EmployeeID Attrition retirementDate retirementType resignationReason\n",
       "0           2       Yes     15/10/2016    Resignation            Others\n",
       "1           7       Yes      20/7/2016    Resignation            Stress\n",
       "2          14       Yes      8/11/2016    Resignation            Others\n",
       "3          29       Yes     15/10/2016    Resignation            Others\n",
       "4          31       Yes       8/2/2016    Resignation            Salary"
      ]
     },
     "execution_count": 68,
     "metadata": {},
     "output_type": "execute_result"
    }
   ],
   "source": [
    "df_retirement.head(5)"
   ]
  },
  {
   "cell_type": "code",
   "execution_count": 104,
   "metadata": {},
   "outputs": [
    {
     "data": {
      "text/html": [
       "<div>\n",
       "<style scoped>\n",
       "    .dataframe tbody tr th:only-of-type {\n",
       "        vertical-align: middle;\n",
       "    }\n",
       "\n",
       "    .dataframe tbody tr th {\n",
       "        vertical-align: top;\n",
       "    }\n",
       "\n",
       "    .dataframe thead th {\n",
       "        text-align: right;\n",
       "    }\n",
       "</style>\n",
       "<table border=\"1\" class=\"dataframe\">\n",
       "  <thead>\n",
       "    <tr style=\"text-align: right;\">\n",
       "      <th></th>\n",
       "      <th>Unnamed: 0</th>\n",
       "      <th>1/1/2015</th>\n",
       "      <th>2/1/2015</th>\n",
       "      <th>5/1/2015</th>\n",
       "      <th>6/1/2015</th>\n",
       "      <th>7/1/2015</th>\n",
       "      <th>8/1/2015</th>\n",
       "      <th>9/1/2015</th>\n",
       "      <th>12/1/2015</th>\n",
       "      <th>13/1/2015</th>\n",
       "      <th>...</th>\n",
       "      <th>18/12/2015</th>\n",
       "      <th>21/12/2015</th>\n",
       "      <th>22/12/2015</th>\n",
       "      <th>23/12/2015</th>\n",
       "      <th>24/12/2015</th>\n",
       "      <th>25/12/2015</th>\n",
       "      <th>28/12/2015</th>\n",
       "      <th>29/12/2015</th>\n",
       "      <th>30/12/2015</th>\n",
       "      <th>31/12/2015</th>\n",
       "    </tr>\n",
       "  </thead>\n",
       "  <tbody>\n",
       "    <tr>\n",
       "      <th>0</th>\n",
       "      <td>1</td>\n",
       "      <td>NaN</td>\n",
       "      <td>1/2/15 9:43</td>\n",
       "      <td>1/5/15 10:08</td>\n",
       "      <td>1/6/15 9:54</td>\n",
       "      <td>1/7/15 9:34</td>\n",
       "      <td>1/8/15 9:51</td>\n",
       "      <td>1/9/15 10:09</td>\n",
       "      <td>1/12/15 9:42</td>\n",
       "      <td>1/13/15 10:13</td>\n",
       "      <td>...</td>\n",
       "      <td>NaN</td>\n",
       "      <td>12/21/15 9:55</td>\n",
       "      <td>12/22/15 10:04</td>\n",
       "      <td>12/23/15 10:14</td>\n",
       "      <td>12/24/15 10:11</td>\n",
       "      <td>NaN</td>\n",
       "      <td>12/28/15 10:13</td>\n",
       "      <td>12/29/15 10:03</td>\n",
       "      <td>12/30/15 9:54</td>\n",
       "      <td>12/31/15 10:12</td>\n",
       "    </tr>\n",
       "    <tr>\n",
       "      <th>1</th>\n",
       "      <td>2</td>\n",
       "      <td>NaN</td>\n",
       "      <td>1/2/15 10:15</td>\n",
       "      <td>1/5/15 10:21</td>\n",
       "      <td>NaN</td>\n",
       "      <td>1/7/15 9:45</td>\n",
       "      <td>1/8/15 10:09</td>\n",
       "      <td>1/9/15 9:43</td>\n",
       "      <td>1/12/15 10:00</td>\n",
       "      <td>1/13/15 10:43</td>\n",
       "      <td>...</td>\n",
       "      <td>12/18/15 10:37</td>\n",
       "      <td>12/21/15 9:49</td>\n",
       "      <td>12/22/15 10:33</td>\n",
       "      <td>12/23/15 10:12</td>\n",
       "      <td>NaN</td>\n",
       "      <td>NaN</td>\n",
       "      <td>12/28/15 9:31</td>\n",
       "      <td>12/29/15 9:55</td>\n",
       "      <td>12/30/15 10:32</td>\n",
       "      <td>12/31/15 9:27</td>\n",
       "    </tr>\n",
       "    <tr>\n",
       "      <th>2</th>\n",
       "      <td>3</td>\n",
       "      <td>NaN</td>\n",
       "      <td>1/2/15 10:17</td>\n",
       "      <td>1/5/15 9:50</td>\n",
       "      <td>1/6/15 10:14</td>\n",
       "      <td>1/7/15 9:47</td>\n",
       "      <td>1/8/15 10:03</td>\n",
       "      <td>1/9/15 10:05</td>\n",
       "      <td>1/12/15 10:03</td>\n",
       "      <td>1/13/15 10:21</td>\n",
       "      <td>...</td>\n",
       "      <td>12/18/15 10:15</td>\n",
       "      <td>12/21/15 10:10</td>\n",
       "      <td>12/22/15 9:44</td>\n",
       "      <td>12/23/15 10:15</td>\n",
       "      <td>12/24/15 10:07</td>\n",
       "      <td>NaN</td>\n",
       "      <td>12/28/15 9:42</td>\n",
       "      <td>12/29/15 9:43</td>\n",
       "      <td>12/30/15 9:34</td>\n",
       "      <td>12/31/15 10:28</td>\n",
       "    </tr>\n",
       "    <tr>\n",
       "      <th>3</th>\n",
       "      <td>4</td>\n",
       "      <td>NaN</td>\n",
       "      <td>1/2/15 10:05</td>\n",
       "      <td>1/5/15 9:56</td>\n",
       "      <td>1/6/15 10:11</td>\n",
       "      <td>1/7/15 9:37</td>\n",
       "      <td>1/8/15 10:02</td>\n",
       "      <td>1/9/15 10:08</td>\n",
       "      <td>1/12/15 10:13</td>\n",
       "      <td>1/13/15 9:53</td>\n",
       "      <td>...</td>\n",
       "      <td>12/18/15 10:17</td>\n",
       "      <td>12/21/15 9:58</td>\n",
       "      <td>12/22/15 10:04</td>\n",
       "      <td>12/23/15 10:11</td>\n",
       "      <td>12/24/15 9:43</td>\n",
       "      <td>NaN</td>\n",
       "      <td>12/28/15 9:52</td>\n",
       "      <td>12/29/15 9:33</td>\n",
       "      <td>12/30/15 10:18</td>\n",
       "      <td>12/31/15 10:01</td>\n",
       "    </tr>\n",
       "    <tr>\n",
       "      <th>4</th>\n",
       "      <td>5</td>\n",
       "      <td>NaN</td>\n",
       "      <td>1/2/15 10:28</td>\n",
       "      <td>1/5/15 9:49</td>\n",
       "      <td>1/6/15 9:45</td>\n",
       "      <td>1/7/15 9:49</td>\n",
       "      <td>1/8/15 10:19</td>\n",
       "      <td>1/9/15 10:00</td>\n",
       "      <td>1/12/15 10:29</td>\n",
       "      <td>1/13/15 9:59</td>\n",
       "      <td>...</td>\n",
       "      <td>12/18/15 9:58</td>\n",
       "      <td>12/21/15 10:03</td>\n",
       "      <td>12/22/15 10:10</td>\n",
       "      <td>12/23/15 10:13</td>\n",
       "      <td>12/24/15 9:44</td>\n",
       "      <td>NaN</td>\n",
       "      <td>12/28/15 10:05</td>\n",
       "      <td>12/29/15 10:30</td>\n",
       "      <td>12/30/15 9:18</td>\n",
       "      <td>12/31/15 9:41</td>\n",
       "    </tr>\n",
       "    <tr>\n",
       "      <th>...</th>\n",
       "      <td>...</td>\n",
       "      <td>...</td>\n",
       "      <td>...</td>\n",
       "      <td>...</td>\n",
       "      <td>...</td>\n",
       "      <td>...</td>\n",
       "      <td>...</td>\n",
       "      <td>...</td>\n",
       "      <td>...</td>\n",
       "      <td>...</td>\n",
       "      <td>...</td>\n",
       "      <td>...</td>\n",
       "      <td>...</td>\n",
       "      <td>...</td>\n",
       "      <td>...</td>\n",
       "      <td>...</td>\n",
       "      <td>...</td>\n",
       "      <td>...</td>\n",
       "      <td>...</td>\n",
       "      <td>...</td>\n",
       "      <td>...</td>\n",
       "    </tr>\n",
       "    <tr>\n",
       "      <th>4405</th>\n",
       "      <td>4406</td>\n",
       "      <td>NaN</td>\n",
       "      <td>1/2/15 9:20</td>\n",
       "      <td>1/5/15 10:17</td>\n",
       "      <td>1/6/15 10:26</td>\n",
       "      <td>1/7/15 10:06</td>\n",
       "      <td>1/8/15 9:45</td>\n",
       "      <td>1/9/15 9:49</td>\n",
       "      <td>1/12/15 9:37</td>\n",
       "      <td>1/13/15 9:25</td>\n",
       "      <td>...</td>\n",
       "      <td>12/18/15 10:01</td>\n",
       "      <td>12/21/15 10:25</td>\n",
       "      <td>12/22/15 10:16</td>\n",
       "      <td>12/23/15 10:04</td>\n",
       "      <td>12/24/15 9:45</td>\n",
       "      <td>NaN</td>\n",
       "      <td>12/28/15 10:15</td>\n",
       "      <td>12/29/15 10:10</td>\n",
       "      <td>12/30/15 9:28</td>\n",
       "      <td>12/31/15 10:00</td>\n",
       "    </tr>\n",
       "    <tr>\n",
       "      <th>4406</th>\n",
       "      <td>4407</td>\n",
       "      <td>NaN</td>\n",
       "      <td>1/2/15 10:03</td>\n",
       "      <td>NaN</td>\n",
       "      <td>1/6/15 9:44</td>\n",
       "      <td>1/7/15 9:42</td>\n",
       "      <td>1/8/15 10:00</td>\n",
       "      <td>1/9/15 9:44</td>\n",
       "      <td>1/12/15 10:07</td>\n",
       "      <td>1/13/15 10:05</td>\n",
       "      <td>...</td>\n",
       "      <td>12/18/15 9:27</td>\n",
       "      <td>12/21/15 9:41</td>\n",
       "      <td>12/22/15 9:50</td>\n",
       "      <td>12/23/15 10:32</td>\n",
       "      <td>12/24/15 9:47</td>\n",
       "      <td>NaN</td>\n",
       "      <td>12/28/15 9:54</td>\n",
       "      <td>12/29/15 10:13</td>\n",
       "      <td>12/30/15 10:21</td>\n",
       "      <td>12/31/15 10:09</td>\n",
       "    </tr>\n",
       "    <tr>\n",
       "      <th>4407</th>\n",
       "      <td>4408</td>\n",
       "      <td>NaN</td>\n",
       "      <td>1/2/15 10:01</td>\n",
       "      <td>1/5/15 9:33</td>\n",
       "      <td>1/6/15 9:49</td>\n",
       "      <td>1/7/15 10:28</td>\n",
       "      <td>1/8/15 9:47</td>\n",
       "      <td>1/9/15 10:01</td>\n",
       "      <td>1/12/15 9:49</td>\n",
       "      <td>1/13/15 9:47</td>\n",
       "      <td>...</td>\n",
       "      <td>12/18/15 10:00</td>\n",
       "      <td>12/21/15 9:51</td>\n",
       "      <td>12/22/15 10:02</td>\n",
       "      <td>12/23/15 9:58</td>\n",
       "      <td>12/24/15 9:56</td>\n",
       "      <td>NaN</td>\n",
       "      <td>12/28/15 9:59</td>\n",
       "      <td>NaN</td>\n",
       "      <td>12/30/15 10:02</td>\n",
       "      <td>12/31/15 10:03</td>\n",
       "    </tr>\n",
       "    <tr>\n",
       "      <th>4408</th>\n",
       "      <td>4409</td>\n",
       "      <td>NaN</td>\n",
       "      <td>1/2/15 10:17</td>\n",
       "      <td>1/5/15 10:02</td>\n",
       "      <td>1/6/15 10:12</td>\n",
       "      <td>1/7/15 10:12</td>\n",
       "      <td>1/8/15 9:42</td>\n",
       "      <td>NaN</td>\n",
       "      <td>1/12/15 10:00</td>\n",
       "      <td>1/13/15 9:48</td>\n",
       "      <td>...</td>\n",
       "      <td>12/18/15 9:54</td>\n",
       "      <td>12/21/15 10:01</td>\n",
       "      <td>12/22/15 10:10</td>\n",
       "      <td>12/23/15 9:42</td>\n",
       "      <td>12/24/15 9:56</td>\n",
       "      <td>NaN</td>\n",
       "      <td>12/28/15 9:55</td>\n",
       "      <td>12/29/15 9:54</td>\n",
       "      <td>12/30/15 10:15</td>\n",
       "      <td>12/31/15 9:56</td>\n",
       "    </tr>\n",
       "    <tr>\n",
       "      <th>4409</th>\n",
       "      <td>4410</td>\n",
       "      <td>NaN</td>\n",
       "      <td>1/2/15 9:59</td>\n",
       "      <td>1/5/15 10:16</td>\n",
       "      <td>1/6/15 9:52</td>\n",
       "      <td>1/7/15 9:43</td>\n",
       "      <td>1/8/15 10:06</td>\n",
       "      <td>1/9/15 10:27</td>\n",
       "      <td>1/12/15 9:47</td>\n",
       "      <td>1/13/15 9:30</td>\n",
       "      <td>...</td>\n",
       "      <td>12/18/15 10:20</td>\n",
       "      <td>12/21/15 10:26</td>\n",
       "      <td>NaN</td>\n",
       "      <td>12/23/15 9:53</td>\n",
       "      <td>12/24/15 9:42</td>\n",
       "      <td>NaN</td>\n",
       "      <td>12/28/15 9:41</td>\n",
       "      <td>12/29/15 10:05</td>\n",
       "      <td>12/30/15 10:32</td>\n",
       "      <td>12/31/15 10:09</td>\n",
       "    </tr>\n",
       "  </tbody>\n",
       "</table>\n",
       "<p>4410 rows × 262 columns</p>\n",
       "</div>"
      ],
      "text/plain": [
       "      Unnamed: 0  1/1/2015      2/1/2015      5/1/2015      6/1/2015  \\\n",
       "0              1       NaN   1/2/15 9:43  1/5/15 10:08   1/6/15 9:54   \n",
       "1              2       NaN  1/2/15 10:15  1/5/15 10:21           NaN   \n",
       "2              3       NaN  1/2/15 10:17   1/5/15 9:50  1/6/15 10:14   \n",
       "3              4       NaN  1/2/15 10:05   1/5/15 9:56  1/6/15 10:11   \n",
       "4              5       NaN  1/2/15 10:28   1/5/15 9:49   1/6/15 9:45   \n",
       "...          ...       ...           ...           ...           ...   \n",
       "4405        4406       NaN   1/2/15 9:20  1/5/15 10:17  1/6/15 10:26   \n",
       "4406        4407       NaN  1/2/15 10:03           NaN   1/6/15 9:44   \n",
       "4407        4408       NaN  1/2/15 10:01   1/5/15 9:33   1/6/15 9:49   \n",
       "4408        4409       NaN  1/2/15 10:17  1/5/15 10:02  1/6/15 10:12   \n",
       "4409        4410       NaN   1/2/15 9:59  1/5/15 10:16   1/6/15 9:52   \n",
       "\n",
       "          7/1/2015      8/1/2015      9/1/2015      12/1/2015      13/1/2015  \\\n",
       "0      1/7/15 9:34   1/8/15 9:51  1/9/15 10:09   1/12/15 9:42  1/13/15 10:13   \n",
       "1      1/7/15 9:45  1/8/15 10:09   1/9/15 9:43  1/12/15 10:00  1/13/15 10:43   \n",
       "2      1/7/15 9:47  1/8/15 10:03  1/9/15 10:05  1/12/15 10:03  1/13/15 10:21   \n",
       "3      1/7/15 9:37  1/8/15 10:02  1/9/15 10:08  1/12/15 10:13   1/13/15 9:53   \n",
       "4      1/7/15 9:49  1/8/15 10:19  1/9/15 10:00  1/12/15 10:29   1/13/15 9:59   \n",
       "...            ...           ...           ...            ...            ...   \n",
       "4405  1/7/15 10:06   1/8/15 9:45   1/9/15 9:49   1/12/15 9:37   1/13/15 9:25   \n",
       "4406   1/7/15 9:42  1/8/15 10:00   1/9/15 9:44  1/12/15 10:07  1/13/15 10:05   \n",
       "4407  1/7/15 10:28   1/8/15 9:47  1/9/15 10:01   1/12/15 9:49   1/13/15 9:47   \n",
       "4408  1/7/15 10:12   1/8/15 9:42           NaN  1/12/15 10:00   1/13/15 9:48   \n",
       "4409   1/7/15 9:43  1/8/15 10:06  1/9/15 10:27   1/12/15 9:47   1/13/15 9:30   \n",
       "\n",
       "      ...      18/12/2015      21/12/2015      22/12/2015      23/12/2015  \\\n",
       "0     ...             NaN   12/21/15 9:55  12/22/15 10:04  12/23/15 10:14   \n",
       "1     ...  12/18/15 10:37   12/21/15 9:49  12/22/15 10:33  12/23/15 10:12   \n",
       "2     ...  12/18/15 10:15  12/21/15 10:10   12/22/15 9:44  12/23/15 10:15   \n",
       "3     ...  12/18/15 10:17   12/21/15 9:58  12/22/15 10:04  12/23/15 10:11   \n",
       "4     ...   12/18/15 9:58  12/21/15 10:03  12/22/15 10:10  12/23/15 10:13   \n",
       "...   ...             ...             ...             ...             ...   \n",
       "4405  ...  12/18/15 10:01  12/21/15 10:25  12/22/15 10:16  12/23/15 10:04   \n",
       "4406  ...   12/18/15 9:27   12/21/15 9:41   12/22/15 9:50  12/23/15 10:32   \n",
       "4407  ...  12/18/15 10:00   12/21/15 9:51  12/22/15 10:02   12/23/15 9:58   \n",
       "4408  ...   12/18/15 9:54  12/21/15 10:01  12/22/15 10:10   12/23/15 9:42   \n",
       "4409  ...  12/18/15 10:20  12/21/15 10:26             NaN   12/23/15 9:53   \n",
       "\n",
       "          24/12/2015 25/12/2015      28/12/2015      29/12/2015  \\\n",
       "0     12/24/15 10:11        NaN  12/28/15 10:13  12/29/15 10:03   \n",
       "1                NaN        NaN   12/28/15 9:31   12/29/15 9:55   \n",
       "2     12/24/15 10:07        NaN   12/28/15 9:42   12/29/15 9:43   \n",
       "3      12/24/15 9:43        NaN   12/28/15 9:52   12/29/15 9:33   \n",
       "4      12/24/15 9:44        NaN  12/28/15 10:05  12/29/15 10:30   \n",
       "...              ...        ...             ...             ...   \n",
       "4405   12/24/15 9:45        NaN  12/28/15 10:15  12/29/15 10:10   \n",
       "4406   12/24/15 9:47        NaN   12/28/15 9:54  12/29/15 10:13   \n",
       "4407   12/24/15 9:56        NaN   12/28/15 9:59             NaN   \n",
       "4408   12/24/15 9:56        NaN   12/28/15 9:55   12/29/15 9:54   \n",
       "4409   12/24/15 9:42        NaN   12/28/15 9:41  12/29/15 10:05   \n",
       "\n",
       "          30/12/2015      31/12/2015  \n",
       "0      12/30/15 9:54  12/31/15 10:12  \n",
       "1     12/30/15 10:32   12/31/15 9:27  \n",
       "2      12/30/15 9:34  12/31/15 10:28  \n",
       "3     12/30/15 10:18  12/31/15 10:01  \n",
       "4      12/30/15 9:18   12/31/15 9:41  \n",
       "...              ...             ...  \n",
       "4405   12/30/15 9:28  12/31/15 10:00  \n",
       "4406  12/30/15 10:21  12/31/15 10:09  \n",
       "4407  12/30/15 10:02  12/31/15 10:03  \n",
       "4408  12/30/15 10:15   12/31/15 9:56  \n",
       "4409  12/30/15 10:32  12/31/15 10:09  \n",
       "\n",
       "[4410 rows x 262 columns]"
      ]
     },
     "execution_count": 104,
     "metadata": {},
     "output_type": "execute_result"
    }
   ],
   "source": [
    "df_in\n"
   ]
  },
  {
   "cell_type": "code",
   "execution_count": 102,
   "metadata": {},
   "outputs": [
    {
     "data": {
      "text/html": [
       "<div>\n",
       "<style scoped>\n",
       "    .dataframe tbody tr th:only-of-type {\n",
       "        vertical-align: middle;\n",
       "    }\n",
       "\n",
       "    .dataframe tbody tr th {\n",
       "        vertical-align: top;\n",
       "    }\n",
       "\n",
       "    .dataframe thead th {\n",
       "        text-align: right;\n",
       "    }\n",
       "</style>\n",
       "<table border=\"1\" class=\"dataframe\">\n",
       "  <thead>\n",
       "    <tr style=\"text-align: right;\">\n",
       "      <th></th>\n",
       "      <th>Unnamed: 0</th>\n",
       "      <th>2015-01-01</th>\n",
       "      <th>2015-01-02</th>\n",
       "      <th>2015-01-05</th>\n",
       "      <th>2015-01-06</th>\n",
       "      <th>2015-01-07</th>\n",
       "      <th>2015-01-08</th>\n",
       "      <th>2015-01-09</th>\n",
       "      <th>2015-01-12</th>\n",
       "      <th>2015-01-13</th>\n",
       "      <th>...</th>\n",
       "      <th>2015-12-18</th>\n",
       "      <th>2015-12-21</th>\n",
       "      <th>2015-12-22</th>\n",
       "      <th>2015-12-23</th>\n",
       "      <th>2015-12-24</th>\n",
       "      <th>2015-12-25</th>\n",
       "      <th>2015-12-28</th>\n",
       "      <th>2015-12-29</th>\n",
       "      <th>2015-12-30</th>\n",
       "      <th>2015-12-31</th>\n",
       "    </tr>\n",
       "  </thead>\n",
       "  <tbody>\n",
       "    <tr>\n",
       "      <th>0</th>\n",
       "      <td>1</td>\n",
       "      <td>NaN</td>\n",
       "      <td>2015-01-02 16:56:15</td>\n",
       "      <td>2015-01-05 17:20:11</td>\n",
       "      <td>2015-01-06 17:19:05</td>\n",
       "      <td>2015-01-07 16:34:55</td>\n",
       "      <td>2015-01-08 17:08:32</td>\n",
       "      <td>2015-01-09 17:38:29</td>\n",
       "      <td>2015-01-12 16:58:39</td>\n",
       "      <td>2015-01-13 18:02:58</td>\n",
       "      <td>...</td>\n",
       "      <td>NaN</td>\n",
       "      <td>2015-12-21 17:15:50</td>\n",
       "      <td>2015-12-22 17:27:51</td>\n",
       "      <td>2015-12-23 16:44:44</td>\n",
       "      <td>2015-12-24 17:47:22</td>\n",
       "      <td>NaN</td>\n",
       "      <td>2015-12-28 18:00:07</td>\n",
       "      <td>2015-12-29 17:22:30</td>\n",
       "      <td>2015-12-30 17:40:56</td>\n",
       "      <td>2015-12-31 17:17:33</td>\n",
       "    </tr>\n",
       "    <tr>\n",
       "      <th>1</th>\n",
       "      <td>2</td>\n",
       "      <td>NaN</td>\n",
       "      <td>2015-01-02 18:22:17</td>\n",
       "      <td>2015-01-05 17:48:22</td>\n",
       "      <td>NaN</td>\n",
       "      <td>2015-01-07 17:09:06</td>\n",
       "      <td>2015-01-08 17:34:04</td>\n",
       "      <td>2015-01-09 16:52:29</td>\n",
       "      <td>2015-01-12 17:36:48</td>\n",
       "      <td>2015-01-13 18:00:13</td>\n",
       "      <td>...</td>\n",
       "      <td>2015-12-18 18:31:28</td>\n",
       "      <td>2015-12-21 17:34:16</td>\n",
       "      <td>2015-12-22 18:16:35</td>\n",
       "      <td>2015-12-23 17:38:18</td>\n",
       "      <td>NaN</td>\n",
       "      <td>NaN</td>\n",
       "      <td>2015-12-28 17:08:38</td>\n",
       "      <td>2015-12-29 17:54:46</td>\n",
       "      <td>2015-12-30 18:31:35</td>\n",
       "      <td>2015-12-31 17:40:58</td>\n",
       "    </tr>\n",
       "    <tr>\n",
       "      <th>2</th>\n",
       "      <td>3</td>\n",
       "      <td>NaN</td>\n",
       "      <td>2015-01-02 16:59:14</td>\n",
       "      <td>2015-01-05 17:06:46</td>\n",
       "      <td>2015-01-06 16:38:32</td>\n",
       "      <td>2015-01-07 16:33:21</td>\n",
       "      <td>2015-01-08 17:24:22</td>\n",
       "      <td>2015-01-09 16:57:30</td>\n",
       "      <td>2015-01-12 17:28:54</td>\n",
       "      <td>2015-01-13 17:21:25</td>\n",
       "      <td>...</td>\n",
       "      <td>2015-12-18 17:02:23</td>\n",
       "      <td>2015-12-21 17:20:17</td>\n",
       "      <td>2015-12-22 16:32:50</td>\n",
       "      <td>2015-12-23 16:59:43</td>\n",
       "      <td>2015-12-24 16:58:25</td>\n",
       "      <td>NaN</td>\n",
       "      <td>2015-12-28 16:43:31</td>\n",
       "      <td>2015-12-29 17:09:56</td>\n",
       "      <td>2015-12-30 17:06:25</td>\n",
       "      <td>2015-12-31 17:15:50</td>\n",
       "    </tr>\n",
       "    <tr>\n",
       "      <th>3</th>\n",
       "      <td>4</td>\n",
       "      <td>NaN</td>\n",
       "      <td>2015-01-02 17:25:24</td>\n",
       "      <td>2015-01-05 17:14:03</td>\n",
       "      <td>2015-01-06 17:07:42</td>\n",
       "      <td>2015-01-07 16:32:40</td>\n",
       "      <td>2015-01-08 16:53:11</td>\n",
       "      <td>2015-01-09 17:19:47</td>\n",
       "      <td>2015-01-12 17:13:37</td>\n",
       "      <td>2015-01-13 17:11:45</td>\n",
       "      <td>...</td>\n",
       "      <td>2015-12-18 17:55:23</td>\n",
       "      <td>2015-12-21 16:49:09</td>\n",
       "      <td>2015-12-22 17:24:00</td>\n",
       "      <td>2015-12-23 17:36:35</td>\n",
       "      <td>2015-12-24 16:48:21</td>\n",
       "      <td>NaN</td>\n",
       "      <td>2015-12-28 17:19:34</td>\n",
       "      <td>2015-12-29 16:58:16</td>\n",
       "      <td>2015-12-30 17:40:11</td>\n",
       "      <td>2015-12-31 17:09:14</td>\n",
       "    </tr>\n",
       "    <tr>\n",
       "      <th>4</th>\n",
       "      <td>5</td>\n",
       "      <td>NaN</td>\n",
       "      <td>2015-01-02 18:31:37</td>\n",
       "      <td>2015-01-05 17:49:15</td>\n",
       "      <td>2015-01-06 17:26:25</td>\n",
       "      <td>2015-01-07 17:37:59</td>\n",
       "      <td>2015-01-08 17:59:28</td>\n",
       "      <td>2015-01-09 17:44:08</td>\n",
       "      <td>2015-01-12 18:51:21</td>\n",
       "      <td>2015-01-13 18:14:58</td>\n",
       "      <td>...</td>\n",
       "      <td>2015-12-18 17:52:48</td>\n",
       "      <td>2015-12-21 17:43:35</td>\n",
       "      <td>2015-12-22 18:07:57</td>\n",
       "      <td>2015-12-23 18:00:49</td>\n",
       "      <td>2015-12-24 17:59:22</td>\n",
       "      <td>NaN</td>\n",
       "      <td>2015-12-28 17:44:59</td>\n",
       "      <td>2015-12-29 18:47:00</td>\n",
       "      <td>2015-12-30 17:15:33</td>\n",
       "      <td>2015-12-31 17:42:14</td>\n",
       "    </tr>\n",
       "  </tbody>\n",
       "</table>\n",
       "<p>5 rows × 262 columns</p>\n",
       "</div>"
      ],
      "text/plain": [
       "   Unnamed: 0  2015-01-01           2015-01-02           2015-01-05  \\\n",
       "0           1         NaN  2015-01-02 16:56:15  2015-01-05 17:20:11   \n",
       "1           2         NaN  2015-01-02 18:22:17  2015-01-05 17:48:22   \n",
       "2           3         NaN  2015-01-02 16:59:14  2015-01-05 17:06:46   \n",
       "3           4         NaN  2015-01-02 17:25:24  2015-01-05 17:14:03   \n",
       "4           5         NaN  2015-01-02 18:31:37  2015-01-05 17:49:15   \n",
       "\n",
       "            2015-01-06           2015-01-07           2015-01-08  \\\n",
       "0  2015-01-06 17:19:05  2015-01-07 16:34:55  2015-01-08 17:08:32   \n",
       "1                  NaN  2015-01-07 17:09:06  2015-01-08 17:34:04   \n",
       "2  2015-01-06 16:38:32  2015-01-07 16:33:21  2015-01-08 17:24:22   \n",
       "3  2015-01-06 17:07:42  2015-01-07 16:32:40  2015-01-08 16:53:11   \n",
       "4  2015-01-06 17:26:25  2015-01-07 17:37:59  2015-01-08 17:59:28   \n",
       "\n",
       "            2015-01-09           2015-01-12           2015-01-13  ...  \\\n",
       "0  2015-01-09 17:38:29  2015-01-12 16:58:39  2015-01-13 18:02:58  ...   \n",
       "1  2015-01-09 16:52:29  2015-01-12 17:36:48  2015-01-13 18:00:13  ...   \n",
       "2  2015-01-09 16:57:30  2015-01-12 17:28:54  2015-01-13 17:21:25  ...   \n",
       "3  2015-01-09 17:19:47  2015-01-12 17:13:37  2015-01-13 17:11:45  ...   \n",
       "4  2015-01-09 17:44:08  2015-01-12 18:51:21  2015-01-13 18:14:58  ...   \n",
       "\n",
       "            2015-12-18           2015-12-21           2015-12-22  \\\n",
       "0                  NaN  2015-12-21 17:15:50  2015-12-22 17:27:51   \n",
       "1  2015-12-18 18:31:28  2015-12-21 17:34:16  2015-12-22 18:16:35   \n",
       "2  2015-12-18 17:02:23  2015-12-21 17:20:17  2015-12-22 16:32:50   \n",
       "3  2015-12-18 17:55:23  2015-12-21 16:49:09  2015-12-22 17:24:00   \n",
       "4  2015-12-18 17:52:48  2015-12-21 17:43:35  2015-12-22 18:07:57   \n",
       "\n",
       "            2015-12-23           2015-12-24 2015-12-25           2015-12-28  \\\n",
       "0  2015-12-23 16:44:44  2015-12-24 17:47:22        NaN  2015-12-28 18:00:07   \n",
       "1  2015-12-23 17:38:18                  NaN        NaN  2015-12-28 17:08:38   \n",
       "2  2015-12-23 16:59:43  2015-12-24 16:58:25        NaN  2015-12-28 16:43:31   \n",
       "3  2015-12-23 17:36:35  2015-12-24 16:48:21        NaN  2015-12-28 17:19:34   \n",
       "4  2015-12-23 18:00:49  2015-12-24 17:59:22        NaN  2015-12-28 17:44:59   \n",
       "\n",
       "            2015-12-29           2015-12-30           2015-12-31  \n",
       "0  2015-12-29 17:22:30  2015-12-30 17:40:56  2015-12-31 17:17:33  \n",
       "1  2015-12-29 17:54:46  2015-12-30 18:31:35  2015-12-31 17:40:58  \n",
       "2  2015-12-29 17:09:56  2015-12-30 17:06:25  2015-12-31 17:15:50  \n",
       "3  2015-12-29 16:58:16  2015-12-30 17:40:11  2015-12-31 17:09:14  \n",
       "4  2015-12-29 18:47:00  2015-12-30 17:15:33  2015-12-31 17:42:14  \n",
       "\n",
       "[5 rows x 262 columns]"
      ]
     },
     "execution_count": 102,
     "metadata": {},
     "output_type": "execute_result"
    }
   ],
   "source": [
    "df_out.head(5)"
   ]
  },
  {
   "cell_type": "markdown",
   "metadata": {},
   "source": [
    "## Comprensión y limpieza de datos"
   ]
  },
  {
   "cell_type": "markdown",
   "metadata": {},
   "source": [
    "En este sección de exploran las bases de datos, se verifican datos nulos y se asigna el tipo de dato correcto para cada variable. "
   ]
  },
  {
   "cell_type": "markdown",
   "metadata": {},
   "source": [
    "1. Exploración de tipo de datos, nulos, información de variables"
   ]
  },
  {
   "cell_type": "code",
   "execution_count": 108,
   "metadata": {},
   "outputs": [
    {
     "name": "stdout",
     "output_type": "stream",
     "text": [
      "<class 'pandas.core.frame.DataFrame'>\n",
      "RangeIndex: 4410 entries, 0 to 4409\n",
      "Data columns (total 23 columns):\n",
      " #   Column                   Non-Null Count  Dtype  \n",
      "---  ------                   --------------  -----  \n",
      " 0   Age                      4410 non-null   int64  \n",
      " 1   BusinessTravel           4410 non-null   object \n",
      " 2   Department               4410 non-null   object \n",
      " 3   DistanceFromHome         4410 non-null   int64  \n",
      " 4   Education                4410 non-null   int64  \n",
      " 5   EducationField           4410 non-null   object \n",
      " 6   EmployeeCount            4410 non-null   int64  \n",
      " 7   EmployeeID               4410 non-null   int64  \n",
      " 8   Gender                   4410 non-null   object \n",
      " 9   JobLevel                 4410 non-null   int64  \n",
      " 10  JobRole                  4410 non-null   object \n",
      " 11  MaritalStatus            4410 non-null   object \n",
      " 12  MonthlyIncome            4410 non-null   int64  \n",
      " 13  NumCompaniesWorked       4391 non-null   float64\n",
      " 14  Over18                   4410 non-null   object \n",
      " 15  PercentSalaryHike        4410 non-null   int64  \n",
      " 16  StandardHours            4410 non-null   int64  \n",
      " 17  StockOptionLevel         4410 non-null   int64  \n",
      " 18  TotalWorkingYears        4401 non-null   float64\n",
      " 19  TrainingTimesLastYear    4410 non-null   int64  \n",
      " 20  YearsAtCompany           4410 non-null   int64  \n",
      " 21  YearsSinceLastPromotion  4410 non-null   int64  \n",
      " 22  YearsWithCurrManager     4410 non-null   int64  \n",
      "dtypes: float64(2), int64(14), object(7)\n",
      "memory usage: 792.5+ KB\n"
     ]
    }
   ],
   "source": [
    "df_general.info() # solo hay nulos "
   ]
  },
  {
   "cell_type": "code",
   "execution_count": 72,
   "metadata": {},
   "outputs": [
    {
     "name": "stdout",
     "output_type": "stream",
     "text": [
      "<class 'pandas.core.frame.DataFrame'>\n",
      "RangeIndex: 4410 entries, 0 to 4409\n",
      "Data columns (total 3 columns):\n",
      " #   Column             Non-Null Count  Dtype\n",
      "---  ------             --------------  -----\n",
      " 0   EmployeeID         4410 non-null   int64\n",
      " 1   JobInvolvement     4410 non-null   int64\n",
      " 2   PerformanceRating  4410 non-null   int64\n",
      "dtypes: int64(3)\n",
      "memory usage: 103.5 KB\n"
     ]
    }
   ],
   "source": [
    "df_manager_s.info() # no hay nulos"
   ]
  },
  {
   "cell_type": "code",
   "execution_count": 73,
   "metadata": {},
   "outputs": [
    {
     "name": "stdout",
     "output_type": "stream",
     "text": [
      "<class 'pandas.core.frame.DataFrame'>\n",
      "RangeIndex: 4410 entries, 0 to 4409\n",
      "Data columns (total 4 columns):\n",
      " #   Column                   Non-Null Count  Dtype  \n",
      "---  ------                   --------------  -----  \n",
      " 0   EmployeeID               4410 non-null   int64  \n",
      " 1   EnvironmentSatisfaction  4385 non-null   float64\n",
      " 2   JobSatisfaction          4390 non-null   float64\n",
      " 3   WorkLifeBalance          4372 non-null   float64\n",
      "dtypes: float64(3), int64(1)\n",
      "memory usage: 137.9 KB\n"
     ]
    }
   ],
   "source": [
    "df_employee_s.info() # hay nulos"
   ]
  },
  {
   "cell_type": "code",
   "execution_count": 74,
   "metadata": {},
   "outputs": [
    {
     "name": "stdout",
     "output_type": "stream",
     "text": [
      "<class 'pandas.core.frame.DataFrame'>\n",
      "RangeIndex: 711 entries, 0 to 710\n",
      "Data columns (total 5 columns):\n",
      " #   Column             Non-Null Count  Dtype \n",
      "---  ------             --------------  ----- \n",
      " 0   EmployeeID         711 non-null    int64 \n",
      " 1   Attrition          711 non-null    object\n",
      " 2   retirementDate     711 non-null    object\n",
      " 3   retirementType     711 non-null    object\n",
      " 4   resignationReason  641 non-null    object\n",
      "dtypes: int64(1), object(4)\n",
      "memory usage: 27.9+ KB\n"
     ]
    }
   ],
   "source": [
    "df_retirement.info() # si hay nulos, pero solo en las razones de la renuncia "
   ]
  },
  {
   "cell_type": "code",
   "execution_count": 75,
   "metadata": {},
   "outputs": [],
   "source": [
    "#df_in.isnull().sum()# si hay nulos"
   ]
  },
  {
   "cell_type": "code",
   "execution_count": 76,
   "metadata": {},
   "outputs": [],
   "source": [
    "#df_out.isnull().sum() # hay nulos"
   ]
  },
  {
   "cell_type": "code",
   "execution_count": 77,
   "metadata": {},
   "outputs": [
    {
     "name": "stdout",
     "output_type": "stream",
     "text": [
      "Attrition\n",
      "['Yes']\n",
      "______________________________________________________\n",
      "retirementType\n",
      "['Resignation' 'Fired']\n",
      "______________________________________________________\n",
      "resignationReason\n",
      "['Others' 'Stress' 'Salary' nan]\n",
      "______________________________________________________\n"
     ]
    }
   ],
   "source": [
    "lista = [ 'Attrition', 'retirementType','resignationReason']\n",
    "for i in lista:\n",
    "    print(i)\n",
    "    print(df_retirement[i].unique())\n",
    "    print('______________________________________________________')"
   ]
  },
  {
   "cell_type": "code",
   "execution_count": 78,
   "metadata": {},
   "outputs": [
    {
     "name": "stdout",
     "output_type": "stream",
     "text": [
      "Attrition\n",
      "Yes    711\n",
      "Name: Attrition, dtype: int64\n",
      "______________________________________________________\n",
      "retirementType\n",
      "Resignation    641\n",
      "Fired           70\n",
      "Name: retirementType, dtype: int64\n",
      "______________________________________________________\n",
      "resignationReason\n",
      "Others    323\n",
      "Salary    189\n",
      "Stress    129\n",
      "Name: resignationReason, dtype: int64\n",
      "______________________________________________________\n"
     ]
    }
   ],
   "source": [
    "lista = [ 'Attrition', 'retirementType','resignationReason']\n",
    "for i in lista:\n",
    "    print(i)\n",
    "    print(df_retirement[i].value_counts())\n",
    "    print('______________________________________________________')"
   ]
  },
  {
   "cell_type": "markdown",
   "metadata": {},
   "source": [
    "2. Modificaciones a la base de datos generales de los empleados (eliminación datos nulos y cambio de tipo de variable)"
   ]
  },
  {
   "cell_type": "code",
   "execution_count": 79,
   "metadata": {},
   "outputs": [
    {
     "data": {
      "text/html": [
       "<div>\n",
       "<style scoped>\n",
       "    .dataframe tbody tr th:only-of-type {\n",
       "        vertical-align: middle;\n",
       "    }\n",
       "\n",
       "    .dataframe tbody tr th {\n",
       "        vertical-align: top;\n",
       "    }\n",
       "\n",
       "    .dataframe thead th {\n",
       "        text-align: right;\n",
       "    }\n",
       "</style>\n",
       "<table border=\"1\" class=\"dataframe\">\n",
       "  <thead>\n",
       "    <tr style=\"text-align: right;\">\n",
       "      <th></th>\n",
       "      <th>BusinessTravel</th>\n",
       "      <th>Department</th>\n",
       "      <th>EducationField</th>\n",
       "      <th>Gender</th>\n",
       "      <th>JobRole</th>\n",
       "      <th>MaritalStatus</th>\n",
       "      <th>Over18</th>\n",
       "    </tr>\n",
       "  </thead>\n",
       "  <tbody>\n",
       "    <tr>\n",
       "      <th>0</th>\n",
       "      <td>Travel_Rarely</td>\n",
       "      <td>Sales</td>\n",
       "      <td>Life Sciences</td>\n",
       "      <td>Female</td>\n",
       "      <td>Healthcare Representative</td>\n",
       "      <td>Married</td>\n",
       "      <td>Y</td>\n",
       "    </tr>\n",
       "    <tr>\n",
       "      <th>1</th>\n",
       "      <td>Travel_Frequently</td>\n",
       "      <td>Research &amp; Development</td>\n",
       "      <td>Life Sciences</td>\n",
       "      <td>Female</td>\n",
       "      <td>Research Scientist</td>\n",
       "      <td>Single</td>\n",
       "      <td>Y</td>\n",
       "    </tr>\n",
       "    <tr>\n",
       "      <th>2</th>\n",
       "      <td>Travel_Frequently</td>\n",
       "      <td>Research &amp; Development</td>\n",
       "      <td>Other</td>\n",
       "      <td>Male</td>\n",
       "      <td>Sales Executive</td>\n",
       "      <td>Married</td>\n",
       "      <td>Y</td>\n",
       "    </tr>\n",
       "    <tr>\n",
       "      <th>3</th>\n",
       "      <td>Non-Travel</td>\n",
       "      <td>Research &amp; Development</td>\n",
       "      <td>Life Sciences</td>\n",
       "      <td>Male</td>\n",
       "      <td>Human Resources</td>\n",
       "      <td>Married</td>\n",
       "      <td>Y</td>\n",
       "    </tr>\n",
       "    <tr>\n",
       "      <th>4</th>\n",
       "      <td>Travel_Rarely</td>\n",
       "      <td>Research &amp; Development</td>\n",
       "      <td>Medical</td>\n",
       "      <td>Male</td>\n",
       "      <td>Sales Executive</td>\n",
       "      <td>Single</td>\n",
       "      <td>Y</td>\n",
       "    </tr>\n",
       "  </tbody>\n",
       "</table>\n",
       "</div>"
      ],
      "text/plain": [
       "      BusinessTravel              Department EducationField  Gender  \\\n",
       "0      Travel_Rarely                   Sales  Life Sciences  Female   \n",
       "1  Travel_Frequently  Research & Development  Life Sciences  Female   \n",
       "2  Travel_Frequently  Research & Development          Other    Male   \n",
       "3         Non-Travel  Research & Development  Life Sciences    Male   \n",
       "4      Travel_Rarely  Research & Development        Medical    Male   \n",
       "\n",
       "                     JobRole MaritalStatus Over18  \n",
       "0  Healthcare Representative       Married      Y  \n",
       "1         Research Scientist        Single      Y  \n",
       "2            Sales Executive       Married      Y  \n",
       "3            Human Resources       Married      Y  \n",
       "4            Sales Executive        Single      Y  "
      ]
     },
     "execution_count": 79,
     "metadata": {},
     "output_type": "execute_result"
    }
   ],
   "source": [
    "obj = (df_general.dtypes == object) #Filtrar variables categóricas\n",
    "obj_cols = [c for c in obj.index if obj[c]] \n",
    "df_general_obj = df_general[obj_cols]\n",
    "df_general_obj.head(5)"
   ]
  },
  {
   "cell_type": "code",
   "execution_count": 80,
   "metadata": {},
   "outputs": [
    {
     "name": "stdout",
     "output_type": "stream",
     "text": [
      "BusinessTravel\n",
      "Travel_Rarely        3129\n",
      "Travel_Frequently     831\n",
      "Non-Travel            450\n",
      "Name: BusinessTravel, dtype: int64\n",
      "______________________________________________________\n",
      "Department\n",
      "Research & Development    2883\n",
      "Sales                     1338\n",
      "Human Resources            189\n",
      "Name: Department, dtype: int64\n",
      "______________________________________________________\n",
      "EducationField\n",
      "Life Sciences       1818\n",
      "Medical             1392\n",
      "Marketing            477\n",
      "Technical Degree     396\n",
      "Other                246\n",
      "Human Resources       81\n",
      "Name: EducationField, dtype: int64\n",
      "______________________________________________________\n",
      "Gender\n",
      "Male      2646\n",
      "Female    1764\n",
      "Name: Gender, dtype: int64\n",
      "______________________________________________________\n",
      "JobRole\n",
      "Sales Executive              978\n",
      "Research Scientist           876\n",
      "Laboratory Technician        777\n",
      "Manufacturing Director       435\n",
      "Healthcare Representative    393\n",
      "Manager                      306\n",
      "Sales Representative         249\n",
      "Research Director            240\n",
      "Human Resources              156\n",
      "Name: JobRole, dtype: int64\n",
      "______________________________________________________\n",
      "MaritalStatus\n",
      "Married     2019\n",
      "Single      1410\n",
      "Divorced     981\n",
      "Name: MaritalStatus, dtype: int64\n",
      "______________________________________________________\n",
      "Over18\n",
      "Y    4410\n",
      "Name: Over18, dtype: int64\n",
      "______________________________________________________\n"
     ]
    }
   ],
   "source": [
    "lista = df_general_obj.columns\n",
    "for i in lista:\n",
    "    print(i)\n",
    "    print(df_general[i].value_counts())\n",
    "    print('______________________________________________________')"
   ]
  },
  {
   "cell_type": "code",
   "execution_count": 81,
   "metadata": {},
   "outputs": [
    {
     "name": "stdout",
     "output_type": "stream",
     "text": [
      "JobRole\n",
      "Sales Executive              978\n",
      "Research Scientist           876\n",
      "Laboratory Technician        777\n",
      "Manufacturing Director       435\n",
      "Healthcare Representative    393\n",
      "Manager                      306\n",
      "Sales Representative         249\n",
      "Research Director            240\n",
      "Human Resources              156\n",
      "Name: JobRole, dtype: int64\n",
      "______________________________________________________\n",
      "MaritalStatus\n",
      "Married     2019\n",
      "Single      1410\n",
      "Divorced     981\n",
      "Name: MaritalStatus, dtype: int64\n",
      "______________________________________________________\n"
     ]
    }
   ],
   "source": [
    "lista = [ 'JobRole', 'MaritalStatus']\n",
    "for i in lista:\n",
    "    print(i)\n",
    "    print(df_general_obj[i].value_counts())\n",
    "    print('______________________________________________________')"
   ]
  },
  {
   "cell_type": "code",
   "execution_count": 82,
   "metadata": {},
   "outputs": [
    {
     "data": {
      "text/plain": [
       "Index(['Age', 'BusinessTravel', 'Department', 'DistanceFromHome', 'Education',\n",
       "       'EducationField', 'EmployeeCount', 'EmployeeID', 'Gender', 'JobLevel',\n",
       "       'JobRole', 'MaritalStatus', 'MonthlyIncome', 'NumCompaniesWorked',\n",
       "       'Over18', 'PercentSalaryHike', 'StandardHours', 'StockOptionLevel',\n",
       "       'TotalWorkingYears', 'TrainingTimesLastYear', 'YearsAtCompany',\n",
       "       'YearsSinceLastPromotion', 'YearsWithCurrManager'],\n",
       "      dtype='object')"
      ]
     },
     "execution_count": 82,
     "metadata": {},
     "output_type": "execute_result"
    }
   ],
   "source": [
    "df_general.columns"
   ]
  },
  {
   "cell_type": "code",
   "execution_count": 83,
   "metadata": {},
   "outputs": [
    {
     "data": {
      "text/plain": [
       "1    4410\n",
       "Name: EmployeeCount, dtype: int64"
      ]
     },
     "execution_count": 83,
     "metadata": {},
     "output_type": "execute_result"
    }
   ],
   "source": [
    "df_general['EmployeeCount'].value_counts()"
   ]
  },
  {
   "cell_type": "code",
   "execution_count": 84,
   "metadata": {},
   "outputs": [
    {
     "data": {
      "text/plain": [
       "0    1893\n",
       "1    1788\n",
       "2     474\n",
       "3     255\n",
       "Name: StockOptionLevel, dtype: int64"
      ]
     },
     "execution_count": 84,
     "metadata": {},
     "output_type": "execute_result"
    }
   ],
   "source": [
    "df_general['StockOptionLevel'].value_counts()"
   ]
  },
  {
   "cell_type": "code",
   "execution_count": 85,
   "metadata": {},
   "outputs": [],
   "source": [
    "#eliminar EmployeeCount, Over18\n",
    "#Desconocimiento sobre StockOptionLevel, YearsSinceLastPromotion"
   ]
  },
  {
   "cell_type": "code",
   "execution_count": 86,
   "metadata": {},
   "outputs": [],
   "source": [
    "df_general = df_general.drop(['EmployeeCount', 'Over18'], axis = 1)"
   ]
  },
  {
   "cell_type": "code",
   "execution_count": 87,
   "metadata": {},
   "outputs": [],
   "source": [
    "#eliminación de datos nulos de la base datos generales de los empleados, \n",
    "df_general = df_general.dropna()"
   ]
  },
  {
   "cell_type": "code",
   "execution_count": 88,
   "metadata": {},
   "outputs": [],
   "source": [
    "#Cambio tipo de variable \n",
    "df_general= df_general.astype({'TotalWorkingYears' : int })\n",
    "df_general= df_general.astype({'NumCompaniesWorked' : int })\n"
   ]
  },
  {
   "cell_type": "code",
   "execution_count": 89,
   "metadata": {},
   "outputs": [
    {
     "data": {
      "text/plain": [
       "array([ 1,  6,  5, 13,  9, 28, 10, 21, 16, 37,  7,  3, 15,  8, 12, 17, 19,\n",
       "       22,  2,  4, 23,  0, 11, 24, 25, 20, 14, 26, 18, 30, 36, 31, 33, 32,\n",
       "       34, 40, 29, 35, 27, 38])"
      ]
     },
     "execution_count": 89,
     "metadata": {},
     "output_type": "execute_result"
    }
   ],
   "source": [
    "df_general['TotalWorkingYears'].unique()"
   ]
  },
  {
   "cell_type": "code",
   "execution_count": 90,
   "metadata": {},
   "outputs": [
    {
     "name": "stdout",
     "output_type": "stream",
     "text": [
      "<class 'pandas.core.frame.DataFrame'>\n",
      "Int64Index: 4382 entries, 0 to 4408\n",
      "Data columns (total 21 columns):\n",
      " #   Column                   Non-Null Count  Dtype \n",
      "---  ------                   --------------  ----- \n",
      " 0   Age                      4382 non-null   int64 \n",
      " 1   BusinessTravel           4382 non-null   object\n",
      " 2   Department               4382 non-null   object\n",
      " 3   DistanceFromHome         4382 non-null   int64 \n",
      " 4   Education                4382 non-null   int64 \n",
      " 5   EducationField           4382 non-null   object\n",
      " 6   EmployeeID               4382 non-null   int64 \n",
      " 7   Gender                   4382 non-null   object\n",
      " 8   JobLevel                 4382 non-null   int64 \n",
      " 9   JobRole                  4382 non-null   object\n",
      " 10  MaritalStatus            4382 non-null   object\n",
      " 11  MonthlyIncome            4382 non-null   int64 \n",
      " 12  NumCompaniesWorked       4382 non-null   int32 \n",
      " 13  PercentSalaryHike        4382 non-null   int64 \n",
      " 14  StandardHours            4382 non-null   int64 \n",
      " 15  StockOptionLevel         4382 non-null   int64 \n",
      " 16  TotalWorkingYears        4382 non-null   int32 \n",
      " 17  TrainingTimesLastYear    4382 non-null   int64 \n",
      " 18  YearsAtCompany           4382 non-null   int64 \n",
      " 19  YearsSinceLastPromotion  4382 non-null   int64 \n",
      " 20  YearsWithCurrManager     4382 non-null   int64 \n",
      "dtypes: int32(2), int64(13), object(6)\n",
      "memory usage: 718.9+ KB\n"
     ]
    }
   ],
   "source": [
    "df_general.info()"
   ]
  },
  {
   "cell_type": "markdown",
   "metadata": {},
   "source": [
    "3. Modificaciones a la base de la encuesta de empleados"
   ]
  },
  {
   "cell_type": "code",
   "execution_count": 91,
   "metadata": {},
   "outputs": [
    {
     "data": {
      "text/plain": [
       "3.0    1350\n",
       "4.0    1334\n",
       "2.0     856\n",
       "1.0     845\n",
       "Name: EnvironmentSatisfaction, dtype: int64"
      ]
     },
     "execution_count": 91,
     "metadata": {},
     "output_type": "execute_result"
    }
   ],
   "source": [
    "df_employee_s['EnvironmentSatisfaction'].value_counts()"
   ]
  },
  {
   "cell_type": "code",
   "execution_count": 92,
   "metadata": {},
   "outputs": [
    {
     "data": {
      "text/plain": [
       "3.0    1350\n",
       "4.0    1334\n",
       "2.0     856\n",
       "1.0     845\n",
       "Name: EnvironmentSatisfaction, dtype: int64"
      ]
     },
     "execution_count": 92,
     "metadata": {},
     "output_type": "execute_result"
    }
   ],
   "source": [
    "df_employee_s['EnvironmentSatisfaction'].value_counts()"
   ]
  },
  {
   "cell_type": "code",
   "execution_count": 93,
   "metadata": {},
   "outputs": [],
   "source": [
    "#eliminación de datos nulos \n",
    "df_employee_s = df_employee_s.dropna()"
   ]
  },
  {
   "cell_type": "code",
   "execution_count": 94,
   "metadata": {},
   "outputs": [],
   "source": [
    "#Cambio tipo de variable float a int\n",
    "df_employee_s= df_employee_s.astype({'EnvironmentSatisfaction' : int })\n",
    "df_employee_s= df_employee_s.astype({'JobSatisfaction' : int })\n",
    "df_employee_s= df_employee_s.astype({'WorkLifeBalance' : int })"
   ]
  },
  {
   "cell_type": "markdown",
   "metadata": {},
   "source": [
    "4. Modificación de la base de datos de la encuesta del gerente"
   ]
  },
  {
   "cell_type": "code",
   "execution_count": 107,
   "metadata": {},
   "outputs": [
    {
     "name": "stdout",
     "output_type": "stream",
     "text": [
      "<class 'pandas.core.frame.DataFrame'>\n",
      "RangeIndex: 4410 entries, 0 to 4409\n",
      "Data columns (total 3 columns):\n",
      " #   Column             Non-Null Count  Dtype\n",
      "---  ------             --------------  -----\n",
      " 0   EmployeeID         4410 non-null   int64\n",
      " 1   JobInvolvement     4410 non-null   int64\n",
      " 2   PerformanceRating  4410 non-null   int64\n",
      "dtypes: int64(3)\n",
      "memory usage: 103.5 KB\n"
     ]
    }
   ],
   "source": [
    "df_manager_s.info()"
   ]
  },
  {
   "cell_type": "markdown",
   "metadata": {},
   "source": [
    "Nota: no se hizo ninguna modificación debido a que no hay nulos y las variables tienen asignada una tipo de dato correcto"
   ]
  },
  {
   "cell_type": "markdown",
   "metadata": {},
   "source": [
    "5. Modificación de la base de datos de los empleados retirados de la empresa"
   ]
  },
  {
   "cell_type": "code",
   "execution_count": 96,
   "metadata": {},
   "outputs": [
    {
     "name": "stdout",
     "output_type": "stream",
     "text": [
      "<class 'pandas.core.frame.DataFrame'>\n",
      "RangeIndex: 711 entries, 0 to 710\n",
      "Data columns (total 5 columns):\n",
      " #   Column             Non-Null Count  Dtype \n",
      "---  ------             --------------  ----- \n",
      " 0   EmployeeID         711 non-null    int64 \n",
      " 1   Attrition          711 non-null    object\n",
      " 2   retirementDate     711 non-null    object\n",
      " 3   retirementType     711 non-null    object\n",
      " 4   resignationReason  641 non-null    object\n",
      "dtypes: int64(1), object(4)\n",
      "memory usage: 27.9+ KB\n"
     ]
    }
   ],
   "source": [
    "df_retirement.info() #existen datos nulos en la variable de razones de renuncia"
   ]
  },
  {
   "cell_type": "code",
   "execution_count": 97,
   "metadata": {},
   "outputs": [
    {
     "data": {
      "text/plain": [
       "Others    323\n",
       "Salary    189\n",
       "Stress    129\n",
       "Name: resignationReason, dtype: int64"
      ]
     },
     "execution_count": 97,
     "metadata": {},
     "output_type": "execute_result"
    }
   ],
   "source": [
    "df_retirement['resignationReason'].value_counts()"
   ]
  },
  {
   "cell_type": "code",
   "execution_count": 98,
   "metadata": {},
   "outputs": [],
   "source": [
    "#se llenan los datos nulos con una nueva categoría llamada \"no information\"\n",
    "df_retirement['resignationReason']= df_retirement['resignationReason'].fillna('No information')"
   ]
  },
  {
   "cell_type": "markdown",
   "metadata": {},
   "source": [
    "Nota: no se tendrán en cuenta las bases de datos \"in_time\" y \"out_time\" debido a que no se encontrarón relvantes para el estudio. "
   ]
  },
  {
   "cell_type": "markdown",
   "metadata": {},
   "source": [
    "## Análisis exploratorio"
   ]
  }
 ],
 "metadata": {
  "interpreter": {
   "hash": "4ece68257f16fadf554c9d1af0c3d1157deafcfe1809e7eff8140b3965cbdc11"
  },
  "kernelspec": {
   "display_name": "Python 3.10.4 64-bit",
   "language": "python",
   "name": "python3"
  },
  "language_info": {
   "codemirror_mode": {
    "name": "ipython",
    "version": 3
   },
   "file_extension": ".py",
   "mimetype": "text/x-python",
   "name": "python",
   "nbconvert_exporter": "python",
   "pygments_lexer": "ipython3",
   "version": "3.10.4"
  },
  "orig_nbformat": 4
 },
 "nbformat": 4,
 "nbformat_minor": 2
}
